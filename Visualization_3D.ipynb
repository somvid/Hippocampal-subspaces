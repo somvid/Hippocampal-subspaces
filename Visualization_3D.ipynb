{
 "cells": [
  {
   "cell_type": "markdown",
   "id": "29f63235",
   "metadata": {},
   "source": [
    "## Import"
   ]
  },
  {
   "cell_type": "code",
   "execution_count": 1,
   "id": "04703d19-5a52-4957-a81d-7ebf3ac0d027",
   "metadata": {
    "collapsed": true,
    "jupyter": {
     "outputs_hidden": true
    }
   },
   "outputs": [
    {
     "name": "stderr",
     "output_type": "stream",
     "text": [
      "/home/dasom/anaconda3/envs/p38/lib/python3.8/site-packages/nilearn/datasets/__init__.py:93: FutureWarning: Fetchers from the nilearn.datasets module will be updated in version 0.9 to return python strings instead of bytes and Pandas dataframes instead of Numpy arrays.\n",
      "  warn(\"Fetchers from the nilearn.datasets module will be \"\n"
     ]
    }
   ],
   "source": [
    "from ipywidgets import *\n",
    "from cycler import cycler\n",
    "from sklearn.decomposition import PCA\n",
    "import numpy as np\n",
    "import nibabel as nib\n",
    "import matplotlib as mpl\n",
    "import matplotlib.pyplot as plt\n",
    "import warnings\n",
    "warnings.filterwarnings(action='ignore')\n",
    "\n",
    "np.set_printoptions(suppress=True)\n",
    "\n",
    "mpl.rcParams['axes.linewidth'] = 2\n",
    "mpl.rcParams['xtick.major.width'] = 2\n",
    "mpl.rcParams['ytick.major.width'] = 2\n",
    "mpl.rcParams['xtick.major.size'] = 5\n",
    "mpl.rcParams['ytick.major.size'] = 5\n",
    "mpl.rcParams['axes.spines.top'] = False\n",
    "mpl.rcParams['axes.spines.right'] = False\n",
    "mpl.rcParams['axes.spines.bottom'] = False\n",
    "mpl.rcParams['axes.spines.left'] = True\n",
    "\n",
    "def cos_sim(A, B):\n",
    "    return np.dot(A, B)/(np.linalg.norm(A)*np.linalg.norm(B))"
   ]
  },
  {
   "cell_type": "code",
   "execution_count": null,
   "id": "5dabdca1",
   "metadata": {},
   "outputs": [],
   "source": [
    "brain_mask = nib.load(f'/home/dasom/SM_DATA/mri_data/mask_files/MNI152NLin2009cAsym_3mm_mask.nii.gz').get_fdata()\n",
    "mask = nib.load('/home/dasom/SM_DATA/mri_data/mask_files/BNA_3mm_atlas.nii.gz').get_fdata()"
   ]
  },
  {
   "cell_type": "code",
   "execution_count": null,
   "id": "060e8dfe",
   "metadata": {},
   "outputs": [],
   "source": [
    "beta_true_novelty = np.load('/media/dasom/caee0336-77a9-438c-af2f-7cf5b88293e7/dasom/Neural_subspace/results/beta_true_novelty.npy')\n",
    "beta_perm_novelty = np.load('/media/dasom/caee0336-77a9-438c-af2f-7cf5b88293e7/dasom/Neural_subspace/results/beta_perm_novelty.npy')\n",
    "beta_true_memory = np.load('/media/dasom/caee0336-77a9-438c-af2f-7cf5b88293e7/dasom/Neural_subspace/results/beta_true_memory.npy')\n",
    "beta_perm_memory = np.load('/media/dasom/caee0336-77a9-438c-af2f-7cf5b88293e7/dasom/Neural_subspace/results/beta_perm_memory.npy')\n",
    "beta_true_recall = np.load('/media/dasom/caee0336-77a9-438c-af2f-7cf5b88293e7/dasom/Neural_subspace/results/beta_true_recall_start.npy')\n",
    "beta_perm_recall = np.load('/media/dasom/caee0336-77a9-438c-af2f-7cf5b88293e7/dasom/Neural_subspace/results/beta_perm_recall_start.npy')"
   ]
  },
  {
   "cell_type": "code",
   "execution_count": null,
   "id": "5dee1ff9",
   "metadata": {},
   "outputs": [],
   "source": [
    "num_pcs = 5\n",
    "\n",
    "pca_1 = PCA(n_components=12)\n",
    "data_1 = np.mean(beta_true_novelty[0], axis=0)[:,0].T\n",
    "pca_1.fit(data_1.T)\n",
    "\n",
    "direction = [1] * 5 # [1,-1,1,-1,1]\n",
    "\n",
    "fig = plt.figure(figsize=(num_pcs*3, 3))\n",
    "for i in range(num_pcs):\n",
    "    x = np.hstack([np.where(mask == r)[0] for r in [215,216,217,218]])\n",
    "    y = np.hstack([np.where(mask == r)[1] for r in [215,216,217,218]])\n",
    "    z = np.hstack([np.where(mask == r)[2] for r in [215,216,217,218]])\n",
    "\n",
    "    xyz = np.vstack([x,y,z])\n",
    "    density = pca_1.components_[i] * direction[i]\n",
    "\n",
    "    idx = density.argsort()\n",
    "    x, y, z, density = x[idx], y[idx], z[idx], density[idx]\n",
    "\n",
    "    axs = fig.add_subplot(1,num_pcs,i+1, projection='3d')\n",
    "    axs.scatter(x, y, z, c=density, cmap = \"RdYlBu_r\", alpha = 0.5, marker = \"o\", linewidth = 3, vmin = -0.1, vmax = 0.1)\n",
    "\n",
    "    axs.grid(False)\n",
    "    axs.set_xticks([])\n",
    "    axs.set_yticks([])\n",
    "    axs.set_zticks([])\n",
    "    axs.view_init(30, 60)\n",
    "\n",
    "fig.tight_layout()\n",
    "plt.imshow\n",
    "\n",
    "# fig.savefig('/home/dasom/Dropbox/ubuntu-window/미팅자료/Neural_dynamics/Memory_novelty_cooccur_valence/PC_gradients_recall_start.png',dpi=300, bbox_inches = \"tight\")"
   ]
  },
  {
   "cell_type": "code",
   "execution_count": null,
   "id": "78e48baa",
   "metadata": {},
   "outputs": [],
   "source": [
    "novelty_co_space_novelty_true = np.load('/media/dasom/caee0336-77a9-438c-af2f-7cf5b88293e7/dasom/Neural_subspace/results/novelty_co_space_novelty_true.npy')\n",
    "novelty_co_space_novelty_perm = np.load('/media/dasom/caee0336-77a9-438c-af2f-7cf5b88293e7/dasom/Neural_subspace/results/novelty_co_space_novelty_perm.npy')\n",
    "novelty_val_space_novelty_true = np.load('/media/dasom/caee0336-77a9-438c-af2f-7cf5b88293e7/dasom/Neural_subspace/results/novelty_val_space_novelty_true.npy')\n",
    "novelty_val_space_novelty_perm = np.load('/media/dasom/caee0336-77a9-438c-af2f-7cf5b88293e7/dasom/Neural_subspace/results/novelty_val_space_novelty_perm.npy')\n",
    "\n",
    "novelty_co_space_memory_true = np.load('/media/dasom/caee0336-77a9-438c-af2f-7cf5b88293e7/dasom/Neural_subspace/results/novelty_co_space_memory_true.npy')\n",
    "novelty_co_space_memory_perm = np.load('/media/dasom/caee0336-77a9-438c-af2f-7cf5b88293e7/dasom/Neural_subspace/results/novelty_co_space_memory_perm.npy')\n",
    "novelty_val_space_memory_true = np.load('/media/dasom/caee0336-77a9-438c-af2f-7cf5b88293e7/dasom/Neural_subspace/results/novelty_val_space_memory_true.npy')\n",
    "novelty_val_space_memory_perm = np.load('/media/dasom/caee0336-77a9-438c-af2f-7cf5b88293e7/dasom/Neural_subspace/results/novelty_val_space_memory_perm.npy')\n",
    "\n",
    "memory_space_memory_true = np.load('/media/dasom/caee0336-77a9-438c-af2f-7cf5b88293e7/dasom/Neural_subspace/results/memory_space_memory_true.npy')\n",
    "memory_space_memory_perm = np.load('/media/dasom/caee0336-77a9-438c-af2f-7cf5b88293e7/dasom/Neural_subspace/results/memory_space_memory_perm.npy')\n",
    "memory_space_novelty_true = np.load('/media/dasom/caee0336-77a9-438c-af2f-7cf5b88293e7/dasom/Neural_subspace/results/memory_space_novelty_true.npy')\n",
    "memory_space_novelty_perm = np.load('/media/dasom/caee0336-77a9-438c-af2f-7cf5b88293e7/dasom/Neural_subspace/results/memory_space_novelty_perm.npy')\n",
    "\n",
    "recall_start_space_recall_true = np.load('/media/dasom/caee0336-77a9-438c-af2f-7cf5b88293e7/dasom/Neural_subspace/results/retrieval_space_retrieval_true.npy')\n",
    "recall_start_space_recall_perm = np.load('/media/dasom/caee0336-77a9-438c-af2f-7cf5b88293e7/dasom/Neural_subspace/results/retrieval_space_retrieval_true.npy')\n",
    "recall_end_space_recall_true = np.load('/media/dasom/caee0336-77a9-438c-af2f-7cf5b88293e7/dasom/Neural_subspace/results/retrieval_space_retrieval_true.npy')\n",
    "recall_end_space_recall_perm = np.load('/media/dasom/caee0336-77a9-438c-af2f-7cf5b88293e7/dasom/Neural_subspace/results/retrieval_space_retrieval_true.npy')"
   ]
  },
  {
   "cell_type": "code",
   "execution_count": null,
   "metadata": {},
   "outputs": [],
   "source": [
    "%matplotlib widget\n",
    "\n",
    "fig = plt.figure()\n",
    "ax3D = fig.add_subplot(111, projection='3d')\n",
    "fig.gca().set_prop_cycle(plt.cycler('color', plt.cm.RdYlBu_r(np.linspace(0, 1, 9))))\n",
    "\n",
    "colormap = plt.cm.gist_ncar_r\n",
    "custom_cycler = (cycler(color=['#8a8a8a','#8a8a8a','#8a8a8a','#cd8a8a','#cd8a8a','#cd8a8a','#FF0000','#FF0000','#FF0000']))\n",
    "# custom_cycler = (cycler(color=['b','b','b','grey','grey','grey','r','r','r']))\n",
    "# custom_cycler = (cycler(color=['c','grey','m','c','grey','m','c','grey','m']))\n",
    "# custom_cycler = (cycler(color=['grey','yellow','green','yellow','yellow','green','green','grey','grey']))\n",
    "fig.gca().set_prop_cycle(custom_cycler)\n",
    "\n",
    "# c1_data = np.mean(p_c1_trues[0], axis=0)\n",
    "# c2_data = np.mean(p_c2_trues[0], axis=0)\n",
    "c1_data = novelty_co_space_novelty_true[0]\n",
    "c2_data = novelty_val_space_novelty_true[0]\n",
    "\n",
    "lim = 1\n",
    "timepoint = 0\n",
    "\n",
    "plot_data = -c1_data    \n",
    "   \n",
    "\n",
    "for cond in range(9):   \n",
    "    p3d = ax3D.plot(plot_data[cond][0,timepoint:],plot_data[cond][1,timepoint:],plot_data[cond][2,timepoint:], linewidth = 3)    \n",
    "    ax3D.scatter(plot_data[cond][0][timepoint],plot_data[cond][1][timepoint],plot_data[cond][2][timepoint], linewidth = 5, color = 'k')   \n",
    "\n",
    "ax3D.grid(False)\n",
    "ax3D.set_facecolor('white')\n",
    "ax3D.set_xticks([])\n",
    "ax3D.set_yticks([])\n",
    "ax3D.set_zticks([])\n",
    "# ax3D.set_xlim([-lim,lim])\n",
    "# ax3D.set_ylim([-lim,lim])\n",
    "# ax3D.set_zlim([-lim,lim])\n",
    "ax3D.set_xlabel('PC 1')\n",
    "ax3D.set_ylabel('PC 2')\n",
    "ax3D.set_zlabel('PC 3')\n",
    "ax3D.view_init(15, 40)\n",
    "# fig.savefig('/home/dasom/Dropbox/ubuntu-window/미팅자료/Neural_dynamics/Memory_novelty_cooccur_valence/Empty_plot.png', dpi=300, bbox_inches = \"tight\")"
   ]
  }
 ],
 "metadata": {
  "kernelspec": {
   "display_name": "Python 3 (ipykernel)",
   "language": "python",
   "name": "python3"
  },
  "language_info": {
   "codemirror_mode": {
    "name": "ipython",
    "version": 3
   },
   "file_extension": ".py",
   "mimetype": "text/x-python",
   "name": "python",
   "nbconvert_exporter": "python",
   "pygments_lexer": "ipython3",
   "version": "3.8.10"
  }
 },
 "nbformat": 4,
 "nbformat_minor": 5
}
