{
 "cells": [
  {
   "cell_type": "markdown",
   "id": "29f63235",
   "metadata": {},
   "source": [
    "## Import"
   ]
  },
  {
   "cell_type": "code",
   "execution_count": 2,
   "id": "04703d19-5a52-4957-a81d-7ebf3ac0d027",
   "metadata": {
    "collapsed": true,
    "jupyter": {
     "outputs_hidden": true
    }
   },
   "outputs": [],
   "source": [
    "from ipywidgets import *\n",
    "from scipy.stats import zscore, spearmanr\n",
    "from scipy.spatial.distance import cdist\n",
    "import statsmodels.api as sm\n",
    "import numpy as np\n",
    "import matplotlib as mpl\n",
    "import matplotlib.pyplot as plt\n",
    "import warnings\n",
    "warnings.filterwarnings(action='ignore')\n",
    "\n",
    "np.set_printoptions(suppress=True)\n",
    "\n",
    "mpl.rcParams['axes.linewidth'] = 2\n",
    "mpl.rcParams['xtick.major.width'] = 2\n",
    "mpl.rcParams['ytick.major.width'] = 2\n",
    "mpl.rcParams['xtick.major.size'] = 5\n",
    "mpl.rcParams['ytick.major.size'] = 5\n",
    "mpl.rcParams['axes.spines.top'] = False\n",
    "mpl.rcParams['axes.spines.right'] = False\n",
    "mpl.rcParams['axes.spines.bottom'] = False\n",
    "mpl.rcParams['axes.spines.left'] = True"
   ]
  },
  {
   "cell_type": "markdown",
   "id": "4787919c",
   "metadata": {},
   "source": [
    "## Load data"
   ]
  },
  {
   "cell_type": "code",
   "execution_count": 3,
   "id": "a32ba2f3",
   "metadata": {},
   "outputs": [],
   "source": [
    "FIR_tot_novelty_ev = np.load('/media/dasom/caee0336-77a9-438c-af2f-7cf5b88293e7/dasom/Neural_subspace/results/FIR_tot_novelty_ev.npy')\n",
    "FIR_tot_memory_ev = np.load('/media/dasom/caee0336-77a9-438c-af2f-7cf5b88293e7/dasom/Neural_subspace/results/FIR_tot_memory_ev.npy')\n",
    "FIR_tot_recall_ev = np.load('/media/dasom/caee0336-77a9-438c-af2f-7cf5b88293e7/dasom/Neural_subspace/results/FIR_tot_recall_start_ev.npy')\n",
    "\n",
    "novelty_co_space_novelty_true = np.load('/media/dasom/caee0336-77a9-438c-af2f-7cf5b88293e7/dasom/Neural_subspace/results/novelty_co_space_novelty_true.npy')\n",
    "novelty_co_space_novelty_perm = np.load('/media/dasom/caee0336-77a9-438c-af2f-7cf5b88293e7/dasom/Neural_subspace/results/novelty_co_space_novelty_perm.npy')\n",
    "novelty_val_space_novelty_true = np.load('/media/dasom/caee0336-77a9-438c-af2f-7cf5b88293e7/dasom/Neural_subspace/results/novelty_val_space_novelty_true.npy')\n",
    "novelty_val_space_novelty_perm = np.load('/media/dasom/caee0336-77a9-438c-af2f-7cf5b88293e7/dasom/Neural_subspace/results/novelty_val_space_novelty_perm.npy')\n",
    "\n",
    "novelty_co_space_memory_true = np.load('/media/dasom/caee0336-77a9-438c-af2f-7cf5b88293e7/dasom/Neural_subspace/results/novelty_co_space_memory_true.npy')\n",
    "novelty_co_space_memory_perm = np.load('/media/dasom/caee0336-77a9-438c-af2f-7cf5b88293e7/dasom/Neural_subspace/results/novelty_co_space_memory_perm.npy')\n",
    "novelty_val_space_memory_true = np.load('/media/dasom/caee0336-77a9-438c-af2f-7cf5b88293e7/dasom/Neural_subspace/results/novelty_val_space_memory_true.npy')\n",
    "novelty_val_space_memory_perm = np.load('/media/dasom/caee0336-77a9-438c-af2f-7cf5b88293e7/dasom/Neural_subspace/results/novelty_val_space_memory_perm.npy')\n",
    "\n",
    "memory_space_memory_true = np.load('/media/dasom/caee0336-77a9-438c-af2f-7cf5b88293e7/dasom/Neural_subspace/results/memory_space_memory_true.npy')\n",
    "memory_space_memory_perm = np.load('/media/dasom/caee0336-77a9-438c-af2f-7cf5b88293e7/dasom/Neural_subspace/results/memory_space_memory_perm.npy')\n",
    "memory_space_novelty_true = np.load('/media/dasom/caee0336-77a9-438c-af2f-7cf5b88293e7/dasom/Neural_subspace/results/memory_space_novelty_true.npy')\n",
    "memory_space_novelty_perm = np.load('/media/dasom/caee0336-77a9-438c-af2f-7cf5b88293e7/dasom/Neural_subspace/results/memory_space_novelty_perm.npy')\n",
    "\n",
    "recall_start_space_recall_true = np.load('/media/dasom/caee0336-77a9-438c-af2f-7cf5b88293e7/dasom/Neural_subspace/results/retrieval_space_retrieval_true.npy')\n",
    "recall_start_space_recall_perm = np.load('/media/dasom/caee0336-77a9-438c-af2f-7cf5b88293e7/dasom/Neural_subspace/results/retrieval_space_retrieval_perm.npy')"
   ]
  },
  {
   "cell_type": "markdown",
   "id": "b51caa6b",
   "metadata": {},
   "source": [
    "## Calculating encoding performance"
   ]
  },
  {
   "cell_type": "code",
   "execution_count": 21,
   "id": "62e28a5a",
   "metadata": {},
   "outputs": [],
   "source": [
    "window_length = 21\n",
    "repetition = 1000\n",
    "\n",
    "def subspace_encoding_performance(true_data, perm_data, pc_num, model_data):\n",
    "    true_est_pos = []\n",
    "    r2_true = []\n",
    "    for t in range(window_length):\n",
    "        distance_mat = cdist(true_data[:,pc_num,t], true_data[:,pc_num,t])\n",
    "        len_from_p1 = []\n",
    "        for c in range(true_data.shape[0]):\n",
    "            p1 = true_data[np.where(distance_mat == np.max(distance_mat))[0][1],pc_num,t]\n",
    "            p2 = true_data[np.where(distance_mat == np.max(distance_mat))[0][0],pc_num,t] \n",
    "            p3 = true_data[c,pc_num,t] \n",
    "\n",
    "            unit_length = np.linalg.norm(p1-p2)\n",
    "            l2 = np.sum((p1-p2)**2)\n",
    "            a = np.sum((p3 - p1) * (p2 - p1)) / l2\n",
    "            a = max(0, min(1, np.sum((p3 - p1) * (p2 - p1)) / l2))\n",
    "            projection = p1 + a * (p2 - p1)\n",
    "            len_from_p1.append(np.linalg.norm(p1 - projection)/unit_length)\n",
    "        r2_true.append(sm.OLS(len_from_p1, sm.add_constant(model_data)).fit().rsquared)\n",
    "        true_est_pos.append(len_from_p1)\n",
    "\n",
    "    r2_perm = []\n",
    "    for repeat in range(len(perm_data)):\n",
    "        r2 = []\n",
    "        for t in range(window_length):\n",
    "            distance_mat = cdist(perm_data[repeat][:,pc_num,t], perm_data[repeat][:,pc_num,t])  \n",
    "            len_from_p1 = []\n",
    "            for c in range(true_data.shape[0]):\n",
    "                p1 = perm_data[repeat][np.where(distance_mat == np.max(distance_mat))[0][1],pc_num,t]\n",
    "                p2 = perm_data[repeat][np.where(distance_mat == np.max(distance_mat))[0][0],pc_num,t] \n",
    "                p3 = perm_data[repeat][c,pc_num,t] \n",
    "\n",
    "                unit_length = np.linalg.norm(p1-p2)\n",
    "                l2 = np.sum((p1-p2)**2)\n",
    "                a = np.sum((p3 - p1) * (p2 - p1)) / l2\n",
    "                a = max(0, min(1, np.sum((p3 - p1) * (p2 - p1)) / l2))\n",
    "                projection = p1 + a * (p2 - p1)\n",
    "                len_from_p1.append(np.linalg.norm(p1 - projection)/unit_length)\n",
    "            r2.append(sm.OLS(len_from_p1, sm.add_constant(model_data)).fit().rsquared)\n",
    "        r2_perm.append(r2)\n",
    "\n",
    "    r2_true = np.array(r2_true)\n",
    "    r2_perm = np.array(r2_perm)\n",
    "    pvalue = [np.sum(r2_perm[:,t] > r2_true[t])/repetition for t in range(window_length)]\n",
    "    return r2_true, r2_perm, pvalue"
   ]
  },
  {
   "cell_type": "markdown",
   "id": "2fcf161c",
   "metadata": {},
   "source": [
    "### Encoding performance within hippocampal subspaces (Fig. 3C)"
   ]
  },
  {
   "cell_type": "code",
   "execution_count": 22,
   "id": "f0536394",
   "metadata": {},
   "outputs": [],
   "source": [
    "roi_num = 0 # hippocampus\n",
    "\n",
    "fMRI_data_true = novelty_co_space_novelty_true[roi_num] # observed subspace\n",
    "fMRI_data_perm = novelty_co_space_novelty_perm[roi_num] # permuted subspaces\n",
    "pc_num = np.arange(12) # 12 PCs\n",
    "# pc_num = [0] # first PC\n",
    "# pc_num = [1] # second PC\n",
    "model_data = [-1,-1,-1,0,0,0,1,1,1] # co-occurrence novelty\n",
    "r2_true_cooccur, r2_perm_cooccur, pvalue_cooccur = subspace_encoding_performance(true_data = fMRI_data_true, \n",
    "                                                                                 perm_data = fMRI_data_perm, \n",
    "                                                                                 pc_num = pc_num, \n",
    "                                                                                 model_data = model_data)\n",
    "\n",
    "fMRI_data_true = novelty_val_space_novelty_true[roi_num]\n",
    "fMRI_data_perm = novelty_val_space_novelty_perm[roi_num]\n",
    "pc_num = np.arange(12) # 12 PCs\n",
    "model_data = [-1,0,1,-1,0,1,-1,0,1] # valence novelty\n",
    "r2_true_valence, r2_perm_valence, pvalue_valence = subspace_encoding_performance(true_data = fMRI_data_true, \n",
    "                                                                                 perm_data = fMRI_data_perm, \n",
    "                                                                                 pc_num = pc_num, \n",
    "                                                                                 model_data = model_data)\n",
    "\n",
    "fMRI_data_true = memory_space_memory_true[roi_num]\n",
    "fMRI_data_perm = memory_space_memory_perm[roi_num]\n",
    "pc_num = np.arange(12) # 12 PCs\n",
    "model_data = [-4,-3,-2,-1,0,1,2,3,4] # memorability\n",
    "r2_true_memorability, r2_perm_memorability, pvalue_memorability = subspace_encoding_performance(true_data = fMRI_data_true, \n",
    "                                                                                                perm_data = fMRI_data_perm, \n",
    "                                                                                                pc_num = pc_num, \n",
    "                                                                                                model_data = model_data)"
   ]
  },
  {
   "cell_type": "markdown",
   "id": "81119d33",
   "metadata": {},
   "source": [
    "#### Each time plot (Fig. 3C left)"
   ]
  },
  {
   "cell_type": "code",
   "execution_count": null,
   "id": "2aab6472",
   "metadata": {},
   "outputs": [],
   "source": [
    "r2_true = r2_true_cooccur\n",
    "r2_perm = r2_perm_cooccur\n",
    "\n",
    "fig = plt.figure(figsize = [7,3])\n",
    "axs = fig.add_subplot()\n",
    "\n",
    "## observed encoding performance with a null distribution at each time point\n",
    "# axs.plot(r2_true, 'r')\n",
    "# axs.plot(np.mean(r2_perm, axis=0), 'grey')\n",
    "# errorh = np.array([np.std(r2_perm[:,t])*2 for t in range(window_length)])\n",
    "# axs.fill_between(np.arange(window_length), np.mean(r2_perm, axis=0)-errorh,np.mean(r2_perm, axis=0)+errorh, alpha = 0.3,color = 'grey')\n",
    "\n",
    "## observed encoding performance - the null distribution at each time point\n",
    "axs.plot(r2_true-np.mean(r2_perm, axis=0), 'r')\n",
    "errorh = np.array([np.std(r2_true[t] - r2_perm[:,t])*2 for t in range(window_length)])\n",
    "axs.fill_between(np.arange(window_length), r2_true-np.mean(r2_perm, axis=0)-errorh,r2_true-np.mean(r2_perm, axis=0)+errorh, alpha = 0.3,color = 'grey')\n",
    "\n",
    "axs.set_ylim([-0.5,1])\n",
    "axs.hlines(0, 0, window_length-1, linestyle = '--', color = 'grey')\n",
    "axs.vlines(10, -1, 1, linestyle = '--', color = 'grey')\n",
    "axs.set_xticks([0,5,10,15,20])\n",
    "axs.set_yticks([-0.5,0,0.5,1])\n",
    "axs.set_xticklabels(['','',0,'',''])\n",
    "\n",
    "for t in range(21):\n",
    "    if np.sum(r2_perm[:,t] > r2_true[t])/repetition < .05:\n",
    "        plt.text(t-0.2,0.9,'*')"
   ]
  },
  {
   "cell_type": "markdown",
   "id": "ed6adedf",
   "metadata": {},
   "source": [
    "#### Average across 10 TRs (Fig. 3C right)"
   ]
  },
  {
   "cell_type": "code",
   "execution_count": null,
   "metadata": {},
   "outputs": [],
   "source": [
    "before = np.mean(r2_true[:10]) - np.mean(r2_perm[:,:10], axis=1).T\n",
    "after = np.mean(r2_true[11:]) - np.mean(r2_perm[:,11:], axis=1).T\n",
    "\n",
    "plt.figure(figsize = [4,5])\n",
    "bar1 = plt.bar([0], [np.mean(before)], color = 'navy', edgecolor = 'k', linewidth = 3, width = 0.7, alpha = 0.5) # #FF0000 #9C27B0 #656B83\n",
    "plt.bar([1], [np.mean(after)], color = 'navy', edgecolor = 'k', linewidth = 3, width = 0.7) # #FF0000 #9C27B0 navy\n",
    "# plt.errorbar([0,1], [np.mean(before), np.mean(after)], [np.std(before)*2, np.std(after)*2], linestyle = '', color = 'k', linewidth = 3)\n",
    "plt.scatter(np.random.normal(size = 1000)/15, before, color = 'grey', alpha = 0.1)\n",
    "plt.scatter(np.random.normal(size = 1000)/15 + 1 , after, color = 'grey', alpha = 0.1)\n",
    "plt.xlim([-0.6, 1.6])\n",
    "plt.ylim([0,0.8])\n",
    "plt.xticks([0,1])\n",
    "plt.yticks([0,0.4,0.8])"
   ]
  },
  {
   "cell_type": "markdown",
   "id": "0a7ce2d1",
   "metadata": {},
   "source": [
    "### Aligned novelty computation"
   ]
  },
  {
   "cell_type": "markdown",
   "id": "9d76cdde",
   "metadata": {},
   "source": [
    "#### Each time plot (Fig. 4C)"
   ]
  },
  {
   "cell_type": "code",
   "execution_count": null,
   "id": "9f8a5956",
   "metadata": {},
   "outputs": [],
   "source": [
    "## co-occurrence novelty within the valence novelty subspace\n",
    "MRI_data_true = novelty_val_space_novelty_true[roi_num]\n",
    "fMRI_data_perm = novelty_val_space_novelty_perm[roi_num]\n",
    "\n",
    "pc_num = [0] # novelty coding axis\n",
    "model_data = [-1,-1,-1,0,0,0,1,1,1] # co-occurrence novelty\n",
    "r2_true, r2_perm, pvalue = subspace_encoding_performance(true_data = fMRI_data_true, \n",
    "                                                         perm_data = fMRI_data_perm, \n",
    "                                                         pc_num = pc_num,\n",
    "                                                         model_data = model_data)\n",
    "\n",
    "fig = plt.figure(figsize = [7,3])\n",
    "axs = fig.add_subplot()\n",
    "\n",
    "axs.plot(r2_true-np.mean(r2_perm, axis=0), 'r')\n",
    "errorh = np.array([np.std(r2_true[t] - r2_perm[:,t])*2 for t in range(window_length)])\n",
    "axs.fill_between(np.arange(window_length), r2_true-np.mean(r2_perm, axis=0)-errorh,r2_true-np.mean(r2_perm, axis=0)+errorh, alpha = 0.3,color = 'grey')\n",
    "\n",
    "axs.set_ylim([-0.5,1])\n",
    "axs.hlines(0, 0, window_length-1, linestyle = '--', color = 'grey')\n",
    "axs.vlines(10, -1, 1, linestyle = '--', color = 'grey')\n",
    "axs.set_xticks([0,5,10,15,20])\n",
    "axs.set_yticks([-0.5,0,0.5,1])\n",
    "axs.set_xticklabels(['','',0,'',''])\n",
    "\n",
    "for t in range(21):\n",
    "    if np.sum(r2_perm[:,t] > r2_true[t])/repetition < .05:\n",
    "        plt.text(t-0.2,0.9,'*')"
   ]
  },
  {
   "cell_type": "markdown",
   "id": "2c30644c",
   "metadata": {},
   "source": [
    "#### Average across 10 TR (Fig. 4D, Supp Fig. 4)"
   ]
  },
  {
   "cell_type": "code",
   "execution_count": 54,
   "id": "57257e70",
   "metadata": {},
   "outputs": [],
   "source": [
    "## within co-occurrence novelty subspaces \n",
    "fMRI_data_true = novelty_co_space_novelty_true[roi_num] # observed subspace\n",
    "fMRI_data_perm = novelty_co_space_novelty_perm[roi_num] # permuted subspaces\n",
    "\n",
    "model_data = [-1,-1,-1,0,0,0,1,1,1] # co-occurrence novelty\n",
    "before_co_space_co = []\n",
    "after_co_space_co = []\n",
    "for pc_num in range(12):\n",
    "    r2_true, r2_perm, _ = subspace_encoding_performance(true_data = fMRI_data_true, \n",
    "                                                     perm_data = fMRI_data_perm, \n",
    "                                                     pc_num = np.arange(pc_num+1), # Supp Fig.4AC / # of PCs\n",
    "                                                    #  pc_num = [pc_num], # Supp Fig.4BD / each PC\n",
    "                                                     model_data = model_data)\n",
    "    before = np.mean(r2_true[:10]) - np.mean(r2_perm[:,:10], axis=1).T\n",
    "    after = np.mean(r2_true[11:]) - np.mean(r2_perm[:,11:], axis=1).T\n",
    "    before_co_space_co.append(before)\n",
    "    after_co_space_co.append(after)\n",
    "\n",
    "model_data = [-1,0,1,-1,0,1,-1,0,1] # valence novelty\n",
    "before_co_space_val = []\n",
    "after_co_space_val = []\n",
    "for pc_num in range(12):\n",
    "    r2_true, r2_perm, _ = subspace_encoding_performance(true_data = fMRI_data_true, \n",
    "                                                     perm_data = fMRI_data_perm, \n",
    "                                                     pc_num = np.arange(pc_num+1),\n",
    "                                                    #  pc_num = [pc_num],\n",
    "                                                     model_data = model_data)\n",
    "    before = np.mean(r2_true[:10]) - np.mean(r2_perm[:,:10], axis=1).T\n",
    "    after = np.mean(r2_true[11:]) - np.mean(r2_perm[:,11:], axis=1).T\n",
    "    before_co_space_val.append(before)\n",
    "    after_co_space_val.append(after)\n",
    "\n",
    "## within valence novelty subspaces\n",
    "fMRI_data_true = novelty_val_space_novelty_true[roi_num] # observed subspace\n",
    "fMRI_data_perm = novelty_val_space_novelty_perm[roi_num] # permuted subspaces\n",
    "\n",
    "model_data = [-1,-1,-1,0,0,0,1,1,1] # co-occurrence novelty\n",
    "before_val_space_co = []\n",
    "after_val_space_co = []\n",
    "for pc_num in range(12):\n",
    "    r2_true, r2_perm, _ = subspace_encoding_performance(true_data = fMRI_data_true, \n",
    "                                                     perm_data = fMRI_data_perm, \n",
    "                                                     pc_num = np.arange(pc_num+1),\n",
    "                                                    #  pc_num = [pc_num],\n",
    "                                                     model_data = model_data)\n",
    "    before = np.mean(r2_true[:10]) - np.mean(r2_perm[:,:10], axis=1).T\n",
    "    after = np.mean(r2_true[11:]) - np.mean(r2_perm[:,11:], axis=1).T\n",
    "    before_val_space_co.append(before)\n",
    "    after_val_space_co.append(after)\n",
    "\n",
    "model_data = [-1,0,1,-1,0,1,-1,0,1] # valence novelty\n",
    "before_val_space_val = []\n",
    "after_val_space_val = []\n",
    "for pc_num in range(12):\n",
    "    r2_true, r2_perm, _ = subspace_encoding_performance(true_data = fMRI_data_true, \n",
    "                                                     perm_data = fMRI_data_perm, \n",
    "                                                     pc_num = np.arange(pc_num+1),\n",
    "                                                    #  pc_num = [pc_num],\n",
    "                                                     model_data = model_data)\n",
    "    before = np.mean(r2_true[:10]) - np.mean(r2_perm[:,:10], axis=1).T\n",
    "    after = np.mean(r2_true[11:]) - np.mean(r2_perm[:,11:], axis=1).T\n",
    "    before_val_space_val.append(before)\n",
    "    after_val_space_val.append(after)"
   ]
  },
  {
   "cell_type": "code",
   "execution_count": 59,
   "id": "134ddc9d",
   "metadata": {},
   "outputs": [
    {
     "data": {
      "text/plain": [
       "<matplotlib.collections.LineCollection at 0x7f076c3f63d0>"
      ]
     },
     "execution_count": 59,
     "metadata": {},
     "output_type": "execute_result"
    },
    {
     "data": {
      "image/png": "[encoded data removed]",
      "text/plain": [
       "<Figure size 576x360 with 1 Axes>"
      ]
     },
     "metadata": {
      "needs_background": "light"
     },
     "output_type": "display_data"
    }
   ],
   "source": [
    "## # of PCs\n",
    "\n",
    "plt.figure(figsize = [8,5])\n",
    "## co-occurrence novelty within the valence novelty subspace (Supp Fig.4A)\n",
    "# plt.errorbar(np.arange(12), np.mean(before_co_space_co, axis=1), np.std(before_co_space_co, axis=1), color = 'r', alpha = 0.33)\n",
    "# plt.errorbar(np.arange(12), np.mean(after_co_space_co, axis=1), np.std(after_co_space_co, axis=1), color = 'r')\n",
    "# plt.errorbar(np.arange(12), np.mean(before_co_space_val, axis=1), np.std(before_co_space_val, axis=1), color = 'm', alpha = 0.33)\n",
    "# plt.errorbar(np.arange(12), np.mean(after_co_space_val, axis=1), np.std(after_co_space_val, axis=1), color = 'm')\n",
    "\n",
    "## valence novelty within the co-occurrence novelty subspace (Supp Fig.4C)\n",
    "plt.errorbar(np.arange(12), np.mean(before_val_space_co, axis=1), np.std(before_val_space_co, axis=1), color = 'r', alpha = 0.33)\n",
    "plt.errorbar(np.arange(12), np.mean(after_val_space_co, axis=1), np.std(after_val_space_co, axis=1), color = 'r')\n",
    "plt.errorbar(np.arange(12), np.mean(before_val_space_val, axis=1), np.std(before_val_space_val, axis=1), color = 'm', alpha = 0.33)\n",
    "plt.errorbar(np.arange(12), np.mean(after_val_space_val, axis=1), np.std(after_val_space_val, axis=1), color = 'm')\n",
    "\n",
    "plt.xticks(np.arange(12),np.arange(1,13))\n",
    "plt.xlim([-1,12])    \n",
    "plt.ylim([-0.1,0.6])\n",
    "plt.hlines(0,-1,20, color = 'grey', linestyle = '--')"
   ]
  },
  {
   "cell_type": "code",
   "execution_count": 43,
   "id": "12770e71",
   "metadata": {},
   "outputs": [
    {
     "data": {
      "text/plain": [
       "<matplotlib.collections.LineCollection at 0x7f076c354e80>"
      ]
     },
     "execution_count": 43,
     "metadata": {},
     "output_type": "execute_result"
    },
    {
     "data": {
      "image/png": "[encoded data removed]",
      "text/plain": [
       "<Figure size 576x360 with 1 Axes>"
      ]
     },
     "metadata": {
      "needs_background": "light"
     },
     "output_type": "display_data"
    }
   ],
   "source": [
    "## each PC\n",
    "\n",
    "plt.figure(figsize = [8,5])\n",
    "## co-occurrence novelty within the valence novelty subspace (Supp Fig.4B)\n",
    "plt.errorbar(np.arange(12), np.mean(before_val_space_co, axis=1), np.std(before_val_space_co, axis=1), color = 'r', alpha = 0.33)\n",
    "plt.errorbar(np.arange(12), np.mean(after_val_space_co, axis=1), np.std(after_val_space_co, axis=1), color = 'r')\n",
    "\n",
    "## valence novelty within the co-occurrence novelty subspace (Supp Fig.4D)\n",
    "# plt.errorbar(np.arange(12), np.mean(before_co_space_val, axis=1), np.std(before_co_space_val, axis=1), color = 'm', alpha = 0.33)\n",
    "# plt.errorbar(np.arange(12), np.mean(after_co_space_val, axis=1), np.std(after_co_space_val, axis=1), color = 'm')\n",
    "\n",
    "plt.xticks(np.arange(12),np.arange(1,13))\n",
    "plt.xlim([-1,12])    \n",
    "plt.ylim([-0.2,0.4])\n",
    "# plt.ylim([-0.1,0.6])\n",
    "plt.hlines(0,-1,20, color = 'grey', linestyle = '--')"
   ]
  },
  {
   "cell_type": "markdown",
   "id": "13c8e7a3",
   "metadata": {},
   "source": [
    "### Coordinated memory computation"
   ]
  },
  {
   "cell_type": "markdown",
   "id": "ae3ca29c",
   "metadata": {},
   "source": [
    "#### Each time plot (Fig. 5C)"
   ]
  },
  {
   "cell_type": "code",
   "execution_count": 63,
   "id": "045f27bb",
   "metadata": {},
   "outputs": [
    {
     "data": {
      "image/png": "[encoded data removed]",
      "text/plain": [
       "<Figure size 504x216 with 1 Axes>"
      ]
     },
     "metadata": {
      "needs_background": "light"
     },
     "output_type": "display_data"
    }
   ],
   "source": [
    "## co-occurrence novelty within the memorability subspace \n",
    "fMRI_data_true = memory_space_novelty_true[roi_num]\n",
    "fMRI_data_perm = memory_space_novelty_perm[roi_num]\n",
    "\n",
    "pc_num = [1] # shared coding axis within the memorability subspace\n",
    "model_data = [-1,-1,-1,0,0,0,1,1,1] # co-occurrence novelty\n",
    "r2_true, r2_perm, pvalue = subspace_encoding_performance(true_data = fMRI_data_true, \n",
    "                                                         perm_data = fMRI_data_perm, \n",
    "                                                         pc_num = pc_num,\n",
    "                                                         model_data = model_data)\n",
    "\n",
    "fig = plt.figure(figsize = [7,3])\n",
    "axs = fig.add_subplot()\n",
    "\n",
    "axs.plot(r2_true-np.mean(r2_perm, axis=0), 'r')\n",
    "errorh = np.array([np.std(r2_true[t] - r2_perm[:,t])*2 for t in range(window_length)])\n",
    "axs.fill_between(np.arange(window_length), r2_true-np.mean(r2_perm, axis=0)-errorh,r2_true-np.mean(r2_perm, axis=0)+errorh, alpha = 0.3,color = 'grey')\n",
    "\n",
    "axs.set_ylim([-0.5,1])\n",
    "axs.hlines(0, 0, window_length-1, linestyle = '--', color = 'grey')\n",
    "axs.vlines(10, -1, 1, linestyle = '--', color = 'grey')\n",
    "axs.set_xticks([0,5,10,15,20])\n",
    "axs.set_yticks([-0.5,0,0.5,1])\n",
    "axs.set_xticklabels(['','',0,'',''])\n",
    "\n",
    "for t in range(21):\n",
    "    if np.sum(r2_perm[:,t] > r2_true[t])/repetition < .05:\n",
    "        plt.text(t-0.2,0.9,'*')"
   ]
  },
  {
   "cell_type": "markdown",
   "id": "b96f8ab1",
   "metadata": {},
   "source": [
    "#### Average across 10 TRs (Supp Fig. 7)"
   ]
  },
  {
   "cell_type": "code",
   "execution_count": 64,
   "id": "c4d0bfcc",
   "metadata": {},
   "outputs": [],
   "source": [
    "fMRI_data_true = memory_space_novelty_true[roi_num]\n",
    "fMRI_data_perm = memory_space_novelty_perm[roi_num]\n",
    "pc_num = [1]\n",
    "model_data = [-1,-1,-1,0,0,0,1,1,1] # co-occurrence novelty\n",
    "r2_true_cooccur, r2_perm_cooccur, pvalue_cooccur = subspace_encoding_performance(true_data = fMRI_data_true, \n",
    "                                                                                 perm_data = fMRI_data_perm, \n",
    "                                                                                 pc_num = pc_num, \n",
    "                                                                                 model_data = model_data)\n",
    "\n",
    "pc_num = [1]\n",
    "model_data = [-1,0,1,-1,0,1,-1,0,1] # valence novelty\n",
    "r2_true_valence, r2_perm_valence, pvalue_valence = subspace_encoding_performance(true_data = fMRI_data_true, \n",
    "                                                                                 perm_data = fMRI_data_perm, \n",
    "                                                                                 pc_num = pc_num, \n",
    "                                                                                 model_data = model_data)"
   ]
  },
  {
   "cell_type": "code",
   "execution_count": null,
   "id": "b314ee8d",
   "metadata": {},
   "outputs": [],
   "source": [
    "Memory_space_cooccur_before = np.mean(r2_true[:10]) - np.mean(r2_perm[:,:10], axis=1).T\n",
    "Memory_space_cooccur_after = np.mean(r2_true[11:]) - np.mean(r2_perm[:,11:], axis=1).T\n",
    "\n",
    "Memory_space_valence_before = np.mean(r2_true[:10]) - np.mean(r2_perm[:,:10], axis=1).T\n",
    "Memory_space_valence_after = np.mean(r2_true[11:]) - np.mean(r2_perm[:,11:], axis=1).T"
   ]
  },
  {
   "cell_type": "code",
   "execution_count": 76,
   "id": "b31489f3",
   "metadata": {},
   "outputs": [
    {
     "data": {
      "text/plain": [
       "(-0.3, 0.6)"
      ]
     },
     "execution_count": 76,
     "metadata": {},
     "output_type": "execute_result"
    },
    {
     "data": {
      "image/png": "[encoded data removed]",
      "text/plain": [
       "<Figure size 432x288 with 1 Axes>"
      ]
     },
     "metadata": {
      "needs_background": "light"
     },
     "output_type": "display_data"
    }
   ],
   "source": [
    "corr_look = np.array([np.mean(r2_true_cooccur[:10]), np.mean(r2_true_valence[:10]),  \n",
    "                      np.mean(r2_true_cooccur[11:]), np.mean(r2_true_valence[11:])])\n",
    "random_look = np.array([np.mean(r2_perm_cooccur[:,:10], axis=1).T, np.mean(r2_perm_valence[:,11:], axis=1).T,\n",
    "                        np.mean(r2_perm_cooccur[:,11:], axis=1).T, np.mean(r2_perm_valence[:,11:], axis=1).T])\n",
    "diff = np.array([corr_look]).T - random_look\n",
    "\n",
    "x_pos = [0,0.4,1,1.4]\n",
    "plt.figure(figsize = [6,4])\n",
    "plt.xticks(x_pos, fontsize = 12)\n",
    "plt.yticks([-0.3,0,0.3,0.6], fontsize = 12)\n",
    "plt.xlim([-0.4,1.8])\n",
    "plt.hlines([0],-1,5, 'black', linewidth = 1, linestyle = '--')\n",
    "\n",
    "barlist = plt.bar(x_pos, np.mean(diff, axis=1), width = 0.3, edgecolor = 'k', alpha = 1)\n",
    "barlist[0].set_facecolor('#FF0000')\n",
    "barlist[0].set_alpha(0.5)\n",
    "barlist[1].set_facecolor('#9C27B0')\n",
    "barlist[1].set_alpha(0.5)\n",
    "barlist[2].set_facecolor('#FF0000')\n",
    "barlist[3].set_facecolor('#9C27B0')\n",
    "# plt.errorbar(x_pos, np.mean(diff, axis=1), np.std(diff, axis=1), linestyle = '', color = 'k')\n",
    "\n",
    "for c in range(4):\n",
    "    plt.scatter(np.random.normal(size=1000)/70 + x_pos[c], diff[c], color = 'gray', alpha = 0.2)\n",
    "\n",
    "plt.ylim([-0.3, 0.6])"
   ]
  },
  {
   "cell_type": "markdown",
   "id": "bf8708fb",
   "metadata": {},
   "source": [
    "#### Inveserly alignment of hippocampal states (Fig. 5D)"
   ]
  },
  {
   "cell_type": "code",
   "execution_count": 81,
   "id": "ee07d8b6",
   "metadata": {},
   "outputs": [
    {
     "name": "stdout",
     "output_type": "stream",
     "text": [
      "[0.258, 0.071, 0.374, 0.508, 0.46, 0.534, 0.971, 0.525, 0.254, 0.422, 0.978, 0.658, 0.457, 0.062, 0.01, 0.076, 0.117, 0.235, 0.365, 0.973, 0.605]\n",
      "[0.707, 0.454, 0.545, 0.354, 0.234, 0.188, 0.979, 0.768, 0.788, 0.661, 0.985, 0.845, 0.309, 0.024, 0.087, 0.213, 0.204, 0.518, 0.382, 0.88, 0.737]\n",
      "[0.5, 0.09, 0.451, 0.354, 0.21, 0.2, 0.991, 0.777, 0.611, 0.66, 0.995, 0.892, 0.278, 0.014, 0.008, 0.057, 0.065, 0.259, 0.279, 0.974, 0.819]\n"
     ]
    }
   ],
   "source": [
    "true1 = []\n",
    "perm1 = []\n",
    "true2 = []\n",
    "perm2 = []\n",
    "true3 = []\n",
    "perm3 = []\n",
    "for t in range(21):\n",
    "    true_comem = spearmanr(memory_space_memory_true[0][:,1,t], novelty_co_space_novelty_true[0][:,0,t])[0] # memorability pos -> neg / novelty neg -> pos\n",
    "    true_valmem = spearmanr(memory_space_memory_true[0][:,1,t], novelty_val_space_novelty_true[0][:,0,t])[0]\n",
    "    perm_comem = np.array([spearmanr(memory_space_memory_perm[0][r][:,1,t], novelty_co_space_novelty_perm[0][r][:,0,t])[0] for r in range(1000)])\n",
    "    perm_valmem = np.array([spearmanr(memory_space_memory_perm[0][r][:,1,t], novelty_val_space_novelty_perm[0][r][:,0,t])[0] for r in range(1000)])\n",
    "    true1.append(true_comem)\n",
    "    perm1.append(perm_comem)\n",
    "    true2.append(true_valmem)\n",
    "    perm2.append(perm_valmem)\n",
    "    true3.append(true_comem + true_valmem)\n",
    "    perm3.append(perm_comem + perm_valmem)\n",
    "true1 = np.array(true1)\n",
    "perm1 = np.array(perm1)\n",
    "true2 = np.array(true2)\n",
    "perm2 = np.array(perm2)\n",
    "true3 = np.array(true3)\n",
    "perm3 = np.array(perm3)\n",
    "print([np.sum(true1[t] < perm1[t])/1000 for t in range(21)])\n",
    "print([np.sum(true2[t] < perm2[t])/1000 for t in range(21)])\n",
    "print([np.sum(true3[t] < perm3[t])/1000 for t in range(21)])"
   ]
  },
  {
   "cell_type": "code",
   "execution_count": 78,
   "id": "851798a4",
   "metadata": {},
   "outputs": [
    {
     "data": {
      "text/plain": [
       "<matplotlib.collections.LineCollection at 0x7f076433eac0>"
      ]
     },
     "execution_count": 78,
     "metadata": {},
     "output_type": "execute_result"
    },
    {
     "data": {
      "image/png": "[encoded data removed]",
      "text/plain": [
       "<Figure size 432x216 with 1 Axes>"
      ]
     },
     "metadata": {
      "needs_background": "light"
     },
     "output_type": "display_data"
    }
   ],
   "source": [
    "## Both novelties\n",
    "\n",
    "plt.figure(figsize = [6,3])\n",
    "true = true3/2\n",
    "# true_co = np.array([cos_sim(memory_space_memory_true[0][:,1,t], novelty_co_space_novelty_true[0][:,0,t]) for t in range(window_length)])\n",
    "# true_co = np.array([spearmanr(memory_space_memory_true[0][:,1,t], novelty_co_space_novelty_true[0][:,0,t])[0] for t in range(window_length)])\n",
    "error = np.std(perm3/2, axis=1)\n",
    "plt.scatter(np.arange(21), true, s = 50, color = 'red', edgecolor = 'k', zorder = 1)\n",
    "plt.plot(true,'red',zorder=2)\n",
    "plt.fill_between(np.arange(21), -1, +error, alpha = 0.5,color = 'grey',zorder=2)\n",
    "plt.plot(error,'k--',zorder=2)\n",
    "\n",
    "plt.xlim([-1,21])\n",
    "plt.ylim([-1,1])\n",
    "plt.xticks([0,5,10,15,20],['','',0,'',''])\n",
    "plt.yticks([-1,0,1])    \n",
    "plt.vlines(10,-1,1,'grey','--',zorder=1)\n",
    "plt.hlines(0,-1,21,'grey','--',zorder=1)"
   ]
  },
  {
   "cell_type": "code",
   "execution_count": 83,
   "id": "36ba8484",
   "metadata": {},
   "outputs": [
    {
     "data": {
      "text/plain": [
       "<matplotlib.collections.LineCollection at 0x7f07642f9cd0>"
      ]
     },
     "execution_count": 83,
     "metadata": {},
     "output_type": "execute_result"
    },
    {
     "data": {
      "image/png": "[encoded data removed]",
      "text/plain": [
       "<Figure size 432x216 with 1 Axes>"
      ]
     },
     "metadata": {
      "needs_background": "light"
     },
     "output_type": "display_data"
    }
   ],
   "source": [
    "## Each novelty\n",
    "\n",
    "plt.figure(figsize = [6,3])\n",
    "# true_co = np.array([cos_sim(zscore(memory_space_memory_true[0][:,1,t]), zscore(novelty_co_space_novelty_true[0][:,0,t])) for t in range(window_length)])\n",
    "# true_co = np.array([cos_sim(memory_space_memory_true[0][:,1,t], novelty_co_space_novelty_true[0][:,0,t]) for t in range(window_length)])\n",
    "true_co = np.array([spearmanr(memory_space_memory_true[0][:,1,t], novelty_co_space_novelty_true[0][:,0,t])[0] for t in range(window_length)])\n",
    "error_co = np.array([np.std(perm1[t]) for t in range(window_length)])\n",
    "plt.scatter(np.arange(21), true_co, s = 50, color = 'r', edgecolor = 'k', zorder = 3)\n",
    "plt.plot(true_co,'r',zorder=2)\n",
    "plt.fill_between(np.arange(window_length), -1, +error_co, alpha = 0.2,color = 'r',zorder=4)\n",
    "\n",
    "# true_val = np.array([cos_sim(zscore(memory_space_memory_true[0][:,1,t]), zscore(novelty_val_space_novelty_true[0][:,0,t])) for t in range(window_length)])\n",
    "# true_val = np.array([cos_sim(memory_space_memory_true[0][:,1,t], novelty_val_space_novelty_true[0][:,0,t]) for t in range(window_length)])\n",
    "true_val = np.array([spearmanr(memory_space_memory_true[0][:,1,t], novelty_val_space_novelty_true[0][:,0,t])[0] for t in range(window_length)])\n",
    "error_val = np.array([np.std(perm2[t]) for t in range(window_length)])\n",
    "plt.scatter(np.arange(21), true_val, s = 50, color = 'm', edgecolor = 'k', zorder = 3)\n",
    "plt.plot(true_val,'m',zorder=2)\n",
    "plt.fill_between(np.arange(window_length), -1, +error_val, alpha = 0.2,color = 'm',zorder=4)\n",
    "\n",
    "plt.xlim([-1,21])\n",
    "plt.ylim([-1,1])\n",
    "plt.xticks([0,5,10,15,20],['','',0,'',''])\n",
    "plt.yticks([-1,0,1])    \n",
    "plt.vlines(10,-1,1,'grey','--',zorder=1)\n",
    "plt.hlines(0,-1,21,'grey','--',zorder=1)"
   ]
  },
  {
   "cell_type": "markdown",
   "id": "6e551443",
   "metadata": {},
   "source": [
    "#### Hippocampal states along the shared coding axis"
   ]
  },
  {
   "cell_type": "code",
   "execution_count": 86,
   "metadata": {},
   "outputs": [
    {
     "data": {
      "text/plain": [
       "([], [])"
      ]
     },
     "execution_count": 86,
     "metadata": {},
     "output_type": "execute_result"
    },
    {
     "data": {
      "image/png": "[encoded data removed]",
      "text/plain": [
       "<Figure size 216x432 with 1 Axes>"
      ]
     },
     "metadata": {
      "needs_background": "light"
     },
     "output_type": "display_data"
    }
   ],
   "source": [
    "timepoint = 10 + 4\n",
    "\n",
    "fig = plt.figure(figsize = [3,6])\n",
    "fig.gca().set_prop_cycle(plt.cycler('color', plt.cm.RdYlBu(np.linspace(0, 1, 9))))\n",
    "for p in range(9):\n",
    "    plt.scatter([0],zscore(memory_space_memory_true[0][:,1,timepoint])[p],zorder=2,s=150,edgecolor='k')\n",
    "plt.vlines(0,-3,3,'k',zorder=1)\n",
    "# plt.savefig('/home/dasom/Dropbox/ubuntu-window/미팅자료/Neural_dynamics/Cooccur_vs_valence_v3/a1.png', dpi=300, bbox_inches = \"tight\")\n",
    "\n",
    "colors = [[0,0,1],[0,0,1],[0,0,1],\n",
    "          [0.5,0.5,0.5],[0.5,0.5,0.5],[0.5,0.5,0.5],\n",
    "          [1,0,0],[1,0,0],[1,0,0]]\n",
    "for p in range(9):\n",
    "    plt.scatter([0.5], zscore(novelty_co_space_novelty_true[0][:,0,timepoint])[p], color = colors[p], zorder=2,s=150,edgecolor='k')\n",
    "plt.vlines(0.5,-3,3,'k',zorder=1)\n",
    "\n",
    "colors = [[1,0,1],[0.5,0.5,0.5],[0,1,1],\n",
    "          [1,0,1],[0.5,0.5,0.5],[0,1,1],\n",
    "          [1,0,1],[0.5,0.5,0.5],[0,1,1]]\n",
    "for p in range(9):\n",
    "    plt.scatter([1], zscore(novelty_val_space_novelty_true[0][:,0,timepoint])[p], color = colors[p], zorder=2,s=150,edgecolor='k')\n",
    "plt.vlines(1,-3,3,'k',zorder=1)\n",
    "plt.xlim([-0.5,1.5])\n",
    "plt.xticks([0,0.5,1],['mem','co','val'])\n",
    "plt.yticks([])"
   ]
  },
  {
   "cell_type": "markdown",
   "id": "a8c360cf",
   "metadata": {},
   "source": [
    "### Dynamics of memory retrieval process (Fig. 6B)"
   ]
  },
  {
   "cell_type": "code",
   "execution_count": null,
   "id": "21c3fbd8",
   "metadata": {},
   "outputs": [],
   "source": [
    "## memorability within the memory retrieval subspace \n",
    "fMRI_data_true = recall_start_space_recall_true[roi_num]\n",
    "fMRI_data_perm = recall_start_space_recall_perm[roi_num]\n",
    "\n",
    "pc_num = [0] # memorability coding axis within the memory retrieval subspace\n",
    "model_data = [-4,-3,-2,-1,0,1,2,3,4] # memorability\n",
    "r2_true, r2_perm, pvalue = subspace_encoding_performance(true_data = fMRI_data_true, \n",
    "                                                         perm_data = fMRI_data_perm, \n",
    "                                                         pc_num = pc_num,\n",
    "                                                         model_data = model_data)\n",
    "\n",
    "fig = plt.figure(figsize = [7,3])\n",
    "axs = fig.add_subplot()\n",
    "\n",
    "axs.plot(r2_true-np.mean(r2_perm, axis=0), 'r')\n",
    "errorh = np.array([np.std(r2_true[t] - r2_perm[:,t])*2 for t in range(window_length)])\n",
    "axs.fill_between(np.arange(window_length), r2_true-np.mean(r2_perm, axis=0)-errorh,r2_true-np.mean(r2_perm, axis=0)+errorh, alpha = 0.3,color = 'grey')\n",
    "\n",
    "axs.set_ylim([-0.5,1])\n",
    "axs.hlines(0, 0, window_length-1, linestyle = '--', color = 'grey')\n",
    "axs.vlines(10, -1, 1, linestyle = '--', color = 'grey')\n",
    "axs.set_xticks([0,5,10,15,20])\n",
    "axs.set_yticks([-0.5,0,0.5,1])\n",
    "axs.set_xticklabels(['','',0,'',''])\n",
    "\n",
    "for t in range(21):\n",
    "    if np.sum(r2_perm[:,t] > r2_true[t])/100 < .05:\n",
    "        plt.text(t-0.2,0.9,'*')"
   ]
  }
 ],
 "metadata": {
  "kernelspec": {
   "display_name": "Python 3 (ipykernel)",
   "language": "python",
   "name": "python3"
  },
  "language_info": {
   "codemirror_mode": {
    "name": "ipython",
    "version": 3
   },
   "file_extension": ".py",
   "mimetype": "text/x-python",
   "name": "python",
   "nbconvert_exporter": "python",
   "pygments_lexer": "ipython3",
   "version": "3.8.10"
  }
 },
 "nbformat": 4,
 "nbformat_minor": 5
}
