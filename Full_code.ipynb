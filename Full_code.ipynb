{
 "cells": [
  {
   "cell_type": "markdown",
   "id": "29f63235",
   "metadata": {},
   "source": [
    "## Import"
   ]
  },
  {
   "cell_type": "code",
   "execution_count": 1,
   "id": "04703d19-5a52-4957-a81d-7ebf3ac0d027",
   "metadata": {
    "collapsed": true,
    "jupyter": {
     "outputs_hidden": true
    }
   },
   "outputs": [
    {
     "name": "stderr",
     "output_type": "stream",
     "text": [
      "/home/dasom/anaconda3/envs/p38/lib/python3.8/site-packages/nilearn/datasets/__init__.py:93: FutureWarning: Fetchers from the nilearn.datasets module will be updated in version 0.9 to return python strings instead of bytes and Pandas dataframes instead of Numpy arrays.\n",
      "  warn(\"Fetchers from the nilearn.datasets module will be \"\n"
     ]
    }
   ],
   "source": [
    "from ipywidgets import *\n",
    "from cycler import cycler\n",
    "from scipy.stats import zscore, pearsonr, kendalltau, spearmanr, ttest_rel, ttest_1samp, ttest_ind\n",
    "from scipy.spatial.distance import cdist\n",
    "from scipy.ndimage import gaussian_filter1d, convolve1d\n",
    "from statsmodels.stats.multitest import fdrcorrection\n",
    "from sklearn.decomposition import PCA\n",
    "import pickle\n",
    "import numpy as np\n",
    "import nibabel as nib\n",
    "import matplotlib as mpl\n",
    "import matplotlib.pyplot as plt\n",
    "import statsmodels.api as sm\n",
    "import warnings\n",
    "warnings.filterwarnings(action='ignore')\n",
    "\n",
    "np.set_printoptions(suppress=True)\n",
    "\n",
    "mpl.rcParams['axes.linewidth'] = 2\n",
    "mpl.rcParams['xtick.major.width'] = 2\n",
    "mpl.rcParams['ytick.major.width'] = 2\n",
    "mpl.rcParams['xtick.major.size'] = 5\n",
    "mpl.rcParams['ytick.major.size'] = 5\n",
    "mpl.rcParams['axes.spines.top'] = False\n",
    "mpl.rcParams['axes.spines.right'] = False\n",
    "mpl.rcParams['axes.spines.bottom'] = False\n",
    "mpl.rcParams['axes.spines.left'] = True\n",
    "\n",
    "def cos_sim(A, B):\n",
    "    return np.dot(A, B)/(np.linalg.norm(A)*np.linalg.norm(B))"
   ]
  },
  {
   "cell_type": "code",
   "execution_count": 2,
   "id": "8aa45ed3-95ac-40a6-9bdf-f5ed21d5221a",
   "metadata": {},
   "outputs": [
    {
     "name": "stdout",
     "output_type": "stream",
     "text": [
      "986 + 914 + 666 = 2566\n"
     ]
    }
   ],
   "source": [
    "exclude_short_movie = np.load('/home/dasom/State_dynamics/results/exclude_short_movie.npy')\n",
    "\n",
    "rest_tr_ep1 = np.load('/home/dasom/State_dynamics/results/rest_tr_ep1.npy')\n",
    "rest_tr_ep2 = np.load('/home/dasom/State_dynamics/results/rest_tr_ep2.npy')\n",
    "rest_tr_ep3 = np.load('/home/dasom/State_dynamics/results/rest_tr_ep3.npy')\n",
    "\n",
    "rest_total = rest_tr_ep1.shape[0] + rest_tr_ep2.shape[0] + rest_tr_ep3.shape[0]\n",
    "rest_tr = np.hstack([rest_tr_ep1, rest_tr_ep2+996, rest_tr_ep3+996+958])\n",
    "print(f'{rest_tr_ep1.shape[0]} + {rest_tr_ep2.shape[0]} + {rest_tr_ep3.shape[0]} = {rest_total}')"
   ]
  },
  {
   "cell_type": "markdown",
   "id": "11fcd909-0791-4ae5-a126-841ac4aeea74",
   "metadata": {},
   "source": [
    "## Novelty and Memorability measurements"
   ]
  },
  {
   "cell_type": "markdown",
   "id": "fd9d5848",
   "metadata": {},
   "source": [
    "#### Memorability"
   ]
  },
  {
   "cell_type": "code",
   "execution_count": 3,
   "id": "4f158432",
   "metadata": {},
   "outputs": [],
   "source": [
    "Memorability_score_total = np.load('/home/dasom/State_dynamics/results/Memorability_score_total.npy')\n",
    "Memorability_score = np.load('/home/dasom/State_dynamics/results/Memorability_score.npy')\n",
    "Memorability_score_binary = np.load('/home/dasom/State_dynamics/results/Memorability_score_binary.npy')\n",
    "memorability = np.mean(Memorability_score, axis=0)\n",
    "\n",
    "recall_sim = np.zeros((24,24))\n",
    "for s1 in range(24):\n",
    "    for s2 in range(24):\n",
    "        recall_sim[s1,s2] = pearsonr(Memorability_score[s1],Memorability_score[s2])[0]\n",
    "        # recall_sim[s1,s2] = jaccard_score(Memorability_score_binary[s1],Memorability_score_binary[s2])"
   ]
  },
  {
   "cell_type": "code",
   "execution_count": 4,
   "metadata": {},
   "outputs": [
    {
     "data": {
      "text/plain": [
       "([], [])"
      ]
     },
     "execution_count": 4,
     "metadata": {},
     "output_type": "execute_result"
    },
    {
     "data": {
      "image/png": "[encoded data removed]",
      "text/plain": [
       "<Figure size 432x216 with 1 Axes>"
      ]
     },
     "metadata": {},
     "output_type": "display_data"
    }
   ],
   "source": [
    "plt.figure(figsize = [6,3])\n",
    "plt.imshow(Memorability_score, cmap = 'inferno', vmin = 0, vmax = 0.6)\n",
    "plt.xticks([])\n",
    "plt.yticks([])\n",
    "# plt.savefig('/home/dasom/Dropbox/ubuntu-window/미팅자료/Neural_dynamics/Memory_novelty_cooccur_valence/Recall_performance.png', dpi=300, bbox_inches = \"tight\")"
   ]
  },
  {
   "cell_type": "markdown",
   "id": "648b9f22",
   "metadata": {},
   "source": [
    "#### Novelty"
   ]
  },
  {
   "cell_type": "code",
   "execution_count": 5,
   "id": "6152275d",
   "metadata": {},
   "outputs": [],
   "source": [
    "cooccur_sim = np.load('/home/dasom/State_dynamics/results/cooccur_similarity.npy')\n",
    "\n",
    "nove_cooccur_1 = np.where(cooccur_sim >= np.percentile(cooccur_sim,200/3))[0]\n",
    "nove_cooccur_2 = np.where((cooccur_sim >= np.percentile(cooccur_sim,100/3)) & (cooccur_sim < np.percentile(cooccur_sim,200/3)))[0]\n",
    "nove_cooccur_3 = np.where(cooccur_sim < np.percentile(cooccur_sim,100/3))[0]\n",
    "\n",
    "valence_sim = np.load('/home/dasom/State_dynamics/results/valence_similarity.npy')\n",
    "\n",
    "nove_valence_1 = np.where(valence_sim >= np.percentile(valence_sim,200/3))[0]\n",
    "nove_valence_2 = np.where((valence_sim >= np.percentile(valence_sim,100/3)) & (valence_sim < np.percentile(valence_sim,200/3)))[0]\n",
    "nove_valence_3 = np.where(valence_sim < np.percentile(valence_sim,100/3))[0]\n",
    "\n",
    "### Just valence\n",
    "valence = np.load('/home/dasom/State_dynamics/results/valence_just.npy')"
   ]
  },
  {
   "cell_type": "code",
   "execution_count": null,
   "metadata": {},
   "outputs": [],
   "source": [
    "x = np.sort(zscore(cooccur_sim))\n",
    "y = zscore(valence_sim)[np.argsort(zscore(cooccur_sim))]\n",
    "a, b = np.polyfit(x, y, deg=1)\n",
    "y_est = a * x + b\n",
    "y_err = x.std() * np.sqrt(1/len(x) + x**2 / np.sum(x**2))\n",
    "\n",
    "fig, ax = plt.subplots(figsize = [5,5])\n",
    "ax.plot(x, y_est, '-', color = 'black', linewidth = 3)\n",
    "ax.fill_between(x, y_est - y_err, y_est + y_err, alpha=0.2, color = 'grey')\n",
    "ax.scatter(x, y, s = 50, color='red', edgecolor = 'black')\n",
    "\n",
    "plt.xlim([-2,2])\n",
    "plt.ylim([-2.3,1.3])\n",
    "plt.xticks([-1,0,1])\n",
    "plt.yticks([-2,-1,0,1])\n",
    "plt.savefig('/home/dasom/Dropbox/ubuntu-window/미팅자료/Neural_dynamics/Memory_novelty_cooccur_valence/Relationship_btw_cooccur_valence.png', dpi=300, bbox_inches = \"tight\")"
   ]
  },
  {
   "cell_type": "markdown",
   "metadata": {},
   "source": [
    "#### Relationship novelty and memorability"
   ]
  },
  {
   "cell_type": "code",
   "execution_count": null,
   "metadata": {},
   "outputs": [],
   "source": [
    "np.random.seed(2024)\n",
    "fig = plt.figure(figsize = [10,5])\n",
    "axs = fig.add_subplot(1,2,1)\n",
    "subj_memory = np.array([np.mean(Memorability_score[:,i], axis=1) for i in [nove_cooccur_1, nove_cooccur_2, nove_cooccur_3]])\n",
    "violin_parts = axs.violinplot(subj_memory.T, np.arange(3), showmeans=False, showmedians=False, showextrema=False, widths = 0.5)\n",
    "for vp in violin_parts['bodies']:\n",
    "    vp.set_facecolor('#FF0000')  # aa0000 FF00FF 00FFFF\n",
    "    vp.set_edgecolor('#000000')\n",
    "    vp.set_alpha(0.5)\n",
    "\n",
    "for c in range(3):\n",
    "    plt.scatter(np.random.normal(loc = c, scale = 0.02, size = 24), subj_memory[c], color = 'grey')\n",
    "    plt.hlines(np.mean(subj_memory[c]), c-0.1, c+0.1, zorder = 1, color = 'k')\n",
    "\n",
    "axs.set_xticks([0,1,2])\n",
    "axs.set_yticks([0,0.1,0.2,0.3,0.4,0.5])\n",
    "axs.set_yticklabels([0,0.1,0.2,0.3,0.4,0.5])\n",
    "axs.set_xlim([-0.5,2.5])\n",
    "axs.set_ylim([0, 0.5])\n",
    "\n",
    "axs = fig.add_subplot(1,2,2)\n",
    "subj_memory = np.array([np.mean(Memorability_score[:,i], axis=1) for i in [nove_valence_1, nove_valence_2, nove_valence_3]])\n",
    "violin_parts = axs.violinplot(subj_memory.T, np.arange(3), showmeans=False, showmedians=False, showextrema=False, widths = 0.5)\n",
    "for vp in violin_parts['bodies']:\n",
    "    vp.set_facecolor('#9C27B0')  # aa0000 FF00FF 00FFFF\n",
    "    vp.set_edgecolor('#000000')\n",
    "    vp.set_alpha(0.5)\n",
    "\n",
    "for c in range(3):\n",
    "    plt.scatter(np.random.normal(loc = c, scale = 0.02, size = 24), subj_memory[c], color = 'grey')\n",
    "    plt.hlines(np.mean(subj_memory[c]), c-0.1, c+0.1, zorder = 1, color = 'k')\n",
    "\n",
    "axs.set_xticks([0,1,2])\n",
    "axs.set_yticks([0,0.1,0.2,0.3,0.4,0.5])\n",
    "axs.set_yticklabels([0,0.1,0.2,0.3,0.4,0.5])\n",
    "axs.set_xlim([-0.5,2.5])\n",
    "axs.set_ylim([0, 0.5])\n",
    "fig.tight_layout()\n",
    "fig.savefig('/home/dasom/Dropbox/ubuntu-window/미팅자료/Neural_dynamics/Memory_novelty_cooccur_valence/Relationship_btw_novelty_memory.png', dpi=300, bbox_inches = \"tight\")"
   ]
  },
  {
   "cell_type": "code",
   "execution_count": null,
   "metadata": {},
   "outputs": [],
   "source": [
    "import numpy as np \n",
    "import pandas as pd \n",
    "from statsmodels.stats.anova import AnovaRM \n",
    "\n",
    "# score_mean = np.array([np.mean(Memorability_score[:,i], axis=1) for i in [nove_cooccur_1, nove_cooccur_2, nove_cooccur_3]])\n",
    "score_mean = np.array([np.mean(Memorability_score[:,i], axis=1) for i in [nove_valence_1, nove_valence_2, nove_valence_3]])\n",
    "# Create the data \n",
    "dataframe = pd.DataFrame({'Sub': np.tile(np.arange(24),3),\n",
    "                          'Cond': np.repeat([1, 2, 3], 24), \n",
    "                          'Recall' : np.hstack([score_mean[i] for i in range(3)])}) \n",
    "  \n",
    "# Conduct the repeated measures ANOVA \n",
    "print(AnovaRM(data=dataframe, depvar='Recall', subject='Sub', within=['Cond']).fit()) "
   ]
  },
  {
   "cell_type": "code",
   "execution_count": null,
   "metadata": {},
   "outputs": [],
   "source": [
    "# score_mean = np.array([np.mean(Memorability_score[:,i], axis=1) for i in [nove_cooccur_1, nove_cooccur_2, nove_cooccur_3]])\n",
    "score_mean = np.array([np.mean(Memorability_score[:,i], axis=1) for i in [nove_valence_1, nove_valence_2, nove_valence_3]])\n",
    "ttest_rel(score_mean[0], score_mean[1])"
   ]
  },
  {
   "cell_type": "markdown",
   "metadata": {},
   "source": [
    "#### Movie event onset and offset"
   ]
  },
  {
   "cell_type": "code",
   "execution_count": 6,
   "metadata": {},
   "outputs": [],
   "source": [
    "overlap_start = np.load('/home/dasom/State_dynamics/results/movie_event_start_idx.npy')\n",
    "overlap_end = np.load('/home/dasom/State_dynamics/results/movie_event_boundary_idx.npy')"
   ]
  },
  {
   "cell_type": "markdown",
   "metadata": {},
   "source": [
    "#### Recall onset and offset"
   ]
  },
  {
   "cell_type": "code",
   "execution_count": 9,
   "metadata": {},
   "outputs": [],
   "source": [
    "event_start_tot = np.load('/home/dasom/State_dynamics/results/Recall_event_onset.npy', allow_pickle=True)\n",
    "event_end_tot = np.load('/home/dasom/State_dynamics/results/Recall_event_offset.npy', allow_pickle=True)\n",
    "event_idx = np.load('/home/dasom/State_dynamics/results/Recall_event_idx.npy', allow_pickle=True)"
   ]
  },
  {
   "cell_type": "code",
   "execution_count": 8,
   "metadata": {},
   "outputs": [],
   "source": [
    "# np.load('/home/dasom/State_dynamics/results/Memorability_score_binary.npy')\n",
    "np.save('/home/dasom/State_dynamics/results/Recall_event_onset.npy', event_start_tot)"
   ]
  },
  {
   "cell_type": "markdown",
   "id": "4df5ec23-0904-4b5f-884c-ac8f840161e0",
   "metadata": {},
   "source": [
    "## Brain data"
   ]
  },
  {
   "cell_type": "code",
   "execution_count": 213,
   "id": "ab16d14d-04ff-4613-80a4-b4ff806294b7",
   "metadata": {},
   "outputs": [],
   "source": [
    "# with open('/media/dasom/caee0336-77a9-438c-af2f-7cf5b88293e7/dasom/SM_DATA/social_movie1/results/fMRI_data/movie_data_ex2_sc_sm.pickle', 'rb') as f:\n",
    "#     movie_data = pickle.load(f)\n",
    "    \n",
    "with open('/media/dasom/caee0336-77a9-438c-af2f-7cf5b88293e7/dasom/SM_DATA/social_movie1/results/fMRI_data/recall_data_ex2_sc_sm.pickle', 'rb') as f:\n",
    "    recall_data_concat = pickle.load(f)"
   ]
  },
  {
   "cell_type": "code",
   "execution_count": 12,
   "id": "ecf154a9",
   "metadata": {},
   "outputs": [],
   "source": [
    "brain_mask = nib.load(f'/home/dasom/SM_DATA/mri_data/mask_files/MNI152NLin2009cAsym_3mm_mask.nii.gz').get_fdata()\n",
    "mask = nib.load('/home/dasom/SM_DATA/mri_data/mask_files/BNA_3mm_atlas.nii.gz').get_fdata()\n",
    "\n",
    "# roi_mask1 = np.hstack([np.where(mask[brain_mask > 0] == r)[0] for r in [215,216,217,218]])\n",
    "# pca_canonical = PCA(n_components=20)\n",
    "# data = np.mean(movie_data[:,roi_mask1][:,:,rest_tr], axis=0)\n",
    "# data_hipp = pca_canonical.fit(data.T)"
   ]
  },
  {
   "cell_type": "code",
   "execution_count": 46,
   "id": "4a40195f",
   "metadata": {},
   "outputs": [],
   "source": [
    "# movie viewing\n",
    "\n",
    "window_length = 21\n",
    "\n",
    "roi_mask1 = np.hstack([np.where(mask[brain_mask > 0] == r)[0] for r in [215,216,217,218]]) # HIPP\n",
    "roi_mask2 = np.hstack([np.where(mask[brain_mask > 0] == r)[0] for r in [111,112,119,120]]) # PHC\n",
    "roi_mask3 = np.hstack([np.where(mask[brain_mask > 0] == r)[0] for r in [115,116]]) # EC\n",
    "roi_mask4 = np.hstack([np.where(mask[brain_mask > 0] == r)[0] for r in [117,118]]) # PRC\n",
    "roi_mask5 = np.hstack([np.where(mask[brain_mask > 0] == r)[0] for r in [75,76,79,80]]) # STG\n",
    "roi_mask6 = np.hstack([np.where(mask[brain_mask > 0] == r)[0] for r in [87,88,121,122]]) # STS\n",
    "roi_mask7 = np.hstack([np.where(mask[brain_mask > 0] == r)[0] for r in [143,144]]) # TPJ\n",
    "roi_mask8 = np.hstack([np.where(mask[brain_mask > 0] == r)[0] for r in [153,154,175,176]]) # PMC\n",
    "roi_mask9 = np.hstack([np.where(mask[brain_mask > 0] == r)[0] for r in [13,14]]) # DMPFC\n",
    "roi_mask10 = np.hstack([np.where(mask[brain_mask > 0] == r)[0] for r in [41,42]]) # VMPFC\n",
    "roi_mask11 = np.hstack([np.where(mask[brain_mask > 0] == r)[0] for r in [189,190,191,192,193,194]]) # VC\n",
    "roi_mask12 = np.hstack([np.where(mask[brain_mask > 0] == r)[0] for r in [71,72]]) # AC\n",
    "roi_mask13 = np.hstack([np.where(mask[brain_mask > 0] == r)[0] for r in [179,187,188]]) # ACC\n",
    "\n",
    "patterns = []\n",
    "# for rm in [roi_mask1,roi_mask2,roi_mask3,roi_mask4,roi_mask5,roi_mask6,roi_mask7,roi_mask8,roi_mask9,roi_mask10,roi_mask11,roi_mask12,roi_mask13]:\n",
    "for rm in [roi_mask1]:\n",
    "    pattern = []\n",
    "    for s in range(movie_data.shape[0]):\n",
    "        movie_data_sub = movie_data[s, rm]\n",
    "        ev_pattern = []\n",
    "        for ev in overlap_end[exclude_short_movie[1:]]:\n",
    "            ev_pattern.append(movie_data_sub[:,ev-6:ev+15])\n",
    "        pattern.append(ev_pattern)\n",
    "    patterns.append(np.array(pattern))\n",
    "    # patterns.append(gaussian_filter1d(pattern, sigma = 2, axis=-1)) # For visualization"
   ]
  },
  {
   "cell_type": "code",
   "execution_count": 214,
   "id": "2c8bbb3b",
   "metadata": {},
   "outputs": [],
   "source": [
    "# narrative recall\n",
    "window_length = 21 # 18 for end\n",
    "roi_mask1 = np.hstack([np.where(mask[brain_mask > 0] == r)[0] for r in [215,216,217,218]]) # HIPP\n",
    "\n",
    "patterns_recall = []\n",
    "for rm in [roi_mask1]:\n",
    "    pattern = []\n",
    "    for s in range(len(recall_data_concat)):\n",
    "        recall_data_sub = recall_data_concat[s][rm]\n",
    "        ev_pattern = []\n",
    "        for ev in event_start_tot[s]:\n",
    "            ev_pattern.append(recall_data_sub[:,ev-6:ev+15])\n",
    "        pattern.append(np.array(ev_pattern))\n",
    "    patterns_recall.append(pattern)\n",
    "    # patterns.append(gaussian_filter1d(pattern, sigma = 2, axis=-1)) # For visualization"
   ]
  },
  {
   "cell_type": "markdown",
   "metadata": {},
   "source": [
    "## Subspace analysis"
   ]
  },
  {
   "cell_type": "markdown",
   "id": "4f58e99e",
   "metadata": {},
   "source": [
    "#### 1. Linear regression"
   ]
  },
  {
   "cell_type": "markdown",
   "id": "30856d9d",
   "metadata": {},
   "source": [
    "##### Novelty & Memory"
   ]
  },
  {
   "cell_type": "code",
   "execution_count": null,
   "id": "b7515638",
   "metadata": {},
   "outputs": [],
   "source": [
    "# each subject\n",
    "which_cognition = 'memory'\n",
    "\n",
    "np.random.seed(2023)\n",
    "\n",
    "repetition = 100\n",
    "beta_true = []\n",
    "beta_perm = []\n",
    "for data_pattern in patterns:\n",
    "    beta_tot_true = []\n",
    "    beta_tot_perm = []\n",
    "    for repeat in range(repetition + 1):\n",
    "        if repeat == 0:\n",
    "            if which_cognition == 'novelty':\n",
    "                conds = np.array([np.intersect1d(nove_cooccur_1, nove_valence_1), np.intersect1d(nove_cooccur_1, nove_valence_2), np.intersect1d(nove_cooccur_1, nove_valence_3),\n",
    "                                  np.intersect1d(nove_cooccur_2, nove_valence_1), np.intersect1d(nove_cooccur_2, nove_valence_2), np.intersect1d(nove_cooccur_2, nove_valence_3),\n",
    "                                  np.intersect1d(nove_cooccur_3, nove_valence_1), np.intersect1d(nove_cooccur_3, nove_valence_2), np.intersect1d(nove_cooccur_3, nove_valence_3)])\n",
    "            elif which_cognition == 'valence':\n",
    "                conds = np.array(np.array_split(np.argsort(valence), 6))\n",
    "            elif which_cognition == 'memory':\n",
    "                conds = np.array_split(np.argsort(-memorability), 9) # from low to high\n",
    "            \n",
    "            conds_regressor = []\n",
    "            for cd in conds:\n",
    "                cr = np.zeros(43)\n",
    "                cr[cd] = 1\n",
    "                conds_regressor.append(cr)\n",
    "\n",
    "            FIR_tot = []\n",
    "            for s in range(movie_data.shape[0]):\n",
    "                F = np.array([conds_regressor[cr] for cr in range(len(conds_regressor))])\n",
    "                beta = []\n",
    "                for t in range(window_length):\n",
    "                    beta.append(np.dot(np.dot(np.linalg.inv(np.dot(F, F.T)), F), data_pattern[s][:,:,t]))\n",
    "                FIR_tot.append(beta)\n",
    "            FIR_tot = np.array(FIR_tot)\n",
    "\n",
    "            for s in range(movie_data.shape[0]):\n",
    "                if which_cognition == 'novelty':\n",
    "                    F = np.array([[-1,-1,-1,0,0,0,1,1,1],\n",
    "                                  [-1,0,1,-1,0,1,-1,0,1],\n",
    "                                  [1,1,1,1,1,1,1,1,1]]) \n",
    "                elif which_cognition == 'valence':\n",
    "                    F = np.array([[-5,-3,-1,1,3,5],\n",
    "                                  [1,1,1,1,1,1]])  \n",
    "                elif which_cognition == 'memory':   \n",
    "                    F = np.array([[np.mean(memorability[ev]) - np.mean(memorability) for ev in conds],\n",
    "                                  [1,1,1,1,1,1,1,1,1]])             \n",
    "                beta = []\n",
    "                for t in range(window_length):\n",
    "                    beta.append(np.dot(np.dot(np.linalg.inv(np.dot(F, F.T)), F), FIR_tot[s][t]))\n",
    "                beta_tot_true.append(beta)    \n",
    "\n",
    "        else:\n",
    "            conds_regressor = []\n",
    "            for cd in conds:\n",
    "                cr = np.zeros(43)\n",
    "                cr[cd] = 1\n",
    "                conds_regressor.append(cr)\n",
    "\n",
    "            FIR_tot = []\n",
    "            for s in range(movie_data.shape[0]):\n",
    "                F = np.array([conds_regressor[cr] for cr in range(len(conds_regressor))])\n",
    "                beta = []\n",
    "                for t in range(window_length):\n",
    "                    beta.append(np.dot(np.dot(np.linalg.inv(np.dot(F, F.T)), F), data_pattern[s][:,:,t]))\n",
    "                FIR_tot.append(beta)\n",
    "            FIR_tot = np.array(FIR_tot)\n",
    "\n",
    "            betas = []\n",
    "            for s in range(movie_data.shape[0]):\n",
    "                if which_cognition == 'novelty':\n",
    "                    F = np.array([[-1,-1,-1,0,0,0,1,1,1],\n",
    "                                  [-1,0,1,-1,0,1,-1,0,1],\n",
    "                                  [1,1,1,1,1,1,1,1,1]]) \n",
    "                elif which_cognition == 'valence':\n",
    "                    F = np.array([[-5,-3,-1,1,3,5],\n",
    "                                  [1,1,1,1,1,1]])  \n",
    "                elif which_cognition == 'memory':\n",
    "                    F = np.array([[np.mean(memorability[ev]) - np.mean(memorability) for ev in conds],\n",
    "                                  [1,1,1,1,1,1,1,1,1]])                          \n",
    "                np.random.shuffle(F.T)\n",
    "                beta = []\n",
    "                for t in range(window_length):\n",
    "                    beta.append(np.dot(np.dot(np.linalg.inv(np.dot(F, F.T)), F), FIR_tot[s][t]))\n",
    "                betas.append(beta)\n",
    "            beta_tot_perm.append(betas)\n",
    "    beta_true.append(np.array(beta_tot_true))\n",
    "    beta_perm.append(np.array(beta_tot_perm))"
   ]
  },
  {
   "cell_type": "code",
   "execution_count": 16,
   "id": "28564ab1",
   "metadata": {},
   "outputs": [],
   "source": [
    "beta_true_novelty = beta_true\n",
    "beta_perm_novelty = beta_perm\n",
    "# beta_true_novelty = np.load('/media/dasom/caee0336-77a9-438c-af2f-7cf5b88293e7/dasom/Neural_subspace/results/beta_true_novelty.npy')\n",
    "# beta_perm_novelty = np.load('/media/dasom/caee0336-77a9-438c-af2f-7cf5b88293e7/dasom/Neural_subspace/results/beta_perm_novelty.npy')"
   ]
  },
  {
   "cell_type": "code",
   "execution_count": 31,
   "id": "b1eb98ee",
   "metadata": {},
   "outputs": [],
   "source": [
    "beta_true_memory = beta_true\n",
    "beta_perm_memory = beta_perm\n",
    "# beta_true_memory = np.load('/media/dasom/caee0336-77a9-438c-af2f-7cf5b88293e7/dasom/Neural_subspace/results/beta_true_memory.npy')\n",
    "# beta_perm_memory = np.load('/media/dasom/caee0336-77a9-438c-af2f-7cf5b88293e7/dasom/Neural_subspace/results/beta_perm_memory.npy')\n",
    "# beta_true_recall = np.load('/media/dasom/caee0336-77a9-438c-af2f-7cf5b88293e7/dasom/Neural_subspace/results/beta_true_recall_start.npy')\n",
    "# beta_perm_recall = np.load('/media/dasom/caee0336-77a9-438c-af2f-7cf5b88293e7/dasom/Neural_subspace/results/beta_perm_recall_start.npy')"
   ]
  },
  {
   "cell_type": "code",
   "execution_count": null,
   "id": "8f0307a7",
   "metadata": {},
   "outputs": [],
   "source": [
    "# beta_true_valence = beta_true\n",
    "# beta_perm_valence = beta_perm"
   ]
  },
  {
   "cell_type": "markdown",
   "metadata": {},
   "source": [
    "##### Retrieval"
   ]
  },
  {
   "cell_type": "code",
   "execution_count": 216,
   "id": "ba71d35a",
   "metadata": {},
   "outputs": [],
   "source": [
    "np.random.seed(2023)\n",
    "\n",
    "repetition = 100\n",
    "beta_true_recall = []\n",
    "beta_perm_recall = []\n",
    "for data_pattern in patterns_recall:\n",
    "    beta_tot_true = []\n",
    "    beta_tot_perm = []\n",
    "    for repeat in range(repetition + 1):\n",
    "        if repeat == 0:\n",
    "            for s in range(movie_data.shape[0]):\n",
    "\n",
    "                score_sub = Memorability_score_total[s][event_idx[s]]\n",
    "                recall_task6 = np.where(score_sub >= np.percentile(score_sub, 500/6))[0]\n",
    "                recall_task5 = np.where((score_sub >= np.percentile(score_sub, 400/6)) & (score_sub < np.percentile(score_sub, 500/6)))[0]\n",
    "                recall_task4 = np.where((score_sub >= np.percentile(score_sub, 300/6)) & (score_sub < np.percentile(score_sub, 400/6)))[0]\n",
    "                recall_task3 = np.where((score_sub >= np.percentile(score_sub, 200/6)) & (score_sub < np.percentile(score_sub, 300/6)))[0]\n",
    "                recall_task2 = np.where((score_sub >= np.percentile(score_sub, 100/6)) & (score_sub < np.percentile(score_sub, 200/6)))[0]\n",
    "                recall_task1 = np.where(score_sub < np.percentile(score_sub, 100/6))[0]\n",
    "\n",
    "                conds = np.array([recall_task6, recall_task5, recall_task4, recall_task3, recall_task2, recall_task1])\n",
    "                \n",
    "                conds_regressor = []\n",
    "                for cd in conds:\n",
    "                    cr = np.zeros(len(score_sub))\n",
    "                    cr[cd] = 1\n",
    "                    conds_regressor.append(cr)\n",
    "                    \n",
    "                F = np.array([conds_regressor[cr] for cr in range(len(conds_regressor))])\n",
    "                FIR_tot = []\n",
    "                for t in range(window_length):\n",
    "                    FIR_tot.append(np.dot(np.dot(np.linalg.inv(np.dot(F, F.T)), F), data_pattern[s][:,:,t]))\n",
    "                FIR_tot = np.array(FIR_tot)\n",
    "\n",
    "                F = np.array([[np.mean(score_sub[ev]) - np.mean(score_sub) for ev in conds],\n",
    "                              [1,1,1,1,1,1]])                \n",
    "                beta = []\n",
    "                for t in range(window_length):\n",
    "                    beta.append(np.dot(np.dot(np.linalg.inv(np.dot(F, F.T)), F), FIR_tot[t]))\n",
    "                beta_tot_true.append(beta)    \n",
    "\n",
    "        else:\n",
    "            betas = []\n",
    "            for s in range(movie_data.shape[0]):\n",
    "                \n",
    "                score_sub = Memorability_score_total[s][event_idx[s]]\n",
    "                recall_task6 = np.where(score_sub >= np.percentile(score_sub, 500/6))[0]\n",
    "                recall_task5 = np.where((score_sub >= np.percentile(score_sub, 400/6)) & (score_sub < np.percentile(score_sub, 500/6)))[0]\n",
    "                recall_task4 = np.where((score_sub >= np.percentile(score_sub, 300/6)) & (score_sub < np.percentile(score_sub, 400/6)))[0]\n",
    "                recall_task3 = np.where((score_sub >= np.percentile(score_sub, 200/6)) & (score_sub < np.percentile(score_sub, 300/6)))[0]\n",
    "                recall_task2 = np.where((score_sub >= np.percentile(score_sub, 100/6)) & (score_sub < np.percentile(score_sub, 200/6)))[0]\n",
    "                recall_task1 = np.where(score_sub < np.percentile(score_sub, 100/6))[0]\n",
    "\n",
    "                conds = np.array([recall_task6, recall_task5, recall_task4, recall_task3, recall_task2, recall_task1])\n",
    "                \n",
    "                conds_regressor = []\n",
    "                for cd in conds:\n",
    "                    cr = np.zeros(len(score_sub))\n",
    "                    cr[cd] = 1\n",
    "                    conds_regressor.append(cr)\n",
    "\n",
    "                F = np.array([conds_regressor[cr] for cr in range(len(conds_regressor))])\n",
    "                FIR_tot = []\n",
    "                for t in range(window_length):\n",
    "                    FIR_tot.append(np.dot(np.dot(np.linalg.inv(np.dot(F, F.T)), F), data_pattern[s][:,:,t]))\n",
    "                FIR_tot = np.array(FIR_tot)\n",
    "                \n",
    "                F = np.array([[np.mean(score_sub[ev]) - np.mean(score_sub) for ev in conds],\n",
    "                              [1,1,1,1,1,1]])           \n",
    "                np.random.shuffle(F.T)\n",
    "                beta = []\n",
    "                for t in range(window_length):\n",
    "                    beta.append(np.dot(np.dot(np.linalg.inv(np.dot(F, F.T)), F), FIR_tot[t]))\n",
    "                betas.append(beta)\n",
    "            beta_tot_perm.append(betas)\n",
    "    beta_true_recall.append(np.array(beta_tot_true))\n",
    "    beta_perm_recall.append(np.array(beta_tot_perm))"
   ]
  },
  {
   "cell_type": "code",
   "execution_count": 217,
   "metadata": {},
   "outputs": [],
   "source": [
    "beta_true_recall_start = beta_true_recall\n",
    "beta_perm_recall_start = beta_perm_recall"
   ]
  },
  {
   "cell_type": "code",
   "execution_count": null,
   "metadata": {},
   "outputs": [],
   "source": [
    "beta_true_recall_end = beta_true_recall\n",
    "beta_perm_recall_end = beta_perm_recall"
   ]
  },
  {
   "cell_type": "code",
   "execution_count": 726,
   "metadata": {},
   "outputs": [],
   "source": [
    "np.save('/media/dasom/caee0336-77a9-438c-af2f-7cf5b88293e7/dasom/Neural_subspace/results/beta_perm_recall_start.npy', beta_perm_recall_start)"
   ]
  },
  {
   "cell_type": "markdown",
   "id": "94305c02",
   "metadata": {},
   "source": [
    "#### 2. Pooling average responses within conditions"
   ]
  },
  {
   "cell_type": "code",
   "execution_count": 27,
   "id": "60e0fdfd",
   "metadata": {},
   "outputs": [],
   "source": [
    "# # not novelty (valence)\n",
    "# F = []\n",
    "# conds = np.array_split(np.argsort(valence), 9)\n",
    "# for ev in conds:\n",
    "#     a = np.zeros(43)\n",
    "#     a[ev] = 1 \n",
    "#     F.append(a)\n",
    "# F = np.array(F)\n",
    "# FIR_tot_val_ev = []\n",
    "# for data_pattern in patterns:\n",
    "#     FIR_ev = []\n",
    "#     for s in range(movie_data.shape[0]):\n",
    "#         beta = []\n",
    "#         for t in range(window_length):\n",
    "#             beta.append(np.dot(np.dot(np.linalg.inv(np.dot(F, F.T)), F), data_pattern[s][:,:,t]))\n",
    "#         FIR_ev.append(beta)\n",
    "#     FIR_tot_val_ev.append(np.array(FIR_ev))\n",
    "\n",
    "# novelty\n",
    "F = []\n",
    "conds = np.array([np.intersect1d(nove_cooccur_1, nove_valence_1), np.intersect1d(nove_cooccur_1, nove_valence_2), np.intersect1d(nove_cooccur_1, nove_valence_3),\n",
    "                  np.intersect1d(nove_cooccur_2, nove_valence_1), np.intersect1d(nove_cooccur_2, nove_valence_2), np.intersect1d(nove_cooccur_2, nove_valence_3),\n",
    "                  np.intersect1d(nove_cooccur_3, nove_valence_1), np.intersect1d(nove_cooccur_3, nove_valence_2), np.intersect1d(nove_cooccur_3, nove_valence_3)])\n",
    "for ev in conds:\n",
    "    a = np.zeros(43)\n",
    "    a[ev] = 1 \n",
    "    F.append(a)\n",
    "F = np.array(F)\n",
    "\n",
    "FIR_tot_novelty_ev = []\n",
    "for data_pattern in patterns:\n",
    "    FIR_ev = []\n",
    "    for s in range(movie_data.shape[0]):\n",
    "        beta = []\n",
    "        for t in range(window_length):\n",
    "            beta.append(np.dot(np.dot(np.linalg.inv(np.dot(F, F.T)), F), data_pattern[s][:,:,t]))\n",
    "        FIR_ev.append(beta)\n",
    "    FIR_tot_novelty_ev.append(np.array(FIR_ev))\n",
    "    \n",
    "\n",
    "# memorability\n",
    "F = []\n",
    "for ev in np.array_split(np.argsort(-memorability), 9):\n",
    "    a = np.zeros(43)\n",
    "    a[ev] = 1 \n",
    "    F.append(a)\n",
    "F = np.array(F)\n",
    "\n",
    "FIR_tot_memory_ev = []\n",
    "for data_pattern in patterns:\n",
    "    FIR_ev = []\n",
    "    for s in range(movie_data.shape[0]):\n",
    "        beta = []\n",
    "        for t in range(window_length):\n",
    "            beta.append(np.dot(np.dot(np.linalg.inv(np.dot(F, F.T)), F), data_pattern[s][:,:,t]))\n",
    "        FIR_ev.append(beta)\n",
    "    FIR_tot_memory_ev.append(np.array(FIR_ev))\n",
    "\n",
    "# # retrieval\n",
    "# score = np.load('/media/dasom/caee0336-77a9-438c-af2f-7cf5b88293e7/dasom/SM_DATA/social_movie_recall/results/RECALL/recall_score_words.npy',allow_pickle = True)\n",
    "# FIR_tot_recall_ev = []\n",
    "# for data_pattern_recall in patterns_recall:\n",
    "#     FIR_ev = []\n",
    "#     for s in range(24):\n",
    "#         F = []\n",
    "#         for ev in np.array_split(np.argsort(-score[s][event_idx[s]]), 9):\n",
    "#             a = np.zeros(len(event_idx[s]))\n",
    "#             for e in ev:\n",
    "#                 a[e] = 1\n",
    "#             F.append(a)\n",
    "#         F = np.array(F)\n",
    "\n",
    "#         beta = []\n",
    "#         for t in range(window_length):\n",
    "#             beta.append(np.dot(np.dot(np.linalg.inv(np.dot(F, F.T)), F), data_pattern_recall[s][:,:,t]))\n",
    "#         FIR_ev.append(beta)\n",
    "#     FIR_tot_recall_ev.append(np.array(FIR_ev))\n",
    "\n",
    "# total\n",
    "F = np.array([np.ones(43)])\n",
    "FIR_tot_ev = []\n",
    "for data_pattern in patterns:\n",
    "    FIR_ev = []\n",
    "    for s in range(movie_data.shape[0]):\n",
    "        beta = []\n",
    "        for t in range(window_length):\n",
    "            beta.append(np.dot(np.dot(np.linalg.inv(np.dot(F, F.T)), F), data_pattern[s][:,:,t]))\n",
    "        FIR_ev.append(beta)\n",
    "    FIR_tot_ev.append(np.array(FIR_ev))"
   ]
  },
  {
   "cell_type": "code",
   "execution_count": 212,
   "metadata": {},
   "outputs": [],
   "source": [
    "FIR_tot_novelty_ev = np.load('/media/dasom/caee0336-77a9-438c-af2f-7cf5b88293e7/dasom/Neural_subspace/results/FIR_tot_novelty_ev.npy')\n",
    "FIR_tot_memory_ev = np.load('/media/dasom/caee0336-77a9-438c-af2f-7cf5b88293e7/dasom/Neural_subspace/results/FIR_tot_memory_ev.npy')\n",
    "FIR_tot_recall_ev = np.load('/media/dasom/caee0336-77a9-438c-af2f-7cf5b88293e7/dasom/Neural_subspace/results/FIR_tot_recall_start_ev.npy')"
   ]
  },
  {
   "cell_type": "markdown",
   "id": "97d7cc6a",
   "metadata": {},
   "source": [
    "#### 3. PCA"
   ]
  },
  {
   "cell_type": "markdown",
   "id": "1696e26e",
   "metadata": {},
   "source": [
    "##### projection"
   ]
  },
  {
   "cell_type": "code",
   "execution_count": 218,
   "id": "7b5f5573",
   "metadata": {},
   "outputs": [],
   "source": [
    "fMRI_data = FIR_tot_recall_ev\n",
    "pc_num = [window_length-1]*len(patterns)\n",
    "\n",
    "pc1_evs = []\n",
    "pc2_evs = []\n",
    "p_c1_trues = []\n",
    "p_c2_trues = []\n",
    "p_c1_perms = []\n",
    "p_c2_perms = []\n",
    "\n",
    "for r in range(len(patterns)):\n",
    "\n",
    "    beta_pcas = beta_true_recall_start[r]\n",
    "\n",
    "    pca_c1 = PCA(n_components=pc_num[r])\n",
    "    data = np.mean(beta_pcas, axis=0)[:,0].T\n",
    "    data_c1 = pca_c1.fit(data.T)\n",
    "    pcs_c1 = data_c1.components_\n",
    "    pc1_evs.append(np.cumsum(pca_c1.explained_variance_ratio_))\n",
    "\n",
    "    pca_c2 = PCA(n_components=pc_num[r])\n",
    "    data = np.mean(beta_pcas, axis=0)[:,1].T\n",
    "    data_c2 = pca_c2.fit(data.T)\n",
    "    pcs_c2 = data_c2.components_\n",
    "    pc2_evs.append(np.cumsum(pca_c2.explained_variance_ratio_))\n",
    "\n",
    "    p_c1_true = []\n",
    "    p_c2_true = []\n",
    "    for c in range(fMRI_data[0][0].shape[1]):\n",
    "        p_c1_true.append(np.dot(pcs_c1, np.mean(fMRI_data[r], axis=0)[:,c].T))\n",
    "        p_c2_true.append(np.dot(pcs_c2, np.mean(fMRI_data[r], axis=0)[:,c].T))\n",
    "\n",
    "    # p_c1_true = []\n",
    "    # p_c2_true = []\n",
    "    # for s in range(movie_data.shape[0]):\n",
    "    #     c1s = []\n",
    "    #     c2s = []\n",
    "    #     for c in range(fMRI_data[r][s].shape[1]):\n",
    "    #         c1s.append(np.dot(pcs_c1, fMRI_data[r][s][:,c].T))\n",
    "    #         c2s.append(np.dot(pcs_c2, fMRI_data[r][s][:,c].T))\n",
    "    #     p_c1_true.append(c1s)\n",
    "    #     p_c2_true.append(c2s)\n",
    "\n",
    "    p_c1s = []\n",
    "    p_c2s = []\n",
    "    for repeat in range(repetition):\n",
    "        \n",
    "        beta_pcas = beta_perm_recall_start[r][repeat]\n",
    "\n",
    "        pca_c1 = PCA(n_components=pc_num[r])\n",
    "        data = np.mean(beta_pcas, axis=0)[:,0].T\n",
    "        data_c1 = pca_c1.fit(data.T)\n",
    "        pcs_c1 = data_c1.components_\n",
    "\n",
    "        pca_c2 = PCA(n_components=pc_num[r])\n",
    "        data = np.mean(beta_pcas, axis=0)[:,1].T\n",
    "        data_c2 = pca_c2.fit(data.T)\n",
    "        pcs_c2 = data_c2.components_\n",
    "\n",
    "        c1s = []\n",
    "        c2s = []\n",
    "        for c in range(fMRI_data[0][0].shape[1]):\n",
    "            c1s.append(np.dot(pcs_c1, np.mean(fMRI_data[r], axis=0)[:,c].T))\n",
    "            c2s.append(np.dot(pcs_c2, np.mean(fMRI_data[r], axis=0)[:,c].T))\n",
    "        p_c1s.append(c1s)\n",
    "        p_c2s.append(c2s)\n",
    "\n",
    "        # p_c1 = []\n",
    "        # p_c2 = []\n",
    "        # for s in range(movie_data.shape[0]):\n",
    "        #     c1s = []\n",
    "        #     c2s = []\n",
    "        #     for c in range(fMRI_data[r][s].shape[1]):\n",
    "        #         c1s.append(np.dot(pcs_c1, fMRI_data[r][s][:,c].T))\n",
    "        #         c2s.append(np.dot(pcs_c2, fMRI_data[r][s][:,c].T))\n",
    "        #     p_c1.append(c1s)\n",
    "        #     p_c2.append(c2s)\n",
    "        # p_c1s.append(p_c1)\n",
    "        # p_c2s.append(p_c2)\n",
    "\n",
    "    p_c1_trues.append(np.array(p_c1_true))\n",
    "    p_c2_trues.append(np.array(p_c2_true))\n",
    "    p_c1_perms.append(np.array(p_c1s))\n",
    "    p_c2_perms.append(np.array(p_c2s))"
   ]
  },
  {
   "cell_type": "code",
   "execution_count": 219,
   "metadata": {},
   "outputs": [],
   "source": [
    "# novelty_co_space_novelty_true = p_c1_trues\n",
    "# novelty_val_space_novelty_true = p_c2_trues\n",
    "# novelty_co_space_novelty_perm = p_c1_perms\n",
    "# novelty_val_space_novelty_perm = p_c2_perms\n",
    "\n",
    "# novelty_co_space_memory_true = p_c1_trues\n",
    "# novelty_val_space_memory_true = p_c2_trues\n",
    "# novelty_co_space_memory_perm = p_c1_perms\n",
    "# novelty_val_space_memory_perm = p_c2_perms\n",
    "\n",
    "# memory_space_memory_true = p_c1_trues\n",
    "# memory_space_memory_perm = p_c1_perms\n",
    "\n",
    "# memory_space_novelty_true = p_c1_trues\n",
    "# memory_space_novelty_perm = p_c1_perms\n",
    "\n",
    "recall_start_space_recall_true = p_c1_trues\n",
    "recall_start_space_recall_perm = p_c1_perms\n",
    "\n",
    "# recall_end_space_recall_true = p_c1_trues\n",
    "# recall_end_space_recall_perm = p_c1_perms"
   ]
  },
  {
   "cell_type": "code",
   "execution_count": 252,
   "metadata": {},
   "outputs": [],
   "source": [
    "novelty_co_space_novelty_true = np.load('/media/dasom/caee0336-77a9-438c-af2f-7cf5b88293e7/dasom/Neural_subspace/results/novelty_co_space_novelty_true.npy')\n",
    "novelty_co_space_novelty_perm = np.load('/media/dasom/caee0336-77a9-438c-af2f-7cf5b88293e7/dasom/Neural_subspace/results/novelty_co_space_novelty_perm.npy')\n",
    "novelty_val_space_novelty_true = np.load('/media/dasom/caee0336-77a9-438c-af2f-7cf5b88293e7/dasom/Neural_subspace/results/novelty_val_space_novelty_true.npy')\n",
    "novelty_val_space_novelty_perm = np.load('/media/dasom/caee0336-77a9-438c-af2f-7cf5b88293e7/dasom/Neural_subspace/results/novelty_val_space_novelty_perm.npy')\n",
    "\n",
    "novelty_co_space_memory_true = np.load('/media/dasom/caee0336-77a9-438c-af2f-7cf5b88293e7/dasom/Neural_subspace/results/novelty_co_space_memory_true.npy')\n",
    "novelty_co_space_memory_perm = np.load('/media/dasom/caee0336-77a9-438c-af2f-7cf5b88293e7/dasom/Neural_subspace/results/novelty_co_space_memory_perm.npy')\n",
    "novelty_val_space_memory_true = np.load('/media/dasom/caee0336-77a9-438c-af2f-7cf5b88293e7/dasom/Neural_subspace/results/novelty_val_space_memory_true.npy')\n",
    "novelty_val_space_memory_perm = np.load('/media/dasom/caee0336-77a9-438c-af2f-7cf5b88293e7/dasom/Neural_subspace/results/novelty_val_space_memory_perm.npy')\n",
    "\n",
    "memory_space_memory_true = np.load('/media/dasom/caee0336-77a9-438c-af2f-7cf5b88293e7/dasom/Neural_subspace/results/memory_space_memory_true.npy')\n",
    "memory_space_memory_perm = np.load('/media/dasom/caee0336-77a9-438c-af2f-7cf5b88293e7/dasom/Neural_subspace/results/memory_space_memory_perm.npy')\n",
    "memory_space_novelty_true = np.load('/media/dasom/caee0336-77a9-438c-af2f-7cf5b88293e7/dasom/Neural_subspace/results/memory_space_novelty_true.npy')\n",
    "memory_space_novelty_perm = np.load('/media/dasom/caee0336-77a9-438c-af2f-7cf5b88293e7/dasom/Neural_subspace/results/memory_space_novelty_perm.npy')\n",
    "\n",
    "recall_start_space_recall_true = np.load('/media/dasom/caee0336-77a9-438c-af2f-7cf5b88293e7/dasom/Neural_subspace/results/retrieval_space_retrieval_true.npy')\n",
    "recall_start_space_recall_perm = np.load('/media/dasom/caee0336-77a9-438c-af2f-7cf5b88293e7/dasom/Neural_subspace/results/retrieval_space_retrieval_true.npy')\n",
    "# recall_end_space_recall_true = np.load('/media/dasom/caee0336-77a9-438c-af2f-7cf5b88293e7/dasom/Neural_subspace/results/retrieval_space_retrieval_true.npy')\n",
    "# recall_end_space_recall_perm = np.load('/media/dasom/caee0336-77a9-438c-af2f-7cf5b88293e7/dasom/Neural_subspace/results/retrieval_space_retrieval_true.npy')"
   ]
  },
  {
   "cell_type": "markdown",
   "metadata": {},
   "source": [
    "##### Alignment angle"
   ]
  },
  {
   "cell_type": "code",
   "execution_count": 40,
   "id": "bc535bbc",
   "metadata": {},
   "outputs": [
    {
     "name": "stdout",
     "output_type": "stream",
     "text": [
      "[0.12, 0.05, 0.81, 0.49, 0.41, 0.6, 0.33, 0.34, 0.13, 0.35, 0.67, 0.57]\n"
     ]
    },
    {
     "data": {
      "image/png": "[encoded data removed]",
      "text/plain": [
       "<Figure size 432x288 with 1 Axes>"
      ]
     },
     "metadata": {
      "needs_background": "light"
     },
     "output_type": "display_data"
    }
   ],
   "source": [
    "from numpy import arccos, arctan\n",
    "from numpy.linalg import norm\n",
    "\n",
    "def theta(v, w): return np.rad2deg(arccos(v.dot(w)/(norm(v)*norm(w))))\n",
    "# HIPP PHC EC PRC STG STS TPJ PMC DMPFC VMPFC VC AC ACC\n",
    "roi_num = 3\n",
    "\n",
    "thetas = []\n",
    "for repeat in range(repetition):\n",
    "    pca_cooccur = PCA(n_components=12)\n",
    "    data_cooccur = np.mean(beta_perm_novelty[roi_num][repeat], axis=0)[:,0].T\n",
    "    pca_cooccur.fit(data_cooccur.T)\n",
    "\n",
    "    pca_senti = PCA(n_components=12)\n",
    "    data_senti = np.mean(beta_perm_memory[roi_num][repeat], axis=0)[:,0].T\n",
    "    pca_senti.fit(data_senti.T)\n",
    "\n",
    "    pc_loading_sim_mat = np.array([cos_sim(pca_cooccur.components_[i], pca_senti.components_[i]) for i in range(12)])\n",
    "    pc_loading_sim_mat[pc_loading_sim_mat > 0] = 1\n",
    "    pc_loading_sim_mat[pc_loading_sim_mat < 0] = -1\n",
    "\n",
    "    thetas.append([cos_sim(pca_cooccur.components_[pc], pc_loading_sim_mat[pc]*pca_senti.components_[pc]) for pc in range(12)])\n",
    "thetas = np.array(thetas)\n",
    "\n",
    "pca_cooccur = PCA(n_components=12)\n",
    "data_cooccur = np.mean(beta_true_novelty[roi_num], axis=0)[:,0].T\n",
    "pca_cooccur.fit(data_cooccur.T)\n",
    "\n",
    "pca_senti = PCA(n_components=12)\n",
    "data_senti = np.mean(beta_true_memory[roi_num], axis=0)[:,0].T\n",
    "pca_senti.fit(data_senti.T)\n",
    "\n",
    "pc_loading_sim_mat = np.array([cos_sim(pca_cooccur.components_[i], pca_senti.components_[i]) for i in range(12)])\n",
    "pc_loading_sim_mat[pc_loading_sim_mat > 0] = 1\n",
    "pc_loading_sim_mat[pc_loading_sim_mat < 0] = -1\n",
    "\n",
    "cos_true = np.array([cos_sim(pca_cooccur.components_[pc], pc_loading_sim_mat[pc]*pca_senti.components_[pc]) for pc in range(12)])\n",
    "plt.plot(cos_true, 'ro')\n",
    "plt.plot(np.mean(thetas, axis=0), 'ko', alpha = 0.5)\n",
    "errorh = np.std(thetas, axis=0)\n",
    "plt.fill_between(np.arange(12), np.mean(thetas, axis=0)-errorh, np.mean(thetas, axis=0)+errorh, alpha = 0.3,color = 'grey')\n",
    "plt.ylim([-0.0, 1.0])\n",
    "plt.xticks(np.arange(12), np.arange(1,12+1))\n",
    "plt.yticks([0,0.5,1])\n",
    "\n",
    "print([np.sum(thetas[:,pc] > cos_true[pc])/repetition for pc in range(12)])"
   ]
  },
  {
   "cell_type": "code",
   "execution_count": null,
   "id": "66f61718",
   "metadata": {},
   "outputs": [],
   "source": [
    "from numpy import arccos, arctan\n",
    "from numpy.linalg import norm\n",
    "\n",
    "def theta(v, w): return np.rad2deg(arccos(v.dot(w)/(norm(v)*norm(w))))\n",
    "thetas = []\n",
    "for repeat in range(repetition):\n",
    "    pca_cooccur = PCA(n_components=12)\n",
    "    data_cooccur = np.mean(beta_perm_novelty[0][repeat], axis=0)[:,0].T\n",
    "    pca_cooccur.fit(data_cooccur.T)\n",
    "\n",
    "    pca_senti = PCA(n_components=12)\n",
    "    data_senti = np.mean(beta_perm_novelty[0][repeat], axis=0)[:,1].T\n",
    "    pca_senti.fit(data_senti.T)\n",
    "\n",
    "    pc_loading_sim_mat = np.array([cos_sim(pca_cooccur.components_[i], pca_senti.components_[i]) for i in range(12)])\n",
    "    pc_loading_sim_mat[pc_loading_sim_mat > 0] = 1\n",
    "    pc_loading_sim_mat[pc_loading_sim_mat < 0] = -1\n",
    "\n",
    "    # thetas.append([theta(pca_cooccur.components_[pc], pc_loading_sim_mat[pc]*pca_senti.components_[pc]) for pc in range(12)])\n",
    "    thetas.append([cos_sim(pca_cooccur.components_[pc], pc_loading_sim_mat[pc]*pca_senti.components_[pc]) for pc in range(12)])\n",
    "thetas = np.array(thetas)"
   ]
  },
  {
   "cell_type": "code",
   "execution_count": 25,
   "id": "72d6bad7",
   "metadata": {},
   "outputs": [
    {
     "name": "stdout",
     "output_type": "stream",
     "text": [
      "[0.012, 0.005, 0.135, 0.857, 0.667, 0.806, 0.397, 0.851, 0.166, 0.774, 0.287, 0.119]\n"
     ]
    },
    {
     "data": {
      "image/png": "[encoded data removed]",
      "text/plain": [
       "<Figure size 432x288 with 1 Axes>"
      ]
     },
     "metadata": {
      "needs_background": "light"
     },
     "output_type": "display_data"
    }
   ],
   "source": [
    "pca_cooccur = PCA(n_components=12)\n",
    "data_cooccur = np.mean(beta_true_novelty[0], axis=0)[:,0].T\n",
    "pca_cooccur.fit(data_cooccur.T)\n",
    "\n",
    "pca_senti = PCA(n_components=12)\n",
    "data_senti = np.mean(beta_true_novelty[0], axis=0)[:,1].T\n",
    "pca_senti.fit(data_senti.T)\n",
    "\n",
    "pc_loading_sim_mat = np.array([cos_sim(pca_cooccur.components_[i], pca_senti.components_[i]) for i in range(12)])\n",
    "pc_loading_sim_mat[pc_loading_sim_mat > 0] = 1\n",
    "pc_loading_sim_mat[pc_loading_sim_mat < 0] = -1\n",
    "\n",
    "# theta_true = np.array([theta(pca_cooccur.components_[pc], pc_loading_sim_mat[pc]*pca_senti.components_[pc]) for pc in range(12)])\n",
    "# plt.figure()\n",
    "# plt.plot(theta_true, 'ko-')\n",
    "# plt.plot(np.mean(thetas, axis=0), 'ko-', alpha = 0.3)\n",
    "# errorh = np.std(thetas, axis=0)\n",
    "# plt.fill_between(np.arange(12), np.mean(thetas, axis=0)-errorh, np.mean(thetas, axis=0)+errorh, alpha = 0.3,color = 'grey')\n",
    "# plt.ylim([43, 92])\n",
    "# plt.xticks(np.arange(12), np.arange(1,12+1))\n",
    "# plt.yticks([45,90])\n",
    "\n",
    "cos_true = np.array([cos_sim(pca_cooccur.components_[pc], pc_loading_sim_mat[pc]*pca_senti.components_[pc]) for pc in range(12)])\n",
    "plt.plot(cos_true, 'ro')\n",
    "plt.plot(np.mean(thetas, axis=0), 'ko', alpha = 0.5)\n",
    "errorh = np.std(thetas, axis=0)\n",
    "plt.fill_between(np.arange(12), np.mean(thetas, axis=0)-errorh, np.mean(thetas, axis=0)+errorh, alpha = 0.3,color = 'grey')\n",
    "plt.ylim([-0.0, 1.0])\n",
    "plt.xticks(np.arange(12), np.arange(1,12+1))\n",
    "plt.yticks([0,0.5,1])\n",
    "\n",
    "print([np.sum(thetas[:,pc] > cos_true[pc])/repetition for pc in range(12)])\n",
    "plt.savefig('/home/dasom/Dropbox/ubuntu-window/미팅자료/Neural_dynamics/Memory_novelty_cooccur_valence/Principal_angle_novelty2.png',dpi=300, bbox_inches = \"tight\")"
   ]
  },
  {
   "cell_type": "code",
   "execution_count": 14,
   "metadata": {},
   "outputs": [],
   "source": [
    "from numpy import arccos, arctan\n",
    "from numpy.linalg import norm\n",
    "\n",
    "def theta(v, w): return np.rad2deg(arccos(v.dot(w)/(norm(v)*norm(w))))\n",
    "thetas = []\n",
    "for repeat in range(1000):\n",
    "    pca_cooccur = PCA(n_components=12)\n",
    "    data_cooccur = np.mean(beta_perm_memory[0][repeat], axis=0)[:,0].T\n",
    "    pca_cooccur.fit(data_cooccur.T)\n",
    "\n",
    "    pca_senti = PCA(n_components=12)\n",
    "    data_senti = np.mean(beta_true_recall[0], axis=0)[:,0].T\n",
    "    pca_senti.fit(data_senti.T)\n",
    "\n",
    "    pc_loading_sim_mat = np.array([cos_sim(pca_cooccur.components_[i], pca_senti.components_[i]) for i in range(12)])\n",
    "    pc_loading_sim_mat[pc_loading_sim_mat > 0] = 1\n",
    "    pc_loading_sim_mat[pc_loading_sim_mat < 0] = -1\n",
    "\n",
    "    # thetas.append([theta(pca_cooccur.components_[pc], pc_loading_sim_mat[pc]*pca_senti.components_[pc]) for pc in range(12)])\n",
    "    thetas.append([cos_sim(pca_cooccur.components_[pc], pc_loading_sim_mat[pc]*pca_senti.components_[pc]) for pc in range(12)])\n",
    "thetas = np.array(thetas)\n",
    "\n",
    "pca_cooccur = PCA(n_components=12)\n",
    "data_cooccur = np.mean(beta_true_memory[0], axis=0)[:,0].T\n",
    "pca_cooccur.fit(data_cooccur.T)\n",
    "\n",
    "pca_senti = PCA(n_components=12)\n",
    "data_senti = np.mean(beta_true_recall[0], axis=0)[:,0].T\n",
    "pca_senti.fit(data_senti.T)\n",
    "\n",
    "pc_loading_sim_mat = np.array([cos_sim(pca_cooccur.components_[i], pca_senti.components_[i]) for i in range(12)])\n",
    "pc_loading_sim_mat[pc_loading_sim_mat > 0] = 1\n",
    "pc_loading_sim_mat[pc_loading_sim_mat < 0] = -1\n",
    "\n",
    "theta_true = np.array([cos_sim(pca_cooccur.components_[pc], pc_loading_sim_mat[pc]*pca_senti.components_[pc]) for pc in range(12)])"
   ]
  },
  {
   "cell_type": "code",
   "execution_count": 18,
   "metadata": {},
   "outputs": [
    {
     "name": "stdout",
     "output_type": "stream",
     "text": [
      "[0.036, 0.651, 0.637, 0.644, 0.955, 0.644, 0.202, 0.033, 0.378, 0.173, 0.539, 0.018]\n"
     ]
    },
    {
     "data": {
      "image/png": "[encoded data removed]",
      "text/plain": [
       "<Figure size 432x288 with 1 Axes>"
      ]
     },
     "metadata": {
      "needs_background": "light"
     },
     "output_type": "display_data"
    }
   ],
   "source": [
    "plt.plot(theta_true, 'ro')\n",
    "plt.plot(np.mean(thetas, axis=0), 'ko', alpha = 0.5)\n",
    "errorh = np.std(thetas, axis=0)\n",
    "plt.fill_between(np.arange(12), np.mean(thetas, axis=0)-errorh, np.mean(thetas, axis=0)+errorh, alpha = 0.3,color = 'grey')\n",
    "plt.ylim([-0.0, 1.0])\n",
    "plt.xticks(np.arange(12), np.arange(1,12+1))\n",
    "plt.yticks([0,0.5,1])\n",
    "\n",
    "# cos_true = np.array([cos_sim(pca_cooccur.components_[pc], pc_loading_sim_mat[pc]*pca_senti.components_[pc]) for pc in range(20)])\n",
    "# plt.plot(cos_true, 'ro-')\n",
    "# plt.plot(np.mean(thetas, axis=0), 'ko-')\n",
    "# errorh = np.std(thetas, axis=0)*2\n",
    "# plt.fill_between(np.arange(20), np.mean(thetas, axis=0)-errorh, np.mean(thetas, axis=0)+errorh, alpha = 0.3,color = 'grey')\n",
    "# plt.ylim([-0.05, 1.05])\n",
    "# plt.yticks([0,0.5,1])\n",
    "\n",
    "print([np.sum(thetas[:,pc] > theta_true[pc])/1000 for pc in range(12)])\n",
    "plt.savefig('/home/dasom/Dropbox/ubuntu-window/미팅자료/Neural_dynamics/Memory_novelty_cooccur_valence/Principal_angle_memory_recall2.png',dpi=300, bbox_inches = \"tight\")"
   ]
  },
  {
   "cell_type": "code",
   "execution_count": null,
   "id": "5dee1ff9",
   "metadata": {},
   "outputs": [],
   "source": [
    "import numpy as np\n",
    "from scipy import stats\n",
    "import matplotlib.pyplot as plt\n",
    "from mpl_toolkits.mplot3d import Axes3D \n",
    "\n",
    "num_pcs = 5\n",
    "\n",
    "pca_1 = PCA(n_components=window_length)\n",
    "data_1 = np.mean(beta_true_novelty[0], axis=0)[:,0].T\n",
    "pca_1.fit(data_1.T)\n",
    "\n",
    "direction = [1] * 5 # [1,-1,1,-1,1]\n",
    "\n",
    "fig = plt.figure(figsize=(num_pcs*3, 3))\n",
    "for i in range(num_pcs):\n",
    "    x = np.hstack([np.where(mask == r)[0] for r in [215,216,217,218]])\n",
    "    y = np.hstack([np.where(mask == r)[1] for r in [215,216,217,218]])\n",
    "    z = np.hstack([np.where(mask == r)[2] for r in [215,216,217,218]])\n",
    "\n",
    "    xyz = np.vstack([x,y,z])\n",
    "    density = pca_1.components_[i] * direction[i]\n",
    "\n",
    "    idx = density.argsort()\n",
    "    x, y, z, density = x[idx], y[idx], z[idx], density[idx]\n",
    "\n",
    "    axs = fig.add_subplot(1,num_pcs,i+1, projection='3d')\n",
    "    axs.scatter(x, y, z, c=density, cmap = \"RdYlBu_r\", alpha = 0.5, marker = \"o\", linewidth = 3, vmin = -0.1, vmax = 0.1)\n",
    "\n",
    "    axs.grid(False)\n",
    "    axs.set_xticks([])\n",
    "    axs.set_yticks([])\n",
    "    axs.set_zticks([])\n",
    "    axs.view_init(30, 60)\n",
    "\n",
    "fig.tight_layout()\n",
    "plt.imshow\n",
    "\n",
    "# fig.savefig('/home/dasom/Dropbox/ubuntu-window/미팅자료/Neural_dynamics/Memory_novelty_cooccur_valence/PC_gradients_recall_start.png',dpi=300, bbox_inches = \"tight\")"
   ]
  },
  {
   "cell_type": "code",
   "execution_count": null,
   "id": "1ec86b42",
   "metadata": {},
   "outputs": [],
   "source": [
    "'''\n",
    "0: novelty vs. novelty\n",
    "1: novelty vs. canonical\n",
    "2: memory vs. canonical\n",
    "3: novelty vs. memory\n",
    "4: novelty vs. recall\n",
    "5: memory vs. recall\n",
    "'''\n",
    "\n",
    "pca_memory_true = PCA(n_components=window_length)\n",
    "data_1 = np.mean(beta_true_memory[0], axis=0)[:,0].T\n",
    "pca_memory_true.fit(data_1.T)\n",
    "\n",
    "pca_recall_true = PCA(n_components=window_length)\n",
    "data_1 = np.mean(beta_true_recall[0], axis=0)[:,0].T\n",
    "pca_recall_true.fit(data_1.T)\n",
    "\n",
    "pca_novelty_co_true = PCA(n_components=window_length)\n",
    "data_1 = np.mean(beta_true_novelty[0], axis=0)[:,0].T\n",
    "pca_novelty_co_true.fit(data_1.T)\n",
    "\n",
    "pca_novelty_val_true = PCA(n_components=window_length)\n",
    "data_1 = np.mean(beta_true_novelty[0], axis=0)[:,1].T\n",
    "pca_novelty_val_true.fit(data_1.T)\n",
    "\n",
    "# 0\n",
    "true = cos_sim(pca_novelty_co_true.components_[0], pca_novelty_val_true.components_[0])\n",
    "\n",
    "perm = []\n",
    "for r in range(len(beta_perm_novelty[0])):\n",
    "\n",
    "    pca_novelty_co = PCA(n_components=2)\n",
    "    data_1 = np.mean(beta_perm_novelty[0][r], axis=0)[:,0].T\n",
    "    pca_novelty_co.fit(data_1.T)\n",
    "\n",
    "    pca_novelty_val = PCA(n_components=2)\n",
    "    data_1 = np.mean(beta_perm_novelty[0][r], axis=0)[:,1].T\n",
    "    pca_novelty_val.fit(data_1.T)\n",
    "\n",
    "    perm.append(cos_sim(pca_novelty_co.components_[0], pca_novelty_val.components_[0]))\n",
    "cooccur_valence_true = true\n",
    "cooccur_valence_perm = perm\n",
    "\n",
    "# 1\n",
    "true1 = cos_sim(pca_novelty_co_true.components_[0], pca_canonical.components_[0])\n",
    "true2 = cos_sim(pca_novelty_co_true.components_[0], pca_canonical.components_[1])\n",
    "\n",
    "perm1 = []\n",
    "perm2 = []\n",
    "for r in range(len(beta_perm_novelty[0])):\n",
    "\n",
    "    pca_novelty_co = PCA(n_components=2)\n",
    "    data_1 = np.mean(beta_perm_novelty[0][r], axis=0)[:,0].T\n",
    "    pca_novelty_co.fit(data_1.T)\n",
    "\n",
    "    perm1.append(cos_sim(pca_novelty_co.components_[0], pca_canonical.components_[0]))\n",
    "    perm2.append(cos_sim(pca_novelty_co.components_[0], pca_canonical.components_[1]))\n",
    "cooccur_canon1_true = true1\n",
    "cooccur_canon1_perm = perm1\n",
    "cooccur_canon2_true = true2\n",
    "cooccur_canon2_perm = perm2\n",
    "\n",
    "true1 = cos_sim(pca_novelty_val_true.components_[0], pca_canonical.components_[0])\n",
    "true2 = cos_sim(pca_novelty_val_true.components_[0], pca_canonical.components_[1])\n",
    "\n",
    "perm1 = []\n",
    "perm2 = []\n",
    "for r in range(len(beta_perm_novelty[0])):\n",
    "\n",
    "    pca_novelty_val = PCA(n_components=2)\n",
    "    data_1 = np.mean(beta_perm_novelty[0][r], axis=0)[:,1].T\n",
    "    pca_novelty_val.fit(data_1.T)\n",
    "\n",
    "    perm1.append(cos_sim(pca_novelty_val.components_[0], pca_canonical.components_[0]))\n",
    "    perm2.append(cos_sim(pca_novelty_val.components_[0], pca_canonical.components_[1]))\n",
    "valence_canon1_true = true1\n",
    "valence_canon1_perm = perm1\n",
    "valence_canon2_true = true2\n",
    "valence_canon2_perm = perm2\n",
    "\n",
    "# 2\n",
    "true1 = cos_sim(pca_memory_true.components_[0], pca_canonical.components_[0])\n",
    "true2 = cos_sim(pca_memory_true.components_[0], pca_canonical.components_[1])\n",
    "\n",
    "perm1 = []\n",
    "perm2 = []\n",
    "for r in range(len(beta_perm_memory[0])):\n",
    "\n",
    "    pca_memory = PCA(n_components=2)\n",
    "    data_1 = np.mean(beta_perm_memory[0][r], axis=0)[:,0].T\n",
    "    pca_memory.fit(data_1.T)\n",
    "\n",
    "    perm1.append(cos_sim(pca_memory.components_[0], pca_canonical.components_[0]))\n",
    "    perm2.append(cos_sim(pca_memory.components_[0], pca_canonical.components_[1]))\n",
    "memory_canon1_true = true1\n",
    "memory_canon1_perm = perm1\n",
    "memory_canon2_true = true2\n",
    "memory_canon2_perm = perm2\n",
    "\n",
    "# 3\n",
    "true1 = cos_sim(pca_novelty_co_true.components_[0], pca_memory_true.components_[0])\n",
    "true2 = cos_sim(pca_novelty_co_true.components_[0], pca_memory_true.components_[1])\n",
    "\n",
    "perm1 = []\n",
    "perm2 = []\n",
    "for r in range(len(beta_perm_novelty[0])):\n",
    "\n",
    "    pca_novelty_co = PCA(n_components=2)\n",
    "    data_1 = np.mean(beta_perm_novelty[0][r], axis=0)[:,0].T\n",
    "    pca_novelty_co.fit(data_1.T)\n",
    "\n",
    "    pca_memory = PCA(n_components=2)\n",
    "    data_1 = np.mean(beta_perm_memory[0][r], axis=0)[:,0].T\n",
    "    pca_memory.fit(data_1.T)\n",
    "\n",
    "    perm1.append(cos_sim(pca_novelty_co.components_[0], pca_memory.components_[0]))\n",
    "    perm2.append(cos_sim(pca_novelty_co.components_[0], pca_memory.components_[1]))\n",
    "cooccur_memory1_true = true1\n",
    "cooccur_memory1_perm = perm1\n",
    "cooccur_memory2_true = true2\n",
    "cooccur_memory2_perm = perm2\n",
    "\n",
    "true1 = cos_sim(pca_novelty_val_true.components_[0], pca_memory_true.components_[0])\n",
    "true2 = cos_sim(pca_novelty_val_true.components_[0], pca_memory_true.components_[1])\n",
    "\n",
    "perm1 = []\n",
    "perm2 = []\n",
    "for r in range(len(beta_perm_novelty[0])):\n",
    "\n",
    "    pca_novelty_val = PCA(n_components=2)\n",
    "    data_1 = np.mean(beta_perm_novelty[0][r], axis=0)[:,1].T\n",
    "    pca_novelty_val.fit(data_1.T)\n",
    "\n",
    "    pca_memory = PCA(n_components=2)\n",
    "    data_1 = np.mean(beta_perm_memory[0][r], axis=0)[:,0].T\n",
    "    pca_memory.fit(data_1.T)\n",
    "\n",
    "    perm1.append(cos_sim(pca_novelty_val.components_[0], pca_memory.components_[0]))\n",
    "    perm2.append(cos_sim(pca_novelty_val.components_[0], pca_memory.components_[1]))\n",
    "valence_memory1_true = true1\n",
    "valence_memory1_perm = perm1\n",
    "valence_memory2_true = true2\n",
    "valence_memory2_perm = perm2\n",
    "\n",
    "# 4\n",
    "true1 = cos_sim(pca_novelty_co_true.components_[0], pca_recall_true.components_[0])\n",
    "true2 = cos_sim(pca_novelty_co_true.components_[0], pca_recall_true.components_[1])\n",
    "\n",
    "perm1 = []\n",
    "perm2 = []\n",
    "for r in range(len(beta_perm_novelty[0])):\n",
    "\n",
    "    pca_novelty_co = PCA(n_components=2)\n",
    "    data_1 = np.mean(beta_perm_novelty[0][r], axis=0)[:,0].T\n",
    "    pca_novelty_co.fit(data_1.T)\n",
    "\n",
    "    perm1.append(cos_sim(pca_novelty_co.components_[0], pca_recall_true.components_[0]))\n",
    "    perm2.append(cos_sim(pca_novelty_co.components_[0], pca_recall_true.components_[1]))\n",
    "cooccur_recall1_true = true1\n",
    "cooccur_recall1_perm = perm1\n",
    "cooccur_recall2_true = true2\n",
    "cooccur_recall2_perm = perm2\n",
    "\n",
    "true1 = cos_sim(pca_novelty_val_true.components_[0], pca_recall_true.components_[0])\n",
    "true2 = cos_sim(pca_novelty_val_true.components_[0], pca_recall_true.components_[1])\n",
    "\n",
    "perm1 = []\n",
    "perm2 = []\n",
    "for r in range(len(beta_perm_novelty[0])):\n",
    "\n",
    "    pca_novelty_val = PCA(n_components=2)\n",
    "    data_1 = np.mean(beta_perm_novelty[0][r], axis=0)[:,1].T\n",
    "    pca_novelty_val.fit(data_1.T)\n",
    "    \n",
    "    perm1.append(cos_sim(pca_novelty_val.components_[0], pca_recall_true.components_[0]))\n",
    "    perm2.append(cos_sim(pca_novelty_val.components_[0], pca_recall_true.components_[1]))\n",
    "valence_recall1_true = true1\n",
    "valence_recall1_perm = perm1\n",
    "valence_recall2_true = true2\n",
    "valence_recall2_perm = perm2\n",
    "\n",
    "# 5\n",
    "true1 = cos_sim(pca_memory_true.components_[0], pca_recall_true.components_[0])\n",
    "true2 = cos_sim(pca_memory_true.components_[1], pca_recall_true.components_[1])\n",
    "\n",
    "perm1 = []\n",
    "perm2 = []\n",
    "for r in range(len(beta_perm_memory[0])):\n",
    "\n",
    "    pca_memory = PCA(n_components=2)\n",
    "    data_1 = np.mean(beta_perm_memory[0][r], axis=0)[:,0].T\n",
    "    pca_memory.fit(data_1.T)\n",
    "\n",
    "    perm1.append(cos_sim(pca_memory.components_[0], pca_recall_true.components_[0]))\n",
    "    perm2.append(cos_sim(pca_memory.components_[1], pca_recall_true.components_[1]))\n",
    "memory_recall1_true = true1\n",
    "memory_recall1_perm = perm1\n",
    "memory_recall2_true = true2\n",
    "memory_recall2_perm = perm2"
   ]
  },
  {
   "cell_type": "code",
   "execution_count": null,
   "metadata": {},
   "outputs": [],
   "source": [
    "true1 = cos_sim(pca_recall_true.components_[0], pca_canonical.components_[0])\n",
    "true2 = cos_sim(pca_recall_true.components_[0], pca_canonical.components_[1])\n",
    "\n",
    "perm1 = []\n",
    "perm2 = []\n",
    "for r in range(len(beta_perm_recall[0])):\n",
    "\n",
    "    pca_memory = PCA(n_components=2)\n",
    "    data_1 = np.mean(beta_perm_recall[0][r], axis=0)[:,0].T\n",
    "    pca_memory.fit(data_1.T)\n",
    "\n",
    "    perm1.append(cos_sim(pca_memory.components_[0], pca_canonical.components_[0]))\n",
    "    perm2.append(cos_sim(pca_memory.components_[0], pca_canonical.components_[1]))\n",
    "memory_canon1_true = true1\n",
    "memory_canon1_perm = perm1\n",
    "memory_canon2_true = true2\n",
    "memory_canon2_perm = perm2"
   ]
  },
  {
   "cell_type": "code",
   "execution_count": null,
   "metadata": {},
   "outputs": [
    {
     "data": {
      "text/plain": [
       "PCA(n_components=21)"
      ]
     },
     "execution_count": 41,
     "metadata": {},
     "output_type": "execute_result"
    }
   ],
   "source": [
    "pca_memory_true = PCA(n_components=window_length)\n",
    "data_1 = np.mean(beta_true_memory[0], axis=0)[:,0].T\n",
    "pca_memory_true.fit(data_1.T)\n",
    "\n",
    "pca_recall_true = PCA(n_components=window_length)\n",
    "data_1 = np.mean(beta_true_recall[0], axis=0)[:,0].T\n",
    "pca_recall_true.fit(data_1.T)\n",
    "\n",
    "pca_novelty_co_true = PCA(n_components=window_length)\n",
    "data_1 = np.mean(beta_true_novelty[0], axis=0)[:,0].T\n",
    "pca_novelty_co_true.fit(data_1.T)\n",
    "\n",
    "pca_novelty_val_true = PCA(n_components=window_length)\n",
    "data_1 = np.mean(beta_true_novelty[0], axis=0)[:,1].T\n",
    "pca_novelty_val_true.fit(data_1.T)"
   ]
  },
  {
   "cell_type": "code",
   "execution_count": null,
   "metadata": {},
   "outputs": [],
   "source": [
    "memory_recall1_true = []\n",
    "memory_recall1_perm = []\n",
    "\n",
    "for pc in range(12):\n",
    "    true1 = cos_sim(pca_memory_true.components_[pc], pca_recall_true.components_[pc])\n",
    "\n",
    "    perm1 = []\n",
    "    for r in range(len(beta_perm_memory[0])):\n",
    "\n",
    "        pca_memory = PCA(n_components=12)\n",
    "        data_1 = np.mean(beta_perm_memory[0][r], axis=0)[:,0].T\n",
    "        pca_memory.fit(data_1.T)\n",
    "\n",
    "        perm1.append(cos_sim(pca_memory.components_[pc], pca_recall_true.components_[pc]))\n",
    "    memory_recall1_true.append(true1)\n",
    "    memory_recall1_perm.append(perm1)"
   ]
  },
  {
   "cell_type": "code",
   "execution_count": null,
   "metadata": {},
   "outputs": [
    {
     "name": "stdout",
     "output_type": "stream",
     "text": [
      "0.5573044342552191 0.036\n",
      "0.06275964941110287 0.651\n",
      "0.059575611601572494 0.637\n",
      "0.05652258822272952 0.644\n",
      "0.005256792884403105 0.955\n",
      "0.042978357251516164 0.644\n",
      "0.11810075872030155 0.202\n",
      "0.20164512885370067 0.033\n",
      "0.07477764643821444 0.378\n",
      "0.11308784826278541 0.173\n",
      "0.05281615935090403 0.539\n",
      "0.1762058523737881 0.018\n"
     ]
    }
   ],
   "source": [
    "for pc in range(12):\n",
    "    true = memory_recall1_true[pc]\n",
    "    perm = memory_recall1_perm[pc]\n",
    "    print(np.abs(true), np.sum(np.abs(perm) > np.abs(true))/1000)"
   ]
  },
  {
   "cell_type": "code",
   "execution_count": null,
   "metadata": {},
   "outputs": [
    {
     "data": {
      "text/plain": [
       "(0.0, 1.05)"
      ]
     },
     "execution_count": 95,
     "metadata": {},
     "output_type": "execute_result"
    },
    {
     "data": {
      "image/png": "[encoded data removed]",
      "text/plain": [
       "<Figure size 432x288 with 1 Axes>"
      ]
     },
     "metadata": {
      "needs_background": "light"
     },
     "output_type": "display_data"
    }
   ],
   "source": [
    "plt.plot(np.cumsum(pca_novelty_co_true.explained_variance_ratio_), 'ro-')\n",
    "plt.plot(np.cumsum(pca_novelty_val_true.explained_variance_ratio_), 'mo-')\n",
    "plt.plot(np.cumsum(pca_memory_true.explained_variance_ratio_), 'bo-', alpha = 0.5)\n",
    "plt.plot(np.cumsum(pca_recall_true.explained_variance_ratio_), 'bo-')\n",
    "plt.plot(np.cumsum(pca_canonical.explained_variance_ratio_), 'ko-')\n",
    "plt.vlines(11,0,0.8,  color = 'grey', linestyle = '--')\n",
    "plt.hlines(0.8, -1,11, color = 'grey', linestyle = '--')\n",
    "plt.xticks([0,4,9,11,14,19])\n",
    "plt.xlim([-1,21])\n",
    "plt.ylim([0,1.05])\n",
    "# plt.savefig('/home/dasom/Dropbox/ubuntu-window/미팅자료/Neural_dynamics/Memory_novelty_cooccur_valence/PC_explained_variance.png',dpi=300, bbox_inches = \"tight\")"
   ]
  },
  {
   "cell_type": "code",
   "execution_count": null,
   "id": "8ee2b2cb",
   "metadata": {},
   "outputs": [],
   "source": [
    "corr_look = np.abs([cooccur_memory2_true, valence_memory2_true, cooccur_recall2_true, valence_recall2_true])\n",
    "random_look = np.abs([cooccur_memory2_perm, valence_memory2_perm, cooccur_recall2_perm, valence_recall2_perm])\n",
    "# chance_level = [np.sort(random_look[c])[949] for c in range(4)]\n",
    "\n",
    "x_pos = [0,0.4,1,1.4]\n",
    "plt.figure(figsize = [6.5,4])\n",
    "plt.xticks(x_pos, fontsize = 12)\n",
    "plt.yticks([0,0.3,0.6], fontsize = 12)\n",
    "plt.xlim([-0.4,1.8])\n",
    "plt.hlines([0],-1,5, 'black', linewidth = 1, linestyle = '--')\n",
    "for i in range(len(corr_look)):\n",
    "    if i in [0,2]:\n",
    "        plt.scatter(x_pos[i], corr_look[i], color = 'red', marker = 'D', zorder = 2)\n",
    "    else:\n",
    "        plt.scatter(x_pos[i], corr_look[i], color = 'magenta', marker = 'D', zorder = 2)\n",
    "\n",
    "for c in range(4):\n",
    "    plt.hlines(chance_level[c], x_pos[c]-0.15, x_pos[c]+0.15, color = 'grey', linestyle = '--')\n",
    "\n",
    "for c in range(4):\n",
    "    plt.scatter(np.random.normal(size=1000)/30 + x_pos[c], random_look[c], color = 'grey', alpha = 0.2)\n",
    "\n",
    "\n",
    "# violin_parts = plt.violinplot(random_look.T, x_pos, showmeans=False, showmedians=False, showextrema=False, widths = 0.25)\n",
    "# count = 0\n",
    "# for vp in violin_parts['bodies']:\n",
    "#     if count in [0,1]:\n",
    "#         vp.set_facecolor('#2D639E')\n",
    "#     else:\n",
    "#         vp.set_facecolor('#8190B5')\n",
    "#     vp.set_alpha(0.5)\n",
    "#     count += 1\n",
    "\n",
    "plt.ylim([0, 0.6])\n",
    "plt.savefig('/home/dasom/Dropbox/ubuntu-window/미팅자료/Neural_dynamics/Memory_novelty_cooccur_valence/Alignment_angle_novelty_movie_recall.png',dpi=300, bbox_inches = \"tight\")"
   ]
  },
  {
   "cell_type": "markdown",
   "id": "4787919c",
   "metadata": {},
   "source": [
    "#### Encoding performance"
   ]
  },
  {
   "cell_type": "markdown",
   "id": "28bcd149",
   "metadata": {},
   "source": [
    "##### Linear arrangement"
   ]
  },
  {
   "cell_type": "code",
   "execution_count": 226,
   "id": "b5a76e3f",
   "metadata": {},
   "outputs": [
    {
     "data": {
      "image/png": "[encoded data removed]",
      "text/plain": [
       "<Figure size 576x864 with 1 Axes>"
      ]
     },
     "metadata": {
      "needs_background": "light"
     },
     "output_type": "display_data"
    }
   ],
   "source": [
    "# from sklearn.metrics import r2_score\n",
    "from scipy.spatial.distance import pdist, cdist\n",
    "\n",
    "# pc_90 = np.array([np.arange(np.sum(pc1_evs[r] < 0.8)+1).astype('int') for r in range(len(patterns))])\n",
    "# pc_90[pc_90 < 3] = 3\n",
    "pc_90 = [np.arange(12)] * len(patterns)\n",
    "# pc_90 = [[1]] * len(patterns)\n",
    "\n",
    "true_est_poses = []\n",
    "r2_trues = []\n",
    "r2_perms = []\n",
    "pvalues = []\n",
    "fig = plt.figure(figsize = [8,12])\n",
    "for roi_num in range(len(patterns)):\n",
    "    fMRI_data_true = novelty_co_space_novelty_true[roi_num]\n",
    "    fMRI_data_perm = novelty_co_space_novelty_perm[roi_num]\n",
    "\n",
    "    # model_data = [np.mean(valence[ev]) for ev in np.array_split(np.argsort(-valence), 9)]\n",
    "    # model_data = [-4,-3,-2,-1,0,1,2,3,4]\n",
    "    model_data = [-1,-1,-1,0,0,0,1,1,1]  \n",
    "    # model_data = [-1,0,1,-1,0,1,-1,0,1]  \n",
    "    # model_data = [-5,-3,-1,1,3,5]\n",
    "\n",
    "    axs = fig.add_subplot(7,2,roi_num+1)\n",
    "    true_est_pos = []\n",
    "    r2_true = []\n",
    "    for t in range(window_length):\n",
    "        distance_mat = cdist(fMRI_data_true[:,pc_90[roi_num],t], fMRI_data_true[:,pc_90[roi_num],t])\n",
    "        len_from_p1 = []\n",
    "        for c in range(fMRI_data_true.shape[0]):\n",
    "            p1 = fMRI_data_true[np.where(distance_mat == np.max(distance_mat))[0][1],pc_90[roi_num],t]\n",
    "            p2 = fMRI_data_true[np.where(distance_mat == np.max(distance_mat))[0][0],pc_90[roi_num],t] \n",
    "            p3 = fMRI_data_true[c,pc_90[roi_num],t] \n",
    "\n",
    "            unit_length = np.linalg.norm(p1-p2)\n",
    "            l2 = np.sum((p1-p2)**2)\n",
    "            a = np.sum((p3 - p1) * (p2 - p1)) / l2\n",
    "            a = max(0, min(1, np.sum((p3 - p1) * (p2 - p1)) / l2))\n",
    "            projection = p1 + a * (p2 - p1)\n",
    "            len_from_p1.append(np.linalg.norm(p1 - projection)/unit_length)\n",
    "        r2_true.append(sm.OLS(len_from_p1, sm.add_constant(model_data)).fit().rsquared)\n",
    "        true_est_pos.append(len_from_p1)\n",
    "    true_est_poses.append(true_est_pos)\n",
    "\n",
    "    r2_perm = []\n",
    "    for repeat in range(len(fMRI_data_perm)):\n",
    "        r2 = []\n",
    "        for t in range(window_length):\n",
    "            distance_mat = cdist(fMRI_data_perm[repeat][:,pc_90[roi_num],t], fMRI_data_perm[repeat][:,pc_90[roi_num],t])  \n",
    "            len_from_p1 = []\n",
    "            for c in range(fMRI_data_true.shape[0]):\n",
    "                p1 = fMRI_data_perm[repeat][np.where(distance_mat == np.max(distance_mat))[0][1],pc_90[roi_num],t]\n",
    "                p2 = fMRI_data_perm[repeat][np.where(distance_mat == np.max(distance_mat))[0][0],pc_90[roi_num],t] \n",
    "                p3 = fMRI_data_perm[repeat][c,pc_90[roi_num],t] \n",
    "\n",
    "                unit_length = np.linalg.norm(p1-p2)\n",
    "                l2 = np.sum((p1-p2)**2)\n",
    "                a = np.sum((p3 - p1) * (p2 - p1)) / l2\n",
    "                a = max(0, min(1, np.sum((p3 - p1) * (p2 - p1)) / l2))\n",
    "                projection = p1 + a * (p2 - p1)\n",
    "                len_from_p1.append(np.linalg.norm(p1 - projection)/unit_length)\n",
    "            r2.append(sm.OLS(len_from_p1, sm.add_constant(model_data)).fit().rsquared)\n",
    "        r2_perm.append(r2)\n",
    "\n",
    "    r2_trues.append(r2_true)\n",
    "    r2_perms.append(r2_perm)\n",
    "    r2_true = np.array(r2_true)\n",
    "    r2_perm = np.array(r2_perm)\n",
    "\n",
    "    # axs.plot(r2_true, 'r')\n",
    "    # axs.plot(np.mean(r2_perm, axis=0), 'grey')\n",
    "    # errorh = np.array([np.std(r2_perm[:,t])*2 for t in range(window_length)])\n",
    "    # axs.fill_between(np.arange(window_length), np.mean(r2_perm, axis=0)-errorh,np.mean(r2_perm, axis=0)+errorh, alpha = 0.3,color = 'grey')\n",
    "    \n",
    "    axs.plot(r2_true-np.mean(r2_perm, axis=0), 'r')\n",
    "    errorh = np.array([np.std(r2_true[t] - r2_perm[:,t])*2 for t in range(window_length)])\n",
    "    axs.fill_between(np.arange(window_length), r2_true-np.mean(r2_perm, axis=0)-errorh,r2_true-np.mean(r2_perm, axis=0)+errorh, alpha = 0.3,color = 'grey')\n",
    "    \n",
    "    axs.set_ylim([-0.5,1])\n",
    "    axs.hlines(0, 0, window_length-1, linestyle = '--', color = 'grey')\n",
    "    axs.vlines(10, -1, 1, linestyle = '--', color = 'grey')\n",
    "    axs.set_xticks([0,5,10,15,20])\n",
    "    axs.set_xticklabels(['','',0,'',''])\n",
    "    pvalues.append([np.sum(r2_perm[:,t] > r2_true[t])/repetition for t in range(window_length)])\n",
    "    for t in range(21):\n",
    "        if np.sum(r2_perm[:,t] > r2_true[t])/repetition < .05:\n",
    "            plt.text(t-0.2,0.9,'*')\n",
    "r2_trues = np.array(r2_trues)\n",
    "r2_perms = np.array(r2_perms)\n",
    "fig.tight_layout()\n",
    "# fig.savefig('/home/dasom/Dropbox/ubuntu-window/미팅자료/Neural_dynamics/Memory_novelty_cooccur_valence/Valence_space_cooccur_r2.png', dpi=300, bbox_inches = \"tight\")"
   ]
  },
  {
   "cell_type": "code",
   "execution_count": 230,
   "id": "06530126",
   "metadata": {},
   "outputs": [
    {
     "data": {
      "text/plain": [
       "19.608499575836223"
      ]
     },
     "execution_count": 230,
     "metadata": {},
     "output_type": "execute_result"
    }
   ],
   "source": [
    "np.mean(before)/np.std(before)"
   ]
  },
  {
   "cell_type": "code",
   "execution_count": 228,
   "metadata": {},
   "outputs": [],
   "source": [
    "before = np.mean(r2_trues[:,:10], axis=1) - np.mean(r2_perms[:,:,:10], axis=2).T\n",
    "after = np.mean(r2_trues[:,11:], axis=1) - np.mean(r2_perms[:,:,11:], axis=2).T\n",
    "# Memory_space_cooccur_before = np.hstack([np.mean(r2_trues[:,:10]), np.mean(r2_perms[0,:,:10], axis=1)])\n",
    "# Memory_space_cooccur_after = np.hstack([np.mean(r2_trues[:,11:]), np.mean(r2_perms[0,:,11:], axis=1)])\n",
    "\n",
    "# before = np.mean(r2_trues[:,:10], axis=1) - np.mean(r2_perms[:,:,:10], axis=2).T\n",
    "# after = np.mean(r2_trues[:,11:], axis=1) - np.mean(r2_perms[:,:,11:], axis=2).T\n",
    "# Memory_space_valence_before = np.hstack([np.mean(r2_trues[:,:10]), np.mean(r2_perms[0,:,:10], axis=1)])\n",
    "# Memory_space_valence_after = np.hstack([np.mean(r2_trues[:,11:]), np.mean(r2_perms[0,:,11:], axis=1)])"
   ]
  },
  {
   "cell_type": "code",
   "execution_count": null,
   "metadata": {},
   "outputs": [],
   "source": [
    "plt.figure(figsize = [4,5])\n",
    "bar1 = plt.bar([0], [np.mean(before)], color = 'navy', edgecolor = 'k', linewidth = 3, width = 0.7, alpha = 0.5) # #FF0000 #9C27B0 #656B83\n",
    "plt.bar([1], [np.mean(after)], color = 'navy', edgecolor = 'k', linewidth = 3, width = 0.7) # #FF0000 #9C27B0 navy\n",
    "# plt.errorbar([0,1], [np.mean(before), np.mean(after)], [np.std(before)*2, np.std(after)*2], linestyle = '', color = 'k', linewidth = 3)\n",
    "plt.scatter(np.random.normal(size = 1000)/15, before, color = 'grey', alpha = 0.1)\n",
    "plt.scatter(np.random.normal(size = 1000)/15 + 1 , after, color = 'grey', alpha = 0.1)\n",
    "plt.xlim([-0.6, 1.6])\n",
    "plt.ylim([0,0.8])\n",
    "plt.xticks([0,1])\n",
    "plt.yticks([0,0.4,0.8])\n",
    "plt.savefig('/home/dasom/Dropbox/ubuntu-window/미팅자료/Neural_dynamics/Memory_novelty_cooccur_valence/Memory_summary.png', dpi=300, bbox_inches = \"tight\")"
   ]
  },
  {
   "cell_type": "code",
   "execution_count": null,
   "metadata": {},
   "outputs": [],
   "source": [
    "# corr_look = np.array([zscore(Memory_space_cooccur_before)[0], zscore(Memory_space_valence_before)[0],\n",
    "#                       zscore(Memory_space_cooccur_after)[0], zscore(Memory_space_valence_after)[0]])\n",
    "# random_look = np.array([zscore(Memory_space_cooccur_before)[1:], zscore(Memory_space_valence_before)[1:],\n",
    "#                         zscore(Memory_space_cooccur_after)[1:], zscore(Memory_space_valence_after)[1:]])\n",
    "\n",
    "corr_look = np.array([Memory_space_cooccur_before[0], Memory_space_valence_before[0],  \n",
    "                      Memory_space_cooccur_after[0], Memory_space_valence_after[0]])\n",
    "random_look = np.array([Memory_space_cooccur_before[1:], Memory_space_valence_before[1:],\n",
    "                        Memory_space_cooccur_after[1:], Memory_space_valence_after[1:]])\n",
    "diff = np.array([corr_look]).T - random_look\n",
    "\n",
    "x_pos = [0,0.4,1,1.4]\n",
    "plt.figure(figsize = [6.5,4])\n",
    "plt.xticks(x_pos, fontsize = 12)\n",
    "plt.yticks([-0.1,0,0.1,0.2,0.3,0.4], fontsize = 12)\n",
    "plt.xlim([-0.4,1.8])\n",
    "plt.hlines([0],-1,5, 'black', linewidth = 1, linestyle = '--')\n",
    "\n",
    "barlist = plt.bar(x_pos, np.mean(diff, axis=1), width = 0.3, edgecolor = 'k', alpha = 1)\n",
    "barlist[0].set_facecolor('#FF0000')\n",
    "barlist[0].set_alpha(0.5)\n",
    "barlist[1].set_facecolor('#9C27B0')\n",
    "barlist[1].set_alpha(0.5)\n",
    "barlist[2].set_facecolor('#FF0000')\n",
    "barlist[3].set_facecolor('#9C27B0')\n",
    "plt.errorbar(x_pos, np.mean(diff, axis=1), np.std(diff, axis=1), linestyle = '', color = 'k')\n",
    "\n",
    "# plt.scatter(x_pos[0], corr_look[0], color = 'red', marker = 'D', zorder = 2, linewidth = 3, alpha = 1)\n",
    "# plt.scatter(x_pos[1], corr_look[2], color = 'red', marker = 'D', zorder = 2, linewidth = 3, alpha = 1)\n",
    "# plt.scatter(x_pos[2], corr_look[1], color = '#9C27B0', marker = 'D', zorder = 2, linewidth = 3, alpha = 1)\n",
    "# plt.scatter(x_pos[3], corr_look[3], color = '#9C27B0', marker = 'D', zorder = 2, linewidth = 3, alpha = 1)\n",
    "\n",
    "# violin_parts = plt.violinplot(random_look.T, x_pos, showmeans=False, showmedians=False, showextrema=False, widths = 0.25)\n",
    "# count = 0\n",
    "# for vp in violin_parts['bodies']:\n",
    "#     if count in [0,1]:\n",
    "#         vp.set_facecolor('#2D639E')\n",
    "#     else:\n",
    "#         vp.set_facecolor('#2D639E') #8190B5\n",
    "#     vp.set_alpha(0.5)\n",
    "#     count += 1\n",
    "\n",
    "plt.ylim([-0.1, 0.4])\n",
    "plt.savefig('/home/dasom/Dropbox/ubuntu-window/미팅자료/Neural_dynamics/Memory_novelty_cooccur_valence/Memory_space_novelty_encoding2.png',dpi=300, bbox_inches = \"tight\")"
   ]
  },
  {
   "cell_type": "code",
   "execution_count": 247,
   "id": "9e25143e",
   "metadata": {},
   "outputs": [
    {
     "data": {
      "image/png": "[encoded data removed]",
      "text/plain": [
       "<Figure size 360x360 with 1 Axes>"
      ]
     },
     "metadata": {},
     "output_type": "display_data"
    }
   ],
   "source": [
    "tp = 14\n",
    "which = novelty_val_space_novelty_true\n",
    "\n",
    "fig = plt.figure(figsize = [5,5])\n",
    "\n",
    "# fig.gca().set_prop_cycle(plt.cycler('color', plt.cm.RdYlBu_r(np.linspace(0, 1, 9))))\n",
    "\n",
    "# plt.scatter(which[0][[0,1,2],0,tp], which[0][[0,1,2],2,tp], marker = 'o', color = 'red', s = 300, edgecolor = 'k')\n",
    "# plt.scatter(which[0][[3,4,5],0,tp], which[0][[3,4,5],2,tp], marker = 'o', color = 'grey', s = 300, edgecolor = 'k')\n",
    "# plt.scatter(which[0][[6,7,8],0,tp], which[0][[6,7,8],2,tp], marker = 'o', color = 'blue', s = 300, edgecolor = 'k')\n",
    "\n",
    "plt.scatter(which[0][[0,3,6],0,tp], which[0][[0,3,6],2,tp], marker = 'o', color = 'magenta', s = 300, edgecolor = 'k')\n",
    "plt.scatter(which[0][[1,4,7],0,tp], which[0][[1,4,7],2,tp], marker = 'o', color = 'grey', s = 300, edgecolor = 'k')\n",
    "plt.scatter(which[0][[2,5,8],0,tp], which[0][[2,5,8],2,tp], marker = 'o', color = 'cyan', s = 300, edgecolor = 'k')\n",
    "\n",
    "# for c in range(9):\n",
    "#     plt.scatter(which[0][c,0,tp], which[0][c,2,tp], marker = 'o',linewidths = 5)\n",
    "\n",
    "plt.xticks([])\n",
    "plt.yticks([])\n",
    "plt.plot([which[0][2,0,tp], which[0][6,0,tp]], [which[0][2,2,tp], which[0][6,2,tp]], color = 'k', zorder = 0, linewidth = 2, linestyle = '--')\n",
    "plt.savefig('/home/dasom/Dropbox/ubuntu-window/미팅자료/Neural_dynamics/Memory_novelty_cooccur_valence/Valence_space_valence_example.png', dpi=300, bbox_inches = \"tight\")"
   ]
  },
  {
   "cell_type": "code",
   "execution_count": 237,
   "id": "4859c930",
   "metadata": {},
   "outputs": [
    {
     "data": {
      "text/plain": [
       "21"
      ]
     },
     "execution_count": 237,
     "metadata": {},
     "output_type": "execute_result"
    }
   ],
   "source": [
    "np.argmax(cdist(np.array([novelty_val_space_novelty_true[0][:,0,14]]).T,np.array([novelty_val_space_novelty_true[0][:,2,14]]).T))"
   ]
  },
  {
   "cell_type": "code",
   "execution_count": null,
   "id": "cc4ec117",
   "metadata": {},
   "outputs": [],
   "source": [
    "t = 10\n",
    "roi_num = 0\n",
    "fMRI_data_true = p_c1_trues[roi_num]\n",
    "distance_mat = cdist(fMRI_data_true[:,[0,1,2],t], fMRI_data_true[:,[0,1,2],t])\n",
    "len_from_p1 = []\n",
    "for c in range(fMRI_data_true.shape[0]):\n",
    "    p1 = fMRI_data_true[np.where(distance_mat == np.max(distance_mat))[0][1],[0,1,2],t]\n",
    "    p2 = fMRI_data_true[np.where(distance_mat == np.max(distance_mat))[0][0],[0,1,2],t] \n",
    "    p3 = fMRI_data_true[c,[0,1,2],t] \n",
    "\n",
    "    unit_length = np.linalg.norm(p1-p2)\n",
    "    l2 = np.sum((p1-p2)**2)\n",
    "    a = np.sum((p3 - p1) * (p2 - p1)) / l2\n",
    "    a = max(0, min(1, np.sum((p3 - p1) * (p2 - p1)) / l2))\n",
    "    projection = p1 + a * (p2 - p1)\n",
    "    len_from_p1.append(np.linalg.norm(p1 - projection)/unit_length)\n",
    "\n",
    "fig = plt.figure()\n",
    "fig.gca().set_prop_cycle(plt.cycler('color', plt.cm.RdYlBu_r(np.linspace(0, 1, 9))))\n",
    "for p in range(9):\n",
    "    plt.scatter([0],len_from_p1[p],zorder=2,linewidths=3)\n",
    "plt.vlines(0,0,1,'grey',zorder=1)\n",
    "# plt.savefig('/home/dasom/Dropbox/ubuntu-window/미팅자료/Neural_dynamics/Cooccur_vs_valence_v3/a1.png', dpi=300, bbox_inches = \"tight\")"
   ]
  },
  {
   "cell_type": "code",
   "execution_count": 261,
   "id": "422ab6af",
   "metadata": {},
   "outputs": [],
   "source": [
    "cumulative = False\n",
    "r2_trues = []\n",
    "r2_perms = []\n",
    "pvalues = []\n",
    "for num in range(1,13):\n",
    "# for num in [2]:\n",
    "    fMRI_data_true = novelty_co_space_novelty_true[0]\n",
    "    fMRI_data_perm = novelty_co_space_novelty_perm[0]\n",
    "    # model_data = [-1,-1,-1,0,0,0,1,1,1]  \n",
    "    model_data = [-1,0,1,-1,0,1,-1,0,1] \n",
    "    # model_data = [-4,-3,-2,-1,0,1,2,3,4]\n",
    "\n",
    "    if cumulative:\n",
    "        r2_true = []\n",
    "        for t in range(window_length):\n",
    "            distance_mat = cdist(fMRI_data_true[:,:num,t], fMRI_data_true[:,:num,t])\n",
    "            len_from_p1 = []\n",
    "            for c in range(fMRI_data_true.shape[0]):\n",
    "                p1 = fMRI_data_true[np.where(distance_mat == np.max(distance_mat))[0][1],:num,t]\n",
    "                p2 = fMRI_data_true[np.where(distance_mat == np.max(distance_mat))[0][0],:num,t] \n",
    "                p3 = fMRI_data_true[c,:num,t] \n",
    "\n",
    "                unit_length = np.linalg.norm(p1-p2)\n",
    "                l2 = np.sum((p1-p2)**2)\n",
    "                a = np.sum((p3 - p1) * (p2 - p1)) / l2\n",
    "                a = max(0, min(1, np.sum((p3 - p1) * (p2 - p1)) / l2))\n",
    "                projection = p1 + a * (p2 - p1)\n",
    "                len_from_p1.append(np.linalg.norm(p1 - projection)/unit_length)\n",
    "            r2_true.append(sm.OLS(len_from_p1, sm.add_constant(model_data)).fit().rsquared)\n",
    "\n",
    "        r2_perm = []\n",
    "        for repeat in range(repetition):\n",
    "            r2 = []\n",
    "            for t in range(window_length):\n",
    "                distance_mat = cdist(fMRI_data_perm[repeat][:,:num,t], fMRI_data_perm[repeat][:,:num,t])  \n",
    "                len_from_p1 = []\n",
    "                for c in range(fMRI_data_true.shape[0]):\n",
    "                    p1 = fMRI_data_perm[repeat][np.where(distance_mat == np.max(distance_mat))[0][1],:num,t]\n",
    "                    p2 = fMRI_data_perm[repeat][np.where(distance_mat == np.max(distance_mat))[0][0],:num,t] \n",
    "                    p3 = fMRI_data_perm[repeat][c,:num,t] \n",
    "\n",
    "                    unit_length = np.linalg.norm(p1-p2)\n",
    "                    l2 = np.sum((p1-p2)**2)\n",
    "                    a = np.sum((p3 - p1) * (p2 - p1)) / l2\n",
    "                    a = max(0, min(1, np.sum((p3 - p1) * (p2 - p1)) / l2))\n",
    "                    projection = p1 + a * (p2 - p1)\n",
    "                    len_from_p1.append(np.linalg.norm(p1 - projection)/unit_length)\n",
    "                r2.append(sm.OLS(len_from_p1, sm.add_constant(model_data)).fit().rsquared)\n",
    "            r2_perm.append(r2)\n",
    "    else:\n",
    "        r2_true = []\n",
    "        for t in range(window_length):\n",
    "            distance_mat = cdist(fMRI_data_true[:,[num-1],t], fMRI_data_true[:,[num-1],t])\n",
    "            len_from_p1 = []\n",
    "            for c in range(fMRI_data_true.shape[0]):\n",
    "                p1 = fMRI_data_true[np.where(distance_mat == np.max(distance_mat))[0][1],[num-1],t]\n",
    "                p2 = fMRI_data_true[np.where(distance_mat == np.max(distance_mat))[0][0],[num-1],t] \n",
    "                p3 = fMRI_data_true[c,[num-1],t] \n",
    "\n",
    "                unit_length = np.linalg.norm(p1-p2)\n",
    "                l2 = np.sum((p1-p2)**2)\n",
    "                a = np.sum((p3 - p1) * (p2 - p1)) / l2\n",
    "                a = max(0, min(1, np.sum((p3 - p1) * (p2 - p1)) / l2))\n",
    "                projection = p1 + a * (p2 - p1)\n",
    "                len_from_p1.append(np.linalg.norm(p1 - projection)/unit_length)\n",
    "            r2_true.append(sm.OLS(len_from_p1, sm.add_constant(model_data)).fit().rsquared)\n",
    "\n",
    "        r2_perm = []\n",
    "        for repeat in range(repetition):\n",
    "            r2 = []\n",
    "            for t in range(window_length):\n",
    "                distance_mat = cdist(fMRI_data_perm[repeat][:,[num-1],t], fMRI_data_perm[repeat][:,[num-1],t])  \n",
    "                len_from_p1 = []\n",
    "                for c in range(fMRI_data_true.shape[0]):\n",
    "                    p1 = fMRI_data_perm[repeat][np.where(distance_mat == np.max(distance_mat))[0][1],[num-1],t]\n",
    "                    p2 = fMRI_data_perm[repeat][np.where(distance_mat == np.max(distance_mat))[0][0],[num-1],t] \n",
    "                    p3 = fMRI_data_perm[repeat][c,[num-1],t] \n",
    "\n",
    "                    unit_length = np.linalg.norm(p1-p2)\n",
    "                    l2 = np.sum((p1-p2)**2)\n",
    "                    a = np.sum((p3 - p1) * (p2 - p1)) / l2\n",
    "                    a = max(0, min(1, np.sum((p3 - p1) * (p2 - p1)) / l2))\n",
    "                    projection = p1 + a * (p2 - p1)\n",
    "                    len_from_p1.append(np.linalg.norm(p1 - projection)/unit_length)\n",
    "                r2.append(sm.OLS(len_from_p1, sm.add_constant(model_data)).fit().rsquared)\n",
    "            r2_perm.append(r2)\n",
    "\n",
    "    r2_trues.append(r2_true)\n",
    "    r2_perms.append(r2_perm)\n",
    "    r2_true = np.array(r2_true)\n",
    "    r2_perm = np.array(r2_perm)\n",
    "r2_trues = np.array(r2_trues)\n",
    "r2_perms = np.array(r2_perms)"
   ]
  },
  {
   "cell_type": "code",
   "execution_count": 262,
   "id": "690463f4",
   "metadata": {},
   "outputs": [],
   "source": [
    "before = np.mean(r2_trues[:,:10], axis=1) - np.mean(r2_perms[:,:,:10], axis=2).T\n",
    "after = np.mean(r2_trues[:,11:], axis=1) - np.mean(r2_perms[:,:,11:], axis=2).T\n",
    "\n",
    "# before_cooccur_cooccur = before\n",
    "# after_cooccur_cooccur = after\n",
    "\n",
    "# before_cooccur_valence = before\n",
    "# after_cooccur_valence = after\n",
    "\n",
    "# before_valence_cooccur = before\n",
    "# after_valence_cooccur = after\n",
    "\n",
    "# before_valence_valence = before\n",
    "# after_valence_valence = after\n",
    "\n",
    "# before_cooccur_cooccur_each = before\n",
    "# after_cooccur_cooccur_each = after\n",
    "\n",
    "# before_cooccur_valence_each = before\n",
    "# after_cooccur_valence_each = after\n",
    "\n",
    "# before_valence_valence_each = before\n",
    "# after_valence_valence_each = after\n",
    "\n",
    "before_valence_cooccur_each = before\n",
    "after_valence_cooccur_each = after\n",
    "\n",
    "# before_cooccur_memory_each = before\n",
    "# after_cooccur_memory_each = after\n",
    "\n",
    "# before_valence_memory_each = before\n",
    "# after_valence_memory_each = after"
   ]
  },
  {
   "cell_type": "code",
   "execution_count": null,
   "metadata": {},
   "outputs": [],
   "source": [
    "print(np.mean(before_cooccur_valence_each, axis=0), \n",
    "      [np.sum(before_cooccur_valence_each[:,i] < 0)/repetition for i in range(12)])\n",
    "print(np.mean(after_cooccur_valence_each, axis=0), \n",
    "      [np.sum(after_cooccur_valence_each[:,i] < 0)/repetition for i in range(12)])"
   ]
  },
  {
   "cell_type": "code",
   "execution_count": 266,
   "id": "0df8c455",
   "metadata": {},
   "outputs": [
    {
     "data": {
      "image/png": "[encoded data removed]",
      "text/plain": [
       "<Figure size 576x360 with 1 Axes>"
      ]
     },
     "metadata": {
      "needs_background": "light"
     },
     "output_type": "display_data"
    }
   ],
   "source": [
    "plt.figure(figsize = [8,5])\n",
    "# plt.errorbar(np.arange(len(before_cooccur_valence.T)), np.mean(before_cooccur_valence, axis=0), np.std(before_cooccur_valence, axis=0), color = 'm', alpha = 0.33)\n",
    "# plt.errorbar(np.arange(len(after_cooccur_valence.T)), np.mean(after_cooccur_valence, axis=0), np.std(after_cooccur_valence, axis=0), color = 'm')\n",
    "# plt.errorbar(np.arange(len(before_cooccur_cooccur.T)), np.mean(before_cooccur_cooccur, axis=0), np.std(before_cooccur_cooccur, axis=0), color = 'r', alpha = 0.33)\n",
    "# plt.errorbar(np.arange(len(after_cooccur_cooccur.T)), np.mean(after_cooccur_cooccur, axis=0), np.std(after_cooccur_cooccur, axis=0), color = 'r')\n",
    "\n",
    "# plt.errorbar(np.arange(12), np.mean(before_valence_cooccur_each, axis=0), np.std(before_valence_cooccur_each, axis=0), color = 'm', alpha = 0.33)\n",
    "# plt.errorbar(np.arange(12), np.mean(after_valence_cooccur_each, axis=0), np.std(after_valence_cooccur_each, axis=0), color = 'm')\n",
    "plt.errorbar(np.arange(12), np.mean(before_cooccur_valence_each, axis=0), np.std(before_cooccur_valence_each, axis=0), color = 'r', alpha = 0.33)\n",
    "plt.errorbar(np.arange(12), np.mean(after_cooccur_valence_each, axis=0), np.std(after_cooccur_valence_each, axis=0), color = 'r')\n",
    "\n",
    "plt.xticks(np.arange(12),np.arange(1,13))\n",
    "plt.xlim([-1,12])    \n",
    "plt.ylim([-0.2,0.4])\n",
    "# plt.ylim([-0.1,0.6])\n",
    "plt.hlines(0,-1,20, color = 'grey', linestyle = '--')\n",
    "plt.savefig('/home/dasom/Dropbox/ubuntu-window/미팅자료/Neural_dynamics/Memory_novelty_cooccur_valence/Encoding_performance_valence_space_cooccur_each_pc.png', dpi=300, bbox_inches = \"tight\")"
   ]
  },
  {
   "cell_type": "code",
   "execution_count": null,
   "metadata": {},
   "outputs": [],
   "source": [
    "befores = np.array([before_cooccur_cooccur_each, before_cooccur_valence_each, before_valence_cooccur_each, before_valence_valence_each])\n",
    "afters = np.array([after_cooccur_cooccur_each, after_cooccur_valence_each, after_valence_cooccur_each, after_valence_valence_each])\n",
    "\n",
    "plt_data = afters[:,:,0]\n",
    "\n",
    "x_pos = [0,0.4,1,1.4]\n",
    "plt.figure(figsize = [6,4])\n",
    "plt.hlines([0],-1,5, 'black', linewidth = 1, linestyle = '--')\n",
    "\n",
    "# barlist = plt.bar(x_pos, np.mean(plt_data, axis=1), width = 0.3, edgecolor = 'k', alpha = 0.5)\n",
    "barlist = plt.bar(x_pos, np.mean(plt_data, axis=1), width = 0.3, edgecolor = 'k')\n",
    "barlist[0].set_facecolor('#FF0000')\n",
    "barlist[1].set_facecolor('#FF0000')\n",
    "barlist[1].set_hatch('//')\n",
    "barlist[2].set_facecolor('#9C27B0')\n",
    "barlist[2].set_hatch('//')\n",
    "barlist[3].set_facecolor('#9C27B0')\n",
    "# plt.errorbar(x_pos, np.mean(plt_data, axis=1), np.std(plt_data, axis=1), linestyle = '', color = 'k')\n",
    "for c in range(4):\n",
    "    plt.scatter(np.random.normal(size=1000)/60 + x_pos[c], plt_data[c], color = 'gray', alpha = 0.2)\n",
    "\n",
    "plt.xticks(x_pos, fontsize = 12)\n",
    "plt.yticks([-0.2,0,0.2,0.4], fontsize = 12)\n",
    "plt.xlim([-0.4,1.8])\n",
    "plt.ylim([-0.2, 0.4])\n",
    "plt.savefig('/home/dasom/Dropbox/ubuntu-window/미팅자료/Neural_dynamics/Memory_novelty_cooccur_valence/Figure3b_after.png',dpi=300, bbox_inches = \"tight\")"
   ]
  },
  {
   "cell_type": "code",
   "execution_count": null,
   "metadata": {},
   "outputs": [],
   "source": [
    "data = np.array([before_cooccur_memory_each, before_valence_memory_each, after_cooccur_memory_each, after_valence_memory_each])\n",
    "\n",
    "plt_data = data[:,:,0]\n",
    "\n",
    "x_pos = [0,0.4,1,1.4]\n",
    "plt.figure(figsize = [6,4])\n",
    "plt.hlines([0],-1,5, 'black', linewidth = 1, linestyle = '--')\n",
    "\n",
    "barlist = plt.bar(x_pos, np.mean(plt_data, axis=1), width = 0.3, edgecolor = 'k')\n",
    "barlist[0].set_facecolor('#FF0000')\n",
    "barlist[0].set_alpha(0.5)\n",
    "barlist[1].set_facecolor('#9C27B0')\n",
    "barlist[1].set_alpha(0.5)\n",
    "barlist[2].set_facecolor('#FF0000')\n",
    "barlist[3].set_facecolor('#9C27B0')\n",
    "\n",
    "for c in range(4):\n",
    "    plt.scatter(np.random.normal(size=1000)/60 + x_pos[c], plt_data[c], color = 'gray', alpha = 0.2)\n",
    "\n",
    "plt.xticks(x_pos, fontsize = 12)\n",
    "plt.yticks([-0.3,0,0.3,0.6], fontsize = 12)\n",
    "plt.xlim([-0.4,1.8])\n",
    "plt.ylim([-0.3, 0.6])\n",
    "plt.savefig('/home/dasom/Dropbox/ubuntu-window/미팅자료/Neural_dynamics/Memory_novelty_cooccur_valence/Figure4c.png',dpi=300, bbox_inches = \"tight\")"
   ]
  },
  {
   "cell_type": "markdown",
   "metadata": {},
   "source": [
    "##### Inverse alignment"
   ]
  },
  {
   "cell_type": "code",
   "execution_count": 138,
   "metadata": {},
   "outputs": [
    {
     "name": "stdout",
     "output_type": "stream",
     "text": [
      "[0.258, 0.071, 0.374, 0.508, 0.46, 0.534, 0.971, 0.525, 0.254, 0.422, 0.978, 0.658, 0.457, 0.062, 0.01, 0.076, 0.117, 0.235, 0.365, 0.973, 0.605]\n",
      "[0.707, 0.454, 0.545, 0.354, 0.234, 0.188, 0.979, 0.768, 0.788, 0.661, 0.985, 0.845, 0.309, 0.024, 0.087, 0.213, 0.204, 0.518, 0.382, 0.88, 0.737]\n",
      "[0.5, 0.09, 0.451, 0.354, 0.21, 0.2, 0.991, 0.777, 0.611, 0.66, 0.995, 0.892, 0.278, 0.014, 0.008, 0.057, 0.065, 0.259, 0.279, 0.974, 0.819]\n"
     ]
    }
   ],
   "source": [
    "def fisher_tau_to_z(tau):\n",
    "    r = np.sin(0.5*np.pi*tau)\n",
    "    z = 0.5*np.log((1+r)/(1-r))\n",
    "    return z\n",
    "\n",
    "true1 = []\n",
    "perm1 = []\n",
    "true2 = []\n",
    "perm2 = []\n",
    "true3 = []\n",
    "perm3 = []\n",
    "for t in range(21):\n",
    "    # true1.append(cos_sim(zscore(memory_space_memory_true[0][:,1,t]), zscore(novelty_co_space_novelty_true[0][:,0,t])))\n",
    "    # perm1.append(np.array([cos_sim(zscore(memory_space_memory_perm[0][r][:,1,t]), zscore(novelty_co_space_novelty_perm[0][r][:,0,t])) for r in range(1000)]))\n",
    "    # true2.append(cos_sim(zscore(memory_space_memory_true[0][:,1,t]), zscore(novelty_val_space_novelty_true[0][:,0,t])))\n",
    "    # perm2.append(np.array([cos_sim(zscore(memory_space_memory_perm[0][r][:,1,t]), zscore(novelty_val_space_novelty_perm[0][r][:,0,t])) for r in range(1000)]))\n",
    "    # true1.append(cos_sim(memory_space_memory_true[0][:,1,t], novelty_co_space_novelty_true[0][:,0,t]))\n",
    "    # perm1.append(np.array([cos_sim(memory_space_memory_perm[0][r][:,1,t], novelty_co_space_novelty_perm[0][r][:,0,t]) for r in range(1000)]))\n",
    "    # true2.append(cos_sim(memory_space_memory_true[0][:,1,t], novelty_val_space_novelty_true[0][:,0,t]))\n",
    "    # perm2.append(np.array([cos_sim(memory_space_memory_perm[0][r][:,1,t], novelty_val_space_novelty_perm[0][r][:,0,t]) for r in range(1000)]))\n",
    "\n",
    "    true_comem = spearmanr(memory_space_memory_true[0][:,1,t], novelty_co_space_novelty_true[0][:,0,t])[0]\n",
    "    true_valmem = spearmanr(memory_space_memory_true[0][:,1,t], novelty_val_space_novelty_true[0][:,0,t])[0]\n",
    "    perm_comem = np.array([spearmanr(memory_space_memory_perm[0][r][:,1,t], novelty_co_space_novelty_perm[0][r][:,0,t])[0] for r in range(1000)])\n",
    "    perm_valmem = np.array([spearmanr(memory_space_memory_perm[0][r][:,1,t], novelty_val_space_novelty_perm[0][r][:,0,t])[0] for r in range(1000)])\n",
    "    true1.append(true_comem)\n",
    "    perm1.append(perm_comem)\n",
    "    true2.append(true_valmem)\n",
    "    perm2.append(perm_valmem)\n",
    "    true3.append(true_comem + true_valmem)\n",
    "    perm3.append(perm_comem + perm_valmem)\n",
    "true1 = np.array(true1)\n",
    "perm1 = np.array(perm1)\n",
    "true2 = np.array(true2)\n",
    "perm2 = np.array(perm2)\n",
    "true3 = np.array(true3)\n",
    "perm3 = np.array(perm3)\n",
    "print([np.sum(true1[t] < perm1[t])/1000 for t in range(21)])\n",
    "print([np.sum(true2[t] < perm2[t])/1000 for t in range(21)])\n",
    "print([np.sum(true3[t] < perm3[t])/1000 for t in range(21)])"
   ]
  },
  {
   "cell_type": "code",
   "execution_count": 164,
   "id": "edec65f1",
   "metadata": {},
   "outputs": [
    {
     "data": {
      "image/png": "[encoded data removed]",
      "text/plain": [
       "<Figure size 432x216 with 1 Axes>"
      ]
     },
     "metadata": {
      "needs_background": "light"
     },
     "output_type": "display_data"
    }
   ],
   "source": [
    "plt.figure(figsize = [6,3])\n",
    "true = true3/2\n",
    "# true_co = np.array([cos_sim(memory_space_memory_true[0][:,1,t], novelty_co_space_novelty_true[0][:,0,t]) for t in range(window_length)])\n",
    "# true_co = np.array([spearmanr(memory_space_memory_true[0][:,1,t], novelty_co_space_novelty_true[0][:,0,t])[0] for t in range(window_length)])\n",
    "error = np.std(perm3/2, axis=1)\n",
    "plt.scatter(np.arange(21), true, s = 50, color = 'red', edgecolor = 'k', zorder = 1)\n",
    "plt.plot(true,'red',zorder=2)\n",
    "plt.fill_between(np.arange(21), -1, +error, alpha = 0.5,color = 'grey',zorder=2)\n",
    "plt.plot(error,'k--',zorder=2)\n",
    "\n",
    "plt.xlim([-1,21])\n",
    "plt.ylim([-1,1])\n",
    "plt.xticks([0,5,10,15,20],['','',0,'',''])\n",
    "plt.yticks([-1,0,1])    \n",
    "plt.vlines(10,-1,1,'grey','--',zorder=1)\n",
    "plt.hlines(0,-1,21,'grey','--',zorder=1)\n",
    "plt.savefig('/home/dasom/Dropbox/ubuntu-window/미팅자료/Neural_dynamics/Memory_novelty_cooccur_valence/Alignment_axis2.png', dpi=300, bbox_inches = \"tight\")"
   ]
  },
  {
   "cell_type": "code",
   "execution_count": 211,
   "id": "fc02b1c8",
   "metadata": {},
   "outputs": [
    {
     "data": {
      "text/plain": [
       "(0.5166666666666667, 0.087)"
      ]
     },
     "execution_count": 211,
     "metadata": {},
     "output_type": "execute_result"
    }
   ],
   "source": [
    "true2[14], [np.sum(true2[t] < perm2[t])/1000 for t in range(21)][14]"
   ]
  },
  {
   "cell_type": "code",
   "execution_count": 131,
   "metadata": {},
   "outputs": [
    {
     "data": {
      "text/plain": [
       "<matplotlib.collections.LineCollection at 0x7fdcdc3fa0a0>"
      ]
     },
     "execution_count": 131,
     "metadata": {},
     "output_type": "execute_result"
    },
    {
     "data": {
      "image/png": "[encoded data removed]",
      "text/plain": [
       "<Figure size 432x216 with 1 Axes>"
      ]
     },
     "metadata": {
      "needs_background": "light"
     },
     "output_type": "display_data"
    }
   ],
   "source": [
    "plt.figure(figsize = [6,3])\n",
    "true_co = np.array([cos_sim(zscore(memory_space_memory_true[0][:,1,t]), zscore(novelty_co_space_novelty_true[0][:,0,t])) for t in range(window_length)])\n",
    "# true_co = np.array([cos_sim(memory_space_memory_true[0][:,1,t], novelty_co_space_novelty_true[0][:,0,t]) for t in range(window_length)])\n",
    "# true_co = np.array([spearmanr(memory_space_memory_true[0][:,1,t], novelty_co_space_novelty_true[0][:,0,t])[0] for t in range(window_length)])\n",
    "error_co = np.array([np.std(perm1[t]) for t in range(window_length)])\n",
    "plt.scatter(np.arange(21), true_co, s = 50, color = 'r', edgecolor = 'k', zorder = 3)\n",
    "plt.plot(true_co,'m',zorder=2)\n",
    "plt.fill_between(np.arange(window_length), -error_co, +error_co, alpha = 0.2,color = 'r',zorder=4)\n",
    "\n",
    "true_val = np.array([cos_sim(zscore(memory_space_memory_true[0][:,1,t]), zscore(novelty_val_space_novelty_true[0][:,0,t])) for t in range(window_length)])\n",
    "# true_val = np.array([cos_sim(memory_space_memory_true[0][:,1,t], novelty_val_space_novelty_true[0][:,0,t]) for t in range(window_length)])\n",
    "# true_val = np.array([spearmanr(memory_space_memory_true[0][:,1,t], novelty_val_space_novelty_true[0][:,0,t])[0] for t in range(window_length)])\n",
    "error_val = np.array([np.std(perm2[t]) for t in range(window_length)])\n",
    "plt.scatter(np.arange(21), true_val, s = 50, color = 'm', edgecolor = 'k', zorder = 3)\n",
    "plt.plot(true_val,'m',zorder=2)\n",
    "plt.fill_between(np.arange(window_length), -error_val, +error_val, alpha = 0.2,color = 'm',zorder=4)\n",
    "\n",
    "plt.xlim([-1,21])\n",
    "plt.ylim([-1,1])\n",
    "plt.xticks([0,5,10,15,20],['','',0,'',''])\n",
    "plt.yticks([-1,0,1])    \n",
    "plt.vlines(10,-1,1,'grey','--',zorder=1)\n",
    "plt.hlines(0,-1,21,'grey','--',zorder=1)\n",
    "# plt.savefig('/home/dasom/Dropbox/ubuntu-window/미팅자료/Neural_dynamics/Memory_novelty_cooccur_valence/Alignment_axis1.png', dpi=300, bbox_inches = \"tight\")"
   ]
  },
  {
   "cell_type": "code",
   "execution_count": 201,
   "metadata": {},
   "outputs": [
    {
     "data": {
      "text/plain": [
       "(-0.5, 1.5)"
      ]
     },
     "execution_count": 201,
     "metadata": {},
     "output_type": "execute_result"
    },
    {
     "data": {
      "image/png": "[encoded data removed]",
      "text/plain": [
       "<Figure size 216x432 with 1 Axes>"
      ]
     },
     "metadata": {
      "needs_background": "light"
     },
     "output_type": "display_data"
    }
   ],
   "source": [
    "timepoint = 12\n",
    "\n",
    "fig = plt.figure(figsize = [3,6])\n",
    "fig.gca().set_prop_cycle(plt.cycler('color', plt.cm.RdYlBu(np.linspace(0, 1, 9))))\n",
    "for p in range(9):\n",
    "    plt.scatter([0],zscore(memory_space_memory_true[0][:,1,timepoint])[p],zorder=2,s=150,edgecolor='k')\n",
    "plt.vlines(0,-3,3,'k',zorder=1)\n",
    "# plt.savefig('/home/dasom/Dropbox/ubuntu-window/미팅자료/Neural_dynamics/Cooccur_vs_valence_v3/a1.png', dpi=300, bbox_inches = \"tight\")\n",
    "\n",
    "colors = [[0,0,1],[0,0,1],[0,0,1],\n",
    "          [0.5,0.5,0.5],[0.5,0.5,0.5],[0.5,0.5,0.5],\n",
    "          [1,0,0],[1,0,0],[1,0,0]]\n",
    "for p in range(9):\n",
    "    plt.scatter([0.5], zscore(novelty_co_space_novelty_true[0][:,0,timepoint])[p], color = colors[p], zorder=2,s=150,edgecolor='k')\n",
    "plt.vlines(0.5,-3,3,'k',zorder=1)\n",
    "\n",
    "colors = [[1,0,1],[0.5,0.5,0.5],[0,1,1],\n",
    "          [1,0,1],[0.5,0.5,0.5],[0,1,1],\n",
    "          [1,0,1],[0.5,0.5,0.5],[0,1,1]]\n",
    "for p in range(9):\n",
    "    plt.scatter([1], zscore(novelty_val_space_novelty_true[0][:,0,timepoint])[p], color = colors[p], zorder=2,s=150,edgecolor='k')\n",
    "plt.vlines(1,-3,3,'k',zorder=1)\n",
    "plt.xlim([-0.5,1.5])\n",
    "# plt.savefig('/home/dasom/Dropbox/ubuntu-window/미팅자료/Neural_dynamics/Memory_novelty_cooccur_valence/Alignment_axis2_t10.png', dpi=300, bbox_inches = \"tight\")"
   ]
  },
  {
   "cell_type": "markdown",
   "metadata": {},
   "source": [
    "## Visualization"
   ]
  },
  {
   "cell_type": "code",
   "execution_count": null,
   "metadata": {},
   "outputs": [],
   "source": [
    "%matplotlib widget\n",
    "\n",
    "fig = plt.figure()\n",
    "ax3D = fig.add_subplot(111, projection='3d')\n",
    "fig.gca().set_prop_cycle(plt.cycler('color', plt.cm.RdYlBu_r(np.linspace(0, 1, 9))))\n",
    "\n",
    "colormap = plt.cm.gist_ncar_r\n",
    "custom_cycler = (cycler(color=['#8a8a8a','#8a8a8a','#8a8a8a','#cd8a8a','#cd8a8a','#cd8a8a','#FF0000','#FF0000','#FF0000']))\n",
    "# custom_cycler = (cycler(color=['b','b','b','grey','grey','grey','r','r','r']))\n",
    "# custom_cycler = (cycler(color=['c','grey','m','c','grey','m','c','grey','m']))\n",
    "# custom_cycler = (cycler(color=['grey','yellow','green','yellow','yellow','green','green','grey','grey']))\n",
    "fig.gca().set_prop_cycle(custom_cycler)\n",
    "\n",
    "# c1_data = np.mean(p_c1_trues[0], axis=0)\n",
    "# c2_data = np.mean(p_c2_trues[0], axis=0)\n",
    "c1_data = novelty_co_space_novelty_true[0]\n",
    "c2_data = novelty_val_space_novelty_true[0]\n",
    "\n",
    "lim = 1\n",
    "timepoint = 0\n",
    "\n",
    "plot_data = -c1_data    \n",
    "\n",
    "# for subject in np.argsort(-recall_sim[3]):   \n",
    "#     p3d = ax3D.plot(plot_data[subject][0,timepoint:],plot_data[subject][1,timepoint:],plot_data[subject][2,timepoint:], linewidth = 3)    \n",
    "#     ax3D.scatter(plot_data[subject][0][timepoint],plot_data[subject][1][timepoint],plot_data[subject][2][timepoint], linewidth = 5, color = 'k')       \n",
    "\n",
    "for cond in range(1):   \n",
    "    p3d = ax3D.plot(plot_data[cond][0,timepoint:],plot_data[cond][1,timepoint:],plot_data[cond][2,timepoint:], linewidth = 3)    \n",
    "    ax3D.scatter(plot_data[cond][0][timepoint],plot_data[cond][1][timepoint],plot_data[cond][2][timepoint], linewidth = 5, color = 'k')   \n",
    "\n",
    "ax3D.grid(False)\n",
    "ax3D.set_facecolor('white')\n",
    "ax3D.set_xticks([])\n",
    "ax3D.set_yticks([])\n",
    "ax3D.set_zticks([])\n",
    "# ax3D.set_xlim([-lim,lim])\n",
    "# ax3D.set_ylim([-lim,lim])\n",
    "# ax3D.set_zlim([-lim,lim])\n",
    "ax3D.set_xlabel('PC 1')\n",
    "ax3D.set_ylabel('PC 2')\n",
    "ax3D.set_zlabel('PC 3')\n",
    "ax3D.view_init(15, 40)\n",
    "# fig.savefig('/home/dasom/Dropbox/ubuntu-window/미팅자료/Neural_dynamics/Memory_novelty_cooccur_valence/Empty_plot.png', dpi=300, bbox_inches = \"tight\")"
   ]
  }
 ],
 "metadata": {
  "kernelspec": {
   "display_name": "Python 3 (ipykernel)",
   "language": "python",
   "name": "python3"
  },
  "language_info": {
   "codemirror_mode": {
    "name": "ipython",
    "version": 3
   },
   "file_extension": ".py",
   "mimetype": "text/x-python",
   "name": "python",
   "nbconvert_exporter": "python",
   "pygments_lexer": "ipython3",
   "version": "3.8.10"
  }
 },
 "nbformat": 4,
 "nbformat_minor": 5
}
