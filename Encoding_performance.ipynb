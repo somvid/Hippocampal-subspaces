{
 "cells": [
  {
   "cell_type": "markdown",
   "id": "29f63235",
   "metadata": {},
   "source": [
    "## Import"
   ]
  },
  {
   "cell_type": "code",
   "execution_count": 1,
   "id": "04703d19-5a52-4957-a81d-7ebf3ac0d027",
   "metadata": {
    "collapsed": true,
    "jupyter": {
     "outputs_hidden": true
    }
   },
   "outputs": [
    {
     "name": "stderr",
     "output_type": "stream",
     "text": [
      "/home/dasom/anaconda3/envs/p38/lib/python3.8/site-packages/nilearn/datasets/__init__.py:93: FutureWarning: Fetchers from the nilearn.datasets module will be updated in version 0.9 to return python strings instead of bytes and Pandas dataframes instead of Numpy arrays.\n",
      "  warn(\"Fetchers from the nilearn.datasets module will be \"\n"
     ]
    }
   ],
   "source": [
    "from ipywidgets import *\n",
    "from scipy.stats import zscore, pearsonr, kendalltau, spearmanr, ttest_rel, ttest_1samp, ttest_ind\n",
    "from scipy.spatial.distance import cdist\n",
    "from scipy.spatial.distance import pdist, cdist\n",
    "import numpy as np\n",
    "import matplotlib as mpl\n",
    "import matplotlib.pyplot as plt\n",
    "import warnings\n",
    "warnings.filterwarnings(action='ignore')\n",
    "\n",
    "np.set_printoptions(suppress=True)\n",
    "\n",
    "mpl.rcParams['axes.linewidth'] = 2\n",
    "mpl.rcParams['xtick.major.width'] = 2\n",
    "mpl.rcParams['ytick.major.width'] = 2\n",
    "mpl.rcParams['xtick.major.size'] = 5\n",
    "mpl.rcParams['ytick.major.size'] = 5\n",
    "mpl.rcParams['axes.spines.top'] = False\n",
    "mpl.rcParams['axes.spines.right'] = False\n",
    "mpl.rcParams['axes.spines.bottom'] = False\n",
    "mpl.rcParams['axes.spines.left'] = True\n",
    "\n",
    "def cos_sim(A, B):\n",
    "    return np.dot(A, B)/(np.linalg.norm(A)*np.linalg.norm(B))"
   ]
  },
  {
   "cell_type": "markdown",
   "id": "4787919c",
   "metadata": {},
   "source": [
    "#### Encoding performance"
   ]
  },
  {
   "cell_type": "code",
   "execution_count": null,
   "id": "a32ba2f3",
   "metadata": {},
   "outputs": [],
   "source": [
    "FIR_tot_novelty_ev = np.load('/media/dasom/caee0336-77a9-438c-af2f-7cf5b88293e7/dasom/Neural_subspace/results/FIR_tot_novelty_ev.npy')\n",
    "FIR_tot_memory_ev = np.load('/media/dasom/caee0336-77a9-438c-af2f-7cf5b88293e7/dasom/Neural_subspace/results/FIR_tot_memory_ev.npy')\n",
    "FIR_tot_recall_ev = np.load('/media/dasom/caee0336-77a9-438c-af2f-7cf5b88293e7/dasom/Neural_subspace/results/FIR_tot_recall_start_ev.npy')"
   ]
  },
  {
   "cell_type": "code",
   "execution_count": null,
   "id": "d5962cc6",
   "metadata": {},
   "outputs": [],
   "source": [
    "novelty_co_space_novelty_true = np.load('/media/dasom/caee0336-77a9-438c-af2f-7cf5b88293e7/dasom/Neural_subspace/results/novelty_co_space_novelty_true.npy')\n",
    "novelty_co_space_novelty_perm = np.load('/media/dasom/caee0336-77a9-438c-af2f-7cf5b88293e7/dasom/Neural_subspace/results/novelty_co_space_novelty_perm.npy')\n",
    "novelty_val_space_novelty_true = np.load('/media/dasom/caee0336-77a9-438c-af2f-7cf5b88293e7/dasom/Neural_subspace/results/novelty_val_space_novelty_true.npy')\n",
    "novelty_val_space_novelty_perm = np.load('/media/dasom/caee0336-77a9-438c-af2f-7cf5b88293e7/dasom/Neural_subspace/results/novelty_val_space_novelty_perm.npy')\n",
    "\n",
    "novelty_co_space_memory_true = np.load('/media/dasom/caee0336-77a9-438c-af2f-7cf5b88293e7/dasom/Neural_subspace/results/novelty_co_space_memory_true.npy')\n",
    "novelty_co_space_memory_perm = np.load('/media/dasom/caee0336-77a9-438c-af2f-7cf5b88293e7/dasom/Neural_subspace/results/novelty_co_space_memory_perm.npy')\n",
    "novelty_val_space_memory_true = np.load('/media/dasom/caee0336-77a9-438c-af2f-7cf5b88293e7/dasom/Neural_subspace/results/novelty_val_space_memory_true.npy')\n",
    "novelty_val_space_memory_perm = np.load('/media/dasom/caee0336-77a9-438c-af2f-7cf5b88293e7/dasom/Neural_subspace/results/novelty_val_space_memory_perm.npy')\n",
    "\n",
    "memory_space_memory_true = np.load('/media/dasom/caee0336-77a9-438c-af2f-7cf5b88293e7/dasom/Neural_subspace/results/memory_space_memory_true.npy')\n",
    "memory_space_memory_perm = np.load('/media/dasom/caee0336-77a9-438c-af2f-7cf5b88293e7/dasom/Neural_subspace/results/memory_space_memory_perm.npy')\n",
    "memory_space_novelty_true = np.load('/media/dasom/caee0336-77a9-438c-af2f-7cf5b88293e7/dasom/Neural_subspace/results/memory_space_novelty_true.npy')\n",
    "memory_space_novelty_perm = np.load('/media/dasom/caee0336-77a9-438c-af2f-7cf5b88293e7/dasom/Neural_subspace/results/memory_space_novelty_perm.npy')\n",
    "\n",
    "recall_start_space_recall_true = np.load('/media/dasom/caee0336-77a9-438c-af2f-7cf5b88293e7/dasom/Neural_subspace/results/retrieval_space_retrieval_true.npy')\n",
    "recall_start_space_recall_perm = np.load('/media/dasom/caee0336-77a9-438c-af2f-7cf5b88293e7/dasom/Neural_subspace/results/retrieval_space_retrieval_true.npy')\n",
    "# recall_end_space_recall_true = np.load('/media/dasom/caee0336-77a9-438c-af2f-7cf5b88293e7/dasom/Neural_subspace/results/retrieval_space_retrieval_true.npy')\n",
    "# recall_end_space_recall_perm = np.load('/media/dasom/caee0336-77a9-438c-af2f-7cf5b88293e7/dasom/Neural_subspace/results/retrieval_space_retrieval_true.npy')"
   ]
  },
  {
   "cell_type": "markdown",
   "id": "28bcd149",
   "metadata": {},
   "source": [
    "##### Linear arrangement"
   ]
  },
  {
   "cell_type": "code",
   "execution_count": 226,
   "id": "b5a76e3f",
   "metadata": {},
   "outputs": [
    {
     "data": {
      "image/png": "[encoded data removed]",
      "text/plain": [
       "<Figure size 576x864 with 1 Axes>"
      ]
     },
     "metadata": {
      "needs_background": "light"
     },
     "output_type": "display_data"
    }
   ],
   "source": [
    "window_length = 21\n",
    "\n",
    "# pc_90 = np.array([np.arange(np.sum(pc1_evs[r] < 0.8)+1).astype('int') for r in range(len(patterns))])\n",
    "# pc_90[pc_90 < 3] = 3\n",
    "pc_90 = [np.arange(12)] * 1\n",
    "# pc_90 = [[1]] * len(patterns)\n",
    "\n",
    "true_est_poses = []\n",
    "r2_trues = []\n",
    "r2_perms = []\n",
    "pvalues = []\n",
    "fig = plt.figure(figsize = [8,12])\n",
    "for roi_num in range(1):\n",
    "    fMRI_data_true = novelty_co_space_novelty_true[roi_num]\n",
    "    fMRI_data_perm = novelty_co_space_novelty_perm[roi_num]\n",
    "\n",
    "    # model_data = [-4,-3,-2,-1,0,1,2,3,4]\n",
    "    model_data = [-1,-1,-1,0,0,0,1,1,1]  \n",
    "    # model_data = [-1,0,1,-1,0,1,-1,0,1]  \n",
    "    # model_data = [-5,-3,-1,1,3,5]\n",
    "\n",
    "    axs = fig.add_subplot(7,2,roi_num+1)\n",
    "    true_est_pos = []\n",
    "    r2_true = []\n",
    "    for t in range(window_length):\n",
    "        distance_mat = cdist(fMRI_data_true[:,pc_90[roi_num],t], fMRI_data_true[:,pc_90[roi_num],t])\n",
    "        len_from_p1 = []\n",
    "        for c in range(fMRI_data_true.shape[0]):\n",
    "            p1 = fMRI_data_true[np.where(distance_mat == np.max(distance_mat))[0][1],pc_90[roi_num],t]\n",
    "            p2 = fMRI_data_true[np.where(distance_mat == np.max(distance_mat))[0][0],pc_90[roi_num],t] \n",
    "            p3 = fMRI_data_true[c,pc_90[roi_num],t] \n",
    "\n",
    "            unit_length = np.linalg.norm(p1-p2)\n",
    "            l2 = np.sum((p1-p2)**2)\n",
    "            a = np.sum((p3 - p1) * (p2 - p1)) / l2\n",
    "            a = max(0, min(1, np.sum((p3 - p1) * (p2 - p1)) / l2))\n",
    "            projection = p1 + a * (p2 - p1)\n",
    "            len_from_p1.append(np.linalg.norm(p1 - projection)/unit_length)\n",
    "        r2_true.append(sm.OLS(len_from_p1, sm.add_constant(model_data)).fit().rsquared)\n",
    "        true_est_pos.append(len_from_p1)\n",
    "    true_est_poses.append(true_est_pos)\n",
    "\n",
    "    r2_perm = []\n",
    "    for repeat in range(len(fMRI_data_perm)):\n",
    "        r2 = []\n",
    "        for t in range(window_length):\n",
    "            distance_mat = cdist(fMRI_data_perm[repeat][:,pc_90[roi_num],t], fMRI_data_perm[repeat][:,pc_90[roi_num],t])  \n",
    "            len_from_p1 = []\n",
    "            for c in range(fMRI_data_true.shape[0]):\n",
    "                p1 = fMRI_data_perm[repeat][np.where(distance_mat == np.max(distance_mat))[0][1],pc_90[roi_num],t]\n",
    "                p2 = fMRI_data_perm[repeat][np.where(distance_mat == np.max(distance_mat))[0][0],pc_90[roi_num],t] \n",
    "                p3 = fMRI_data_perm[repeat][c,pc_90[roi_num],t] \n",
    "\n",
    "                unit_length = np.linalg.norm(p1-p2)\n",
    "                l2 = np.sum((p1-p2)**2)\n",
    "                a = np.sum((p3 - p1) * (p2 - p1)) / l2\n",
    "                a = max(0, min(1, np.sum((p3 - p1) * (p2 - p1)) / l2))\n",
    "                projection = p1 + a * (p2 - p1)\n",
    "                len_from_p1.append(np.linalg.norm(p1 - projection)/unit_length)\n",
    "            r2.append(sm.OLS(len_from_p1, sm.add_constant(model_data)).fit().rsquared)\n",
    "        r2_perm.append(r2)\n",
    "\n",
    "    r2_trues.append(r2_true)\n",
    "    r2_perms.append(r2_perm)\n",
    "    r2_true = np.array(r2_true)\n",
    "    r2_perm = np.array(r2_perm)\n",
    "\n",
    "    # axs.plot(r2_true, 'r')\n",
    "    # axs.plot(np.mean(r2_perm, axis=0), 'grey')\n",
    "    # errorh = np.array([np.std(r2_perm[:,t])*2 for t in range(window_length)])\n",
    "    # axs.fill_between(np.arange(window_length), np.mean(r2_perm, axis=0)-errorh,np.mean(r2_perm, axis=0)+errorh, alpha = 0.3,color = 'grey')\n",
    "    \n",
    "    axs.plot(r2_true-np.mean(r2_perm, axis=0), 'r')\n",
    "    errorh = np.array([np.std(r2_true[t] - r2_perm[:,t])*2 for t in range(window_length)])\n",
    "    axs.fill_between(np.arange(window_length), r2_true-np.mean(r2_perm, axis=0)-errorh,r2_true-np.mean(r2_perm, axis=0)+errorh, alpha = 0.3,color = 'grey')\n",
    "    \n",
    "    axs.set_ylim([-0.5,1])\n",
    "    axs.hlines(0, 0, window_length-1, linestyle = '--', color = 'grey')\n",
    "    axs.vlines(10, -1, 1, linestyle = '--', color = 'grey')\n",
    "    axs.set_xticks([0,5,10,15,20])\n",
    "    axs.set_xticklabels(['','',0,'',''])\n",
    "    pvalues.append([np.sum(r2_perm[:,t] > r2_true[t])/repetition for t in range(window_length)])\n",
    "    for t in range(21):\n",
    "        if np.sum(r2_perm[:,t] > r2_true[t])/repetition < .05:\n",
    "            plt.text(t-0.2,0.9,'*')\n",
    "r2_trues = np.array(r2_trues)\n",
    "r2_perms = np.array(r2_perms)\n",
    "fig.tight_layout()\n",
    "# fig.savefig('/home/dasom/Dropbox/ubuntu-window/미팅자료/Neural_dynamics/Memory_novelty_cooccur_valence/Valence_space_cooccur_r2.png', dpi=300, bbox_inches = \"tight\")"
   ]
  },
  {
   "cell_type": "code",
   "execution_count": 228,
   "metadata": {},
   "outputs": [],
   "source": [
    "before = np.mean(r2_trues[:,:10], axis=1) - np.mean(r2_perms[:,:,:10], axis=2).T\n",
    "after = np.mean(r2_trues[:,11:], axis=1) - np.mean(r2_perms[:,:,11:], axis=2).T\n",
    "# Memory_space_cooccur_before = np.hstack([np.mean(r2_trues[:,:10]), np.mean(r2_perms[0,:,:10], axis=1)])\n",
    "# Memory_space_cooccur_after = np.hstack([np.mean(r2_trues[:,11:]), np.mean(r2_perms[0,:,11:], axis=1)])\n",
    "\n",
    "# before = np.mean(r2_trues[:,:10], axis=1) - np.mean(r2_perms[:,:,:10], axis=2).T\n",
    "# after = np.mean(r2_trues[:,11:], axis=1) - np.mean(r2_perms[:,:,11:], axis=2).T\n",
    "# Memory_space_valence_before = np.hstack([np.mean(r2_trues[:,:10]), np.mean(r2_perms[0,:,:10], axis=1)])\n",
    "# Memory_space_valence_after = np.hstack([np.mean(r2_trues[:,11:]), np.mean(r2_perms[0,:,11:], axis=1)])"
   ]
  },
  {
   "cell_type": "code",
   "execution_count": null,
   "metadata": {},
   "outputs": [],
   "source": [
    "plt.figure(figsize = [4,5])\n",
    "bar1 = plt.bar([0], [np.mean(before)], color = 'navy', edgecolor = 'k', linewidth = 3, width = 0.7, alpha = 0.5) # #FF0000 #9C27B0 #656B83\n",
    "plt.bar([1], [np.mean(after)], color = 'navy', edgecolor = 'k', linewidth = 3, width = 0.7) # #FF0000 #9C27B0 navy\n",
    "# plt.errorbar([0,1], [np.mean(before), np.mean(after)], [np.std(before)*2, np.std(after)*2], linestyle = '', color = 'k', linewidth = 3)\n",
    "plt.scatter(np.random.normal(size = 1000)/15, before, color = 'grey', alpha = 0.1)\n",
    "plt.scatter(np.random.normal(size = 1000)/15 + 1 , after, color = 'grey', alpha = 0.1)\n",
    "plt.xlim([-0.6, 1.6])\n",
    "plt.ylim([0,0.8])\n",
    "plt.xticks([0,1])\n",
    "plt.yticks([0,0.4,0.8])\n",
    "plt.savefig('/home/dasom/Dropbox/ubuntu-window/미팅자료/Neural_dynamics/Memory_novelty_cooccur_valence/Memory_summary.png', dpi=300, bbox_inches = \"tight\")"
   ]
  },
  {
   "cell_type": "code",
   "execution_count": null,
   "metadata": {},
   "outputs": [],
   "source": [
    "# corr_look = np.array([zscore(Memory_space_cooccur_before)[0], zscore(Memory_space_valence_before)[0],\n",
    "#                       zscore(Memory_space_cooccur_after)[0], zscore(Memory_space_valence_after)[0]])\n",
    "# random_look = np.array([zscore(Memory_space_cooccur_before)[1:], zscore(Memory_space_valence_before)[1:],\n",
    "#                         zscore(Memory_space_cooccur_after)[1:], zscore(Memory_space_valence_after)[1:]])\n",
    "\n",
    "corr_look = np.array([Memory_space_cooccur_before[0], Memory_space_valence_before[0],  \n",
    "                      Memory_space_cooccur_after[0], Memory_space_valence_after[0]])\n",
    "random_look = np.array([Memory_space_cooccur_before[1:], Memory_space_valence_before[1:],\n",
    "                        Memory_space_cooccur_after[1:], Memory_space_valence_after[1:]])\n",
    "diff = np.array([corr_look]).T - random_look\n",
    "\n",
    "x_pos = [0,0.4,1,1.4]\n",
    "plt.figure(figsize = [6.5,4])\n",
    "plt.xticks(x_pos, fontsize = 12)\n",
    "plt.yticks([-0.1,0,0.1,0.2,0.3,0.4], fontsize = 12)\n",
    "plt.xlim([-0.4,1.8])\n",
    "plt.hlines([0],-1,5, 'black', linewidth = 1, linestyle = '--')\n",
    "\n",
    "barlist = plt.bar(x_pos, np.mean(diff, axis=1), width = 0.3, edgecolor = 'k', alpha = 1)\n",
    "barlist[0].set_facecolor('#FF0000')\n",
    "barlist[0].set_alpha(0.5)\n",
    "barlist[1].set_facecolor('#9C27B0')\n",
    "barlist[1].set_alpha(0.5)\n",
    "barlist[2].set_facecolor('#FF0000')\n",
    "barlist[3].set_facecolor('#9C27B0')\n",
    "plt.errorbar(x_pos, np.mean(diff, axis=1), np.std(diff, axis=1), linestyle = '', color = 'k')\n",
    "\n",
    "# plt.scatter(x_pos[0], corr_look[0], color = 'red', marker = 'D', zorder = 2, linewidth = 3, alpha = 1)\n",
    "# plt.scatter(x_pos[1], corr_look[2], color = 'red', marker = 'D', zorder = 2, linewidth = 3, alpha = 1)\n",
    "# plt.scatter(x_pos[2], corr_look[1], color = '#9C27B0', marker = 'D', zorder = 2, linewidth = 3, alpha = 1)\n",
    "# plt.scatter(x_pos[3], corr_look[3], color = '#9C27B0', marker = 'D', zorder = 2, linewidth = 3, alpha = 1)\n",
    "\n",
    "# violin_parts = plt.violinplot(random_look.T, x_pos, showmeans=False, showmedians=False, showextrema=False, widths = 0.25)\n",
    "# count = 0\n",
    "# for vp in violin_parts['bodies']:\n",
    "#     if count in [0,1]:\n",
    "#         vp.set_facecolor('#2D639E')\n",
    "#     else:\n",
    "#         vp.set_facecolor('#2D639E') #8190B5\n",
    "#     vp.set_alpha(0.5)\n",
    "#     count += 1\n",
    "\n",
    "plt.ylim([-0.1, 0.4])\n",
    "plt.savefig('/home/dasom/Dropbox/ubuntu-window/미팅자료/Neural_dynamics/Memory_novelty_cooccur_valence/Memory_space_novelty_encoding2.png',dpi=300, bbox_inches = \"tight\")"
   ]
  },
  {
   "cell_type": "code",
   "execution_count": 247,
   "id": "9e25143e",
   "metadata": {},
   "outputs": [
    {
     "data": {
      "image/png": "[encoded data removed]",
      "text/plain": [
       "<Figure size 360x360 with 1 Axes>"
      ]
     },
     "metadata": {},
     "output_type": "display_data"
    }
   ],
   "source": [
    "tp = 14\n",
    "which = novelty_val_space_novelty_true\n",
    "\n",
    "fig = plt.figure(figsize = [5,5])\n",
    "\n",
    "# fig.gca().set_prop_cycle(plt.cycler('color', plt.cm.RdYlBu_r(np.linspace(0, 1, 9))))\n",
    "\n",
    "# plt.scatter(which[0][[0,1,2],0,tp], which[0][[0,1,2],2,tp], marker = 'o', color = 'red', s = 300, edgecolor = 'k')\n",
    "# plt.scatter(which[0][[3,4,5],0,tp], which[0][[3,4,5],2,tp], marker = 'o', color = 'grey', s = 300, edgecolor = 'k')\n",
    "# plt.scatter(which[0][[6,7,8],0,tp], which[0][[6,7,8],2,tp], marker = 'o', color = 'blue', s = 300, edgecolor = 'k')\n",
    "\n",
    "plt.scatter(which[0][[0,3,6],0,tp], which[0][[0,3,6],2,tp], marker = 'o', color = 'magenta', s = 300, edgecolor = 'k')\n",
    "plt.scatter(which[0][[1,4,7],0,tp], which[0][[1,4,7],2,tp], marker = 'o', color = 'grey', s = 300, edgecolor = 'k')\n",
    "plt.scatter(which[0][[2,5,8],0,tp], which[0][[2,5,8],2,tp], marker = 'o', color = 'cyan', s = 300, edgecolor = 'k')\n",
    "\n",
    "# for c in range(9):\n",
    "#     plt.scatter(which[0][c,0,tp], which[0][c,2,tp], marker = 'o',linewidths = 5)\n",
    "\n",
    "plt.xticks([])\n",
    "plt.yticks([])\n",
    "plt.plot([which[0][2,0,tp], which[0][6,0,tp]], [which[0][2,2,tp], which[0][6,2,tp]], color = 'k', zorder = 0, linewidth = 2, linestyle = '--')\n",
    "plt.savefig('/home/dasom/Dropbox/ubuntu-window/미팅자료/Neural_dynamics/Memory_novelty_cooccur_valence/Valence_space_valence_example.png', dpi=300, bbox_inches = \"tight\")"
   ]
  },
  {
   "cell_type": "code",
   "execution_count": null,
   "id": "cc4ec117",
   "metadata": {},
   "outputs": [],
   "source": [
    "t = 10\n",
    "roi_num = 0\n",
    "fMRI_data_true = p_c1_trues[roi_num]\n",
    "distance_mat = cdist(fMRI_data_true[:,[0,1,2],t], fMRI_data_true[:,[0,1,2],t])\n",
    "len_from_p1 = []\n",
    "for c in range(fMRI_data_true.shape[0]):\n",
    "    p1 = fMRI_data_true[np.where(distance_mat == np.max(distance_mat))[0][1],[0,1,2],t]\n",
    "    p2 = fMRI_data_true[np.where(distance_mat == np.max(distance_mat))[0][0],[0,1,2],t] \n",
    "    p3 = fMRI_data_true[c,[0,1,2],t] \n",
    "\n",
    "    unit_length = np.linalg.norm(p1-p2)\n",
    "    l2 = np.sum((p1-p2)**2)\n",
    "    a = np.sum((p3 - p1) * (p2 - p1)) / l2\n",
    "    a = max(0, min(1, np.sum((p3 - p1) * (p2 - p1)) / l2))\n",
    "    projection = p1 + a * (p2 - p1)\n",
    "    len_from_p1.append(np.linalg.norm(p1 - projection)/unit_length)\n",
    "\n",
    "fig = plt.figure()\n",
    "fig.gca().set_prop_cycle(plt.cycler('color', plt.cm.RdYlBu_r(np.linspace(0, 1, 9))))\n",
    "for p in range(9):\n",
    "    plt.scatter([0],len_from_p1[p],zorder=2,linewidths=3)\n",
    "plt.vlines(0,0,1,'grey',zorder=1)\n",
    "# plt.savefig('/home/dasom/Dropbox/ubuntu-window/미팅자료/Neural_dynamics/Cooccur_vs_valence_v3/a1.png', dpi=300, bbox_inches = \"tight\")"
   ]
  },
  {
   "cell_type": "code",
   "execution_count": 261,
   "id": "422ab6af",
   "metadata": {},
   "outputs": [],
   "source": [
    "cumulative = False\n",
    "r2_trues = []\n",
    "r2_perms = []\n",
    "pvalues = []\n",
    "for num in range(1,13):\n",
    "# for num in [2]:\n",
    "    fMRI_data_true = novelty_co_space_novelty_true[0]\n",
    "    fMRI_data_perm = novelty_co_space_novelty_perm[0]\n",
    "    # model_data = [-1,-1,-1,0,0,0,1,1,1]  \n",
    "    model_data = [-1,0,1,-1,0,1,-1,0,1] \n",
    "    # model_data = [-4,-3,-2,-1,0,1,2,3,4]\n",
    "\n",
    "    if cumulative:\n",
    "        r2_true = []\n",
    "        for t in range(window_length):\n",
    "            distance_mat = cdist(fMRI_data_true[:,:num,t], fMRI_data_true[:,:num,t])\n",
    "            len_from_p1 = []\n",
    "            for c in range(fMRI_data_true.shape[0]):\n",
    "                p1 = fMRI_data_true[np.where(distance_mat == np.max(distance_mat))[0][1],:num,t]\n",
    "                p2 = fMRI_data_true[np.where(distance_mat == np.max(distance_mat))[0][0],:num,t] \n",
    "                p3 = fMRI_data_true[c,:num,t] \n",
    "\n",
    "                unit_length = np.linalg.norm(p1-p2)\n",
    "                l2 = np.sum((p1-p2)**2)\n",
    "                a = np.sum((p3 - p1) * (p2 - p1)) / l2\n",
    "                a = max(0, min(1, np.sum((p3 - p1) * (p2 - p1)) / l2))\n",
    "                projection = p1 + a * (p2 - p1)\n",
    "                len_from_p1.append(np.linalg.norm(p1 - projection)/unit_length)\n",
    "            r2_true.append(sm.OLS(len_from_p1, sm.add_constant(model_data)).fit().rsquared)\n",
    "\n",
    "        r2_perm = []\n",
    "        for repeat in range(repetition):\n",
    "            r2 = []\n",
    "            for t in range(window_length):\n",
    "                distance_mat = cdist(fMRI_data_perm[repeat][:,:num,t], fMRI_data_perm[repeat][:,:num,t])  \n",
    "                len_from_p1 = []\n",
    "                for c in range(fMRI_data_true.shape[0]):\n",
    "                    p1 = fMRI_data_perm[repeat][np.where(distance_mat == np.max(distance_mat))[0][1],:num,t]\n",
    "                    p2 = fMRI_data_perm[repeat][np.where(distance_mat == np.max(distance_mat))[0][0],:num,t] \n",
    "                    p3 = fMRI_data_perm[repeat][c,:num,t] \n",
    "\n",
    "                    unit_length = np.linalg.norm(p1-p2)\n",
    "                    l2 = np.sum((p1-p2)**2)\n",
    "                    a = np.sum((p3 - p1) * (p2 - p1)) / l2\n",
    "                    a = max(0, min(1, np.sum((p3 - p1) * (p2 - p1)) / l2))\n",
    "                    projection = p1 + a * (p2 - p1)\n",
    "                    len_from_p1.append(np.linalg.norm(p1 - projection)/unit_length)\n",
    "                r2.append(sm.OLS(len_from_p1, sm.add_constant(model_data)).fit().rsquared)\n",
    "            r2_perm.append(r2)\n",
    "    else:\n",
    "        r2_true = []\n",
    "        for t in range(window_length):\n",
    "            distance_mat = cdist(fMRI_data_true[:,[num-1],t], fMRI_data_true[:,[num-1],t])\n",
    "            len_from_p1 = []\n",
    "            for c in range(fMRI_data_true.shape[0]):\n",
    "                p1 = fMRI_data_true[np.where(distance_mat == np.max(distance_mat))[0][1],[num-1],t]\n",
    "                p2 = fMRI_data_true[np.where(distance_mat == np.max(distance_mat))[0][0],[num-1],t] \n",
    "                p3 = fMRI_data_true[c,[num-1],t] \n",
    "\n",
    "                unit_length = np.linalg.norm(p1-p2)\n",
    "                l2 = np.sum((p1-p2)**2)\n",
    "                a = np.sum((p3 - p1) * (p2 - p1)) / l2\n",
    "                a = max(0, min(1, np.sum((p3 - p1) * (p2 - p1)) / l2))\n",
    "                projection = p1 + a * (p2 - p1)\n",
    "                len_from_p1.append(np.linalg.norm(p1 - projection)/unit_length)\n",
    "            r2_true.append(sm.OLS(len_from_p1, sm.add_constant(model_data)).fit().rsquared)\n",
    "\n",
    "        r2_perm = []\n",
    "        for repeat in range(repetition):\n",
    "            r2 = []\n",
    "            for t in range(window_length):\n",
    "                distance_mat = cdist(fMRI_data_perm[repeat][:,[num-1],t], fMRI_data_perm[repeat][:,[num-1],t])  \n",
    "                len_from_p1 = []\n",
    "                for c in range(fMRI_data_true.shape[0]):\n",
    "                    p1 = fMRI_data_perm[repeat][np.where(distance_mat == np.max(distance_mat))[0][1],[num-1],t]\n",
    "                    p2 = fMRI_data_perm[repeat][np.where(distance_mat == np.max(distance_mat))[0][0],[num-1],t] \n",
    "                    p3 = fMRI_data_perm[repeat][c,[num-1],t] \n",
    "\n",
    "                    unit_length = np.linalg.norm(p1-p2)\n",
    "                    l2 = np.sum((p1-p2)**2)\n",
    "                    a = np.sum((p3 - p1) * (p2 - p1)) / l2\n",
    "                    a = max(0, min(1, np.sum((p3 - p1) * (p2 - p1)) / l2))\n",
    "                    projection = p1 + a * (p2 - p1)\n",
    "                    len_from_p1.append(np.linalg.norm(p1 - projection)/unit_length)\n",
    "                r2.append(sm.OLS(len_from_p1, sm.add_constant(model_data)).fit().rsquared)\n",
    "            r2_perm.append(r2)\n",
    "\n",
    "    r2_trues.append(r2_true)\n",
    "    r2_perms.append(r2_perm)\n",
    "    r2_true = np.array(r2_true)\n",
    "    r2_perm = np.array(r2_perm)\n",
    "r2_trues = np.array(r2_trues)\n",
    "r2_perms = np.array(r2_perms)"
   ]
  },
  {
   "cell_type": "code",
   "execution_count": 262,
   "id": "690463f4",
   "metadata": {},
   "outputs": [],
   "source": [
    "before = np.mean(r2_trues[:,:10], axis=1) - np.mean(r2_perms[:,:,:10], axis=2).T\n",
    "after = np.mean(r2_trues[:,11:], axis=1) - np.mean(r2_perms[:,:,11:], axis=2).T\n",
    "\n",
    "# before_cooccur_cooccur = before\n",
    "# after_cooccur_cooccur = after\n",
    "\n",
    "# before_cooccur_valence = before\n",
    "# after_cooccur_valence = after\n",
    "\n",
    "# before_valence_cooccur = before\n",
    "# after_valence_cooccur = after\n",
    "\n",
    "# before_valence_valence = before\n",
    "# after_valence_valence = after\n",
    "\n",
    "# before_cooccur_cooccur_each = before\n",
    "# after_cooccur_cooccur_each = after\n",
    "\n",
    "# before_cooccur_valence_each = before\n",
    "# after_cooccur_valence_each = after\n",
    "\n",
    "# before_valence_valence_each = before\n",
    "# after_valence_valence_each = after\n",
    "\n",
    "before_valence_cooccur_each = before\n",
    "after_valence_cooccur_each = after\n",
    "\n",
    "# before_cooccur_memory_each = before\n",
    "# after_cooccur_memory_each = after\n",
    "\n",
    "# before_valence_memory_each = before\n",
    "# after_valence_memory_each = after"
   ]
  },
  {
   "cell_type": "code",
   "execution_count": null,
   "metadata": {},
   "outputs": [],
   "source": [
    "print(np.mean(before_cooccur_valence_each, axis=0), \n",
    "      [np.sum(before_cooccur_valence_each[:,i] < 0)/repetition for i in range(12)])\n",
    "print(np.mean(after_cooccur_valence_each, axis=0), \n",
    "      [np.sum(after_cooccur_valence_each[:,i] < 0)/repetition for i in range(12)])"
   ]
  },
  {
   "cell_type": "code",
   "execution_count": 266,
   "id": "0df8c455",
   "metadata": {},
   "outputs": [
    {
     "data": {
      "image/png": "[encoded data removed]",
      "text/plain": [
       "<Figure size 576x360 with 1 Axes>"
      ]
     },
     "metadata": {
      "needs_background": "light"
     },
     "output_type": "display_data"
    }
   ],
   "source": [
    "plt.figure(figsize = [8,5])\n",
    "# plt.errorbar(np.arange(len(before_cooccur_valence.T)), np.mean(before_cooccur_valence, axis=0), np.std(before_cooccur_valence, axis=0), color = 'm', alpha = 0.33)\n",
    "# plt.errorbar(np.arange(len(after_cooccur_valence.T)), np.mean(after_cooccur_valence, axis=0), np.std(after_cooccur_valence, axis=0), color = 'm')\n",
    "# plt.errorbar(np.arange(len(before_cooccur_cooccur.T)), np.mean(before_cooccur_cooccur, axis=0), np.std(before_cooccur_cooccur, axis=0), color = 'r', alpha = 0.33)\n",
    "# plt.errorbar(np.arange(len(after_cooccur_cooccur.T)), np.mean(after_cooccur_cooccur, axis=0), np.std(after_cooccur_cooccur, axis=0), color = 'r')\n",
    "\n",
    "# plt.errorbar(np.arange(12), np.mean(before_valence_cooccur_each, axis=0), np.std(before_valence_cooccur_each, axis=0), color = 'm', alpha = 0.33)\n",
    "# plt.errorbar(np.arange(12), np.mean(after_valence_cooccur_each, axis=0), np.std(after_valence_cooccur_each, axis=0), color = 'm')\n",
    "plt.errorbar(np.arange(12), np.mean(before_cooccur_valence_each, axis=0), np.std(before_cooccur_valence_each, axis=0), color = 'r', alpha = 0.33)\n",
    "plt.errorbar(np.arange(12), np.mean(after_cooccur_valence_each, axis=0), np.std(after_cooccur_valence_each, axis=0), color = 'r')\n",
    "\n",
    "plt.xticks(np.arange(12),np.arange(1,13))\n",
    "plt.xlim([-1,12])    \n",
    "plt.ylim([-0.2,0.4])\n",
    "# plt.ylim([-0.1,0.6])\n",
    "plt.hlines(0,-1,20, color = 'grey', linestyle = '--')\n",
    "plt.savefig('/home/dasom/Dropbox/ubuntu-window/미팅자료/Neural_dynamics/Memory_novelty_cooccur_valence/Encoding_performance_valence_space_cooccur_each_pc.png', dpi=300, bbox_inches = \"tight\")"
   ]
  },
  {
   "cell_type": "code",
   "execution_count": null,
   "metadata": {},
   "outputs": [],
   "source": [
    "befores = np.array([before_cooccur_cooccur_each, before_cooccur_valence_each, before_valence_cooccur_each, before_valence_valence_each])\n",
    "afters = np.array([after_cooccur_cooccur_each, after_cooccur_valence_each, after_valence_cooccur_each, after_valence_valence_each])\n",
    "\n",
    "plt_data = afters[:,:,0]\n",
    "\n",
    "x_pos = [0,0.4,1,1.4]\n",
    "plt.figure(figsize = [6,4])\n",
    "plt.hlines([0],-1,5, 'black', linewidth = 1, linestyle = '--')\n",
    "\n",
    "# barlist = plt.bar(x_pos, np.mean(plt_data, axis=1), width = 0.3, edgecolor = 'k', alpha = 0.5)\n",
    "barlist = plt.bar(x_pos, np.mean(plt_data, axis=1), width = 0.3, edgecolor = 'k')\n",
    "barlist[0].set_facecolor('#FF0000')\n",
    "barlist[1].set_facecolor('#FF0000')\n",
    "barlist[1].set_hatch('//')\n",
    "barlist[2].set_facecolor('#9C27B0')\n",
    "barlist[2].set_hatch('//')\n",
    "barlist[3].set_facecolor('#9C27B0')\n",
    "# plt.errorbar(x_pos, np.mean(plt_data, axis=1), np.std(plt_data, axis=1), linestyle = '', color = 'k')\n",
    "for c in range(4):\n",
    "    plt.scatter(np.random.normal(size=1000)/60 + x_pos[c], plt_data[c], color = 'gray', alpha = 0.2)\n",
    "\n",
    "plt.xticks(x_pos, fontsize = 12)\n",
    "plt.yticks([-0.2,0,0.2,0.4], fontsize = 12)\n",
    "plt.xlim([-0.4,1.8])\n",
    "plt.ylim([-0.2, 0.4])\n",
    "plt.savefig('/home/dasom/Dropbox/ubuntu-window/미팅자료/Neural_dynamics/Memory_novelty_cooccur_valence/Figure3b_after.png',dpi=300, bbox_inches = \"tight\")"
   ]
  },
  {
   "cell_type": "code",
   "execution_count": null,
   "metadata": {},
   "outputs": [],
   "source": [
    "data = np.array([before_cooccur_memory_each, before_valence_memory_each, after_cooccur_memory_each, after_valence_memory_each])\n",
    "\n",
    "plt_data = data[:,:,0]\n",
    "\n",
    "x_pos = [0,0.4,1,1.4]\n",
    "plt.figure(figsize = [6,4])\n",
    "plt.hlines([0],-1,5, 'black', linewidth = 1, linestyle = '--')\n",
    "\n",
    "barlist = plt.bar(x_pos, np.mean(plt_data, axis=1), width = 0.3, edgecolor = 'k')\n",
    "barlist[0].set_facecolor('#FF0000')\n",
    "barlist[0].set_alpha(0.5)\n",
    "barlist[1].set_facecolor('#9C27B0')\n",
    "barlist[1].set_alpha(0.5)\n",
    "barlist[2].set_facecolor('#FF0000')\n",
    "barlist[3].set_facecolor('#9C27B0')\n",
    "\n",
    "for c in range(4):\n",
    "    plt.scatter(np.random.normal(size=1000)/60 + x_pos[c], plt_data[c], color = 'gray', alpha = 0.2)\n",
    "\n",
    "plt.xticks(x_pos, fontsize = 12)\n",
    "plt.yticks([-0.3,0,0.3,0.6], fontsize = 12)\n",
    "plt.xlim([-0.4,1.8])\n",
    "plt.ylim([-0.3, 0.6])\n",
    "plt.savefig('/home/dasom/Dropbox/ubuntu-window/미팅자료/Neural_dynamics/Memory_novelty_cooccur_valence/Figure4c.png',dpi=300, bbox_inches = \"tight\")"
   ]
  },
  {
   "cell_type": "markdown",
   "metadata": {},
   "source": [
    "##### Inverse alignment"
   ]
  },
  {
   "cell_type": "code",
   "execution_count": 138,
   "metadata": {},
   "outputs": [
    {
     "name": "stdout",
     "output_type": "stream",
     "text": [
      "[0.258, 0.071, 0.374, 0.508, 0.46, 0.534, 0.971, 0.525, 0.254, 0.422, 0.978, 0.658, 0.457, 0.062, 0.01, 0.076, 0.117, 0.235, 0.365, 0.973, 0.605]\n",
      "[0.707, 0.454, 0.545, 0.354, 0.234, 0.188, 0.979, 0.768, 0.788, 0.661, 0.985, 0.845, 0.309, 0.024, 0.087, 0.213, 0.204, 0.518, 0.382, 0.88, 0.737]\n",
      "[0.5, 0.09, 0.451, 0.354, 0.21, 0.2, 0.991, 0.777, 0.611, 0.66, 0.995, 0.892, 0.278, 0.014, 0.008, 0.057, 0.065, 0.259, 0.279, 0.974, 0.819]\n"
     ]
    }
   ],
   "source": [
    "true1 = []\n",
    "perm1 = []\n",
    "true2 = []\n",
    "perm2 = []\n",
    "true3 = []\n",
    "perm3 = []\n",
    "for t in range(21):\n",
    "    # true1.append(cos_sim(zscore(memory_space_memory_true[0][:,1,t]), zscore(novelty_co_space_novelty_true[0][:,0,t])))\n",
    "    # perm1.append(np.array([cos_sim(zscore(memory_space_memory_perm[0][r][:,1,t]), zscore(novelty_co_space_novelty_perm[0][r][:,0,t])) for r in range(1000)]))\n",
    "    # true2.append(cos_sim(zscore(memory_space_memory_true[0][:,1,t]), zscore(novelty_val_space_novelty_true[0][:,0,t])))\n",
    "    # perm2.append(np.array([cos_sim(zscore(memory_space_memory_perm[0][r][:,1,t]), zscore(novelty_val_space_novelty_perm[0][r][:,0,t])) for r in range(1000)]))\n",
    "    # true1.append(cos_sim(memory_space_memory_true[0][:,1,t], novelty_co_space_novelty_true[0][:,0,t]))\n",
    "    # perm1.append(np.array([cos_sim(memory_space_memory_perm[0][r][:,1,t], novelty_co_space_novelty_perm[0][r][:,0,t]) for r in range(1000)]))\n",
    "    # true2.append(cos_sim(memory_space_memory_true[0][:,1,t], novelty_val_space_novelty_true[0][:,0,t]))\n",
    "    # perm2.append(np.array([cos_sim(memory_space_memory_perm[0][r][:,1,t], novelty_val_space_novelty_perm[0][r][:,0,t]) for r in range(1000)]))\n",
    "\n",
    "    true_comem = spearmanr(memory_space_memory_true[0][:,1,t], novelty_co_space_novelty_true[0][:,0,t])[0]\n",
    "    true_valmem = spearmanr(memory_space_memory_true[0][:,1,t], novelty_val_space_novelty_true[0][:,0,t])[0]\n",
    "    perm_comem = np.array([spearmanr(memory_space_memory_perm[0][r][:,1,t], novelty_co_space_novelty_perm[0][r][:,0,t])[0] for r in range(1000)])\n",
    "    perm_valmem = np.array([spearmanr(memory_space_memory_perm[0][r][:,1,t], novelty_val_space_novelty_perm[0][r][:,0,t])[0] for r in range(1000)])\n",
    "    true1.append(true_comem)\n",
    "    perm1.append(perm_comem)\n",
    "    true2.append(true_valmem)\n",
    "    perm2.append(perm_valmem)\n",
    "    true3.append(true_comem + true_valmem)\n",
    "    perm3.append(perm_comem + perm_valmem)\n",
    "true1 = np.array(true1)\n",
    "perm1 = np.array(perm1)\n",
    "true2 = np.array(true2)\n",
    "perm2 = np.array(perm2)\n",
    "true3 = np.array(true3)\n",
    "perm3 = np.array(perm3)\n",
    "print([np.sum(true1[t] < perm1[t])/1000 for t in range(21)])\n",
    "print([np.sum(true2[t] < perm2[t])/1000 for t in range(21)])\n",
    "print([np.sum(true3[t] < perm3[t])/1000 for t in range(21)])"
   ]
  },
  {
   "cell_type": "code",
   "execution_count": 164,
   "id": "edec65f1",
   "metadata": {},
   "outputs": [
    {
     "data": {
      "image/png": "[encoded data removed]",
      "text/plain": [
       "<Figure size 432x216 with 1 Axes>"
      ]
     },
     "metadata": {
      "needs_background": "light"
     },
     "output_type": "display_data"
    }
   ],
   "source": [
    "plt.figure(figsize = [6,3])\n",
    "true = true3/2\n",
    "# true_co = np.array([cos_sim(memory_space_memory_true[0][:,1,t], novelty_co_space_novelty_true[0][:,0,t]) for t in range(window_length)])\n",
    "# true_co = np.array([spearmanr(memory_space_memory_true[0][:,1,t], novelty_co_space_novelty_true[0][:,0,t])[0] for t in range(window_length)])\n",
    "error = np.std(perm3/2, axis=1)\n",
    "plt.scatter(np.arange(21), true, s = 50, color = 'red', edgecolor = 'k', zorder = 1)\n",
    "plt.plot(true,'red',zorder=2)\n",
    "plt.fill_between(np.arange(21), -1, +error, alpha = 0.5,color = 'grey',zorder=2)\n",
    "plt.plot(error,'k--',zorder=2)\n",
    "\n",
    "plt.xlim([-1,21])\n",
    "plt.ylim([-1,1])\n",
    "plt.xticks([0,5,10,15,20],['','',0,'',''])\n",
    "plt.yticks([-1,0,1])    \n",
    "plt.vlines(10,-1,1,'grey','--',zorder=1)\n",
    "plt.hlines(0,-1,21,'grey','--',zorder=1)\n",
    "plt.savefig('/home/dasom/Dropbox/ubuntu-window/미팅자료/Neural_dynamics/Memory_novelty_cooccur_valence/Alignment_axis2.png', dpi=300, bbox_inches = \"tight\")"
   ]
  },
  {
   "cell_type": "code",
   "execution_count": 131,
   "metadata": {},
   "outputs": [
    {
     "data": {
      "text/plain": [
       "<matplotlib.collections.LineCollection at 0x7fdcdc3fa0a0>"
      ]
     },
     "execution_count": 131,
     "metadata": {},
     "output_type": "execute_result"
    },
    {
     "data": {
      "image/png": "[encoded data removed]",
      "text/plain": [
       "<Figure size 432x216 with 1 Axes>"
      ]
     },
     "metadata": {
      "needs_background": "light"
     },
     "output_type": "display_data"
    }
   ],
   "source": [
    "plt.figure(figsize = [6,3])\n",
    "true_co = np.array([cos_sim(zscore(memory_space_memory_true[0][:,1,t]), zscore(novelty_co_space_novelty_true[0][:,0,t])) for t in range(window_length)])\n",
    "# true_co = np.array([cos_sim(memory_space_memory_true[0][:,1,t], novelty_co_space_novelty_true[0][:,0,t]) for t in range(window_length)])\n",
    "# true_co = np.array([spearmanr(memory_space_memory_true[0][:,1,t], novelty_co_space_novelty_true[0][:,0,t])[0] for t in range(window_length)])\n",
    "error_co = np.array([np.std(perm1[t]) for t in range(window_length)])\n",
    "plt.scatter(np.arange(21), true_co, s = 50, color = 'r', edgecolor = 'k', zorder = 3)\n",
    "plt.plot(true_co,'m',zorder=2)\n",
    "plt.fill_between(np.arange(window_length), -error_co, +error_co, alpha = 0.2,color = 'r',zorder=4)\n",
    "\n",
    "true_val = np.array([cos_sim(zscore(memory_space_memory_true[0][:,1,t]), zscore(novelty_val_space_novelty_true[0][:,0,t])) for t in range(window_length)])\n",
    "# true_val = np.array([cos_sim(memory_space_memory_true[0][:,1,t], novelty_val_space_novelty_true[0][:,0,t]) for t in range(window_length)])\n",
    "# true_val = np.array([spearmanr(memory_space_memory_true[0][:,1,t], novelty_val_space_novelty_true[0][:,0,t])[0] for t in range(window_length)])\n",
    "error_val = np.array([np.std(perm2[t]) for t in range(window_length)])\n",
    "plt.scatter(np.arange(21), true_val, s = 50, color = 'm', edgecolor = 'k', zorder = 3)\n",
    "plt.plot(true_val,'m',zorder=2)\n",
    "plt.fill_between(np.arange(window_length), -error_val, +error_val, alpha = 0.2,color = 'm',zorder=4)\n",
    "\n",
    "plt.xlim([-1,21])\n",
    "plt.ylim([-1,1])\n",
    "plt.xticks([0,5,10,15,20],['','',0,'',''])\n",
    "plt.yticks([-1,0,1])    \n",
    "plt.vlines(10,-1,1,'grey','--',zorder=1)\n",
    "plt.hlines(0,-1,21,'grey','--',zorder=1)\n",
    "# plt.savefig('/home/dasom/Dropbox/ubuntu-window/미팅자료/Neural_dynamics/Memory_novelty_cooccur_valence/Alignment_axis1.png', dpi=300, bbox_inches = \"tight\")"
   ]
  },
  {
   "cell_type": "code",
   "execution_count": 201,
   "metadata": {},
   "outputs": [
    {
     "data": {
      "text/plain": [
       "(-0.5, 1.5)"
      ]
     },
     "execution_count": 201,
     "metadata": {},
     "output_type": "execute_result"
    },
    {
     "data": {
      "image/png": "[encoded data removed]",
      "text/plain": [
       "<Figure size 216x432 with 1 Axes>"
      ]
     },
     "metadata": {
      "needs_background": "light"
     },
     "output_type": "display_data"
    }
   ],
   "source": [
    "timepoint = 12\n",
    "\n",
    "fig = plt.figure(figsize = [3,6])\n",
    "fig.gca().set_prop_cycle(plt.cycler('color', plt.cm.RdYlBu(np.linspace(0, 1, 9))))\n",
    "for p in range(9):\n",
    "    plt.scatter([0],zscore(memory_space_memory_true[0][:,1,timepoint])[p],zorder=2,s=150,edgecolor='k')\n",
    "plt.vlines(0,-3,3,'k',zorder=1)\n",
    "# plt.savefig('/home/dasom/Dropbox/ubuntu-window/미팅자료/Neural_dynamics/Cooccur_vs_valence_v3/a1.png', dpi=300, bbox_inches = \"tight\")\n",
    "\n",
    "colors = [[0,0,1],[0,0,1],[0,0,1],\n",
    "          [0.5,0.5,0.5],[0.5,0.5,0.5],[0.5,0.5,0.5],\n",
    "          [1,0,0],[1,0,0],[1,0,0]]\n",
    "for p in range(9):\n",
    "    plt.scatter([0.5], zscore(novelty_co_space_novelty_true[0][:,0,timepoint])[p], color = colors[p], zorder=2,s=150,edgecolor='k')\n",
    "plt.vlines(0.5,-3,3,'k',zorder=1)\n",
    "\n",
    "colors = [[1,0,1],[0.5,0.5,0.5],[0,1,1],\n",
    "          [1,0,1],[0.5,0.5,0.5],[0,1,1],\n",
    "          [1,0,1],[0.5,0.5,0.5],[0,1,1]]\n",
    "for p in range(9):\n",
    "    plt.scatter([1], zscore(novelty_val_space_novelty_true[0][:,0,timepoint])[p], color = colors[p], zorder=2,s=150,edgecolor='k')\n",
    "plt.vlines(1,-3,3,'k',zorder=1)\n",
    "plt.xlim([-0.5,1.5])\n",
    "# plt.savefig('/home/dasom/Dropbox/ubuntu-window/미팅자료/Neural_dynamics/Memory_novelty_cooccur_valence/Alignment_axis2_t10.png', dpi=300, bbox_inches = \"tight\")"
   ]
  }
 ],
 "metadata": {
  "kernelspec": {
   "display_name": "Python 3 (ipykernel)",
   "language": "python",
   "name": "python3"
  },
  "language_info": {
   "codemirror_mode": {
    "name": "ipython",
    "version": 3
   },
   "file_extension": ".py",
   "mimetype": "text/x-python",
   "name": "python",
   "nbconvert_exporter": "python",
   "pygments_lexer": "ipython3",
   "version": "3.8.10"
  }
 },
 "nbformat": 4,
 "nbformat_minor": 5
}
