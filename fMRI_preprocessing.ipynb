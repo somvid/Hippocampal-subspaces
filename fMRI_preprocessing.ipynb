{
 "cells": [
  {
   "cell_type": "code",
   "execution_count": 3,
   "metadata": {},
   "outputs": [],
   "source": [
    "import subprocess as sp\n",
    "import numpy as np\n",
    "import nibabel as nib\n",
    "from util_func import *\n",
    "\n",
    "from scipy.ndimage import binary_erosion\n",
    "\n",
    "sub_sm = ['sub-01','sub-03','sub-04','sub-05','sub-08','sub-09','sub-10','sub-12','sub-14','sub-15','sub-16','sub-17',\n",
    "          'sub-18','sub-20','sub-21','sub-22','sub-24','sub-25','sub-27','sub-28','sub-29','sub-30','sub-31','sub-32']"
   ]
  },
  {
   "cell_type": "markdown",
   "metadata": {},
   "source": [
    "## Excluding subjects with excessive motion"
   ]
  },
  {
   "cell_type": "code",
   "execution_count": null,
   "metadata": {
    "collapsed": true,
    "jupyter": {
     "outputs_hidden": true
    },
    "scrolled": true,
    "tags": []
   },
   "outputs": [],
   "source": [
    "sub_sm_clean = []\n",
    "for subj in sub_sm:\n",
    "    for task in ['movie', 'recall']:\n",
    "        for run in range(1,4):\n",
    "            try:\n",
    "                df = load_confounds(subj, task=task, run=run)\n",
    "                df = extract_cols(df)\n",
    "                fd = np.array(df['framewise_displacement'].values.tolist())\n",
    "\n",
    "                framewise_displacement = fd\n",
    "                percent_motion_outliers = np.sum(framewise_displacement>0.5)/fd.shape[0]\n",
    "                print(subj,task,run,': ',percent_motion_outliers)\n",
    "                if percent_motion_outliers > 0.05:\n",
    "                    sub_sm_clean.append([subj,task,run, percent_motion_outliers])\n",
    "                    print(subj,task,run,': ',percent_motion_outliers)\n",
    "            except:\n",
    "                pass\n",
    "          "
   ]
  },
  {
   "cell_type": "markdown",
   "metadata": {},
   "source": [
    "## Denosing confounds"
   ]
  },
  {
   "cell_type": "code",
   "execution_count": null,
   "metadata": {
    "tags": []
   },
   "outputs": [],
   "source": [
    "sub_sm_exclude = []\n",
    "mni_mask = nib.load('./files/MNI152NLin2009cAsym_3mm_mask.nii.gz').get_fdata()\n",
    "mni_image = nib.load('./files/MNI152NLin2009cAsym_3mm_mask.nii.gz')\n",
    "folder_name = f'/media/dasom/caee0336-77a9-438c-af2f-7cf5b88293e7/dasom/SM_DATA/social_movie_recall'\n",
    "\n",
    "for i, fname in enumerate(sub_sm_clean):\n",
    "    for task in ['movie','recall']:\n",
    "        for run in range(1,4):\n",
    "            print('+++++++++', fname, task, run, '+++++++++')\n",
    "            path = f'{folder_name}/derivatives/fmriprep/{fname}/func/{fname}_task-{task}_run-{run}_space-MNI152NLin2009cAsym_desc-preproc_bold.nii.gz'\n",
    "\n",
    "            fmri_data = nib.load(path).get_fdata()\n",
    "            print('original: ', fmri_data.shape)\n",
    "            fmri_data = fmri_data[mni_mask==1,:].T\n",
    "            print('masked: ', fmri_data.shape)\n",
    "\n",
    "            fmri_compounds = load_confounds(fname, task, run)\n",
    "            fmri_clean = clean_data(fmri_data, fmri_compounds)\n",
    "            ffmri_clean = fmri_clean.astype(np.float32)\n",
    "\n",
    "            new_image = np.zeros(mni_mask.shape+(fmri_data.shape[0],), dtype=np.float32)\n",
    "            new_image[mni_mask==1,:] = fmri_clean.T\n",
    "\n",
    "            nib.save(nib.Nifti1Image(new_image, mni_image.affine), f'{folder_name}/social_movie1/{fname}_{task}_{run}.nii.gz')\n"
   ]
  },
  {
   "cell_type": "markdown",
   "metadata": {},
   "source": [
    "## Additional preprocessing"
   ]
  },
  {
   "cell_type": "code",
   "execution_count": null,
   "metadata": {
    "collapsed": true,
    "jupyter": {
     "outputs_hidden": true
    },
    "tags": []
   },
   "outputs": [],
   "source": [
    "# Additional preprocessing step\n",
    "\n",
    "mask_fname = './files/MNI152NLin2009cAsym_3mm_mask.nii.gz'\n",
    "folder_name = f'/media/dasom/caee0336-77a9-438c-af2f-7cf5b88293e7/dasom/SM_DATA/social_movie1/social_movie_recall'\n",
    "FWHM = 5\n",
    "for i, fname in enumerate(sub_sm):\n",
    "    for task in ['movie', 'qna']:\n",
    "        for run in range(1,4):\n",
    "            print(fname,task,run)\n",
    "            input_fname = f'{folder_name}/{fname}_{task}_{run}.nii.gz'\n",
    "            mean_fname = f'{folder_name}/{fname}_{task}_{run}_mean.nii.gz'\n",
    "            SC_fname = f'{folder_name}/{fname}_{task}_{run}_sc.nii.gz'\n",
    "            SM_SC_fname = f'{folder_name}/{fname}_{task}_{run}_sc_sm.nii.gz'\n",
    "\n",
    "            sp.call(f'/home/dasom/abin/3dTstat -prefix {mean_fname} {input_fname}', shell=True) # Mean calculation\n",
    "            sp.call(f\"/home/dasom/abin/3dcalc -a {input_fname} -b {mean_fname} -c {mask_fname} -expr 'c * min(200, a/b*100)*step(a)*step(b)' -prefix {SC_fname}\", shell=True) # Scaling\n",
    "            sp.call(f'/home/dasom/abin/3dmerge -quiet -1blur_fwhm {FWHM} -doall -prefix {SM_SC_fname} {SC_fname}',  shell=True) # Spatial Smoothing"
   ]
  }
 ],
 "metadata": {
  "kernelspec": {
   "display_name": "Python 3 (ipykernel)",
   "language": "python",
   "name": "python3"
  },
  "language_info": {
   "codemirror_mode": {
    "name": "ipython",
    "version": 3
   },
   "file_extension": ".py",
   "mimetype": "text/x-python",
   "name": "python",
   "nbconvert_exporter": "python",
   "pygments_lexer": "ipython3",
   "version": "3.8.10"
  }
 },
 "nbformat": 4,
 "nbformat_minor": 4
}
