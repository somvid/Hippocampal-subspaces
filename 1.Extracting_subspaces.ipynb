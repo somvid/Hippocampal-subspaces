{
 "cells": [
  {
   "cell_type": "markdown",
   "id": "29f63235",
   "metadata": {},
   "source": [
    "## Import"
   ]
  },
  {
   "cell_type": "code",
   "execution_count": 44,
   "id": "04703d19-5a52-4957-a81d-7ebf3ac0d027",
   "metadata": {
    "collapsed": true,
    "jupyter": {
     "outputs_hidden": true
    }
   },
   "outputs": [],
   "source": [
    "from ipywidgets import *\n",
    "from scipy.stats import pearsonr, ttest_rel\n",
    "from sklearn.metrics import jaccard_score\n",
    "from sklearn.decomposition import PCA\n",
    "import numpy as np\n",
    "import nibabel as nib\n",
    "import matplotlib as mpl\n",
    "import matplotlib.pyplot as plt\n",
    "import warnings\n",
    "import pickle\n",
    "from scipy.ndimage import gaussian_filter1d\n",
    "warnings.filterwarnings(action='ignore')\n",
    "\n",
    "np.set_printoptions(suppress=True)\n",
    "\n",
    "mpl.rcParams['axes.linewidth'] = 2\n",
    "mpl.rcParams['xtick.major.width'] = 2\n",
    "mpl.rcParams['ytick.major.width'] = 2\n",
    "mpl.rcParams['xtick.major.size'] = 5\n",
    "mpl.rcParams['ytick.major.size'] = 5\n",
    "mpl.rcParams['axes.spines.top'] = True\n",
    "mpl.rcParams['axes.spines.right'] = True\n",
    "mpl.rcParams['axes.spines.bottom'] = True\n",
    "mpl.rcParams['axes.spines.left'] = True\n",
    "\n",
    "def cos_sim(A, B):\n",
    "    return np.dot(A, B)/(np.linalg.norm(A)*np.linalg.norm(B))"
   ]
  },
  {
   "cell_type": "code",
   "execution_count": 16,
   "id": "8aa45ed3-95ac-40a6-9bdf-f5ed21d5221a",
   "metadata": {},
   "outputs": [],
   "source": [
    "movie_event_idx = np.load('/home/dasom/State_dynamics/results/exclude_short_movie.npy')\n",
    "\n",
    "overlap_start = np.load('/home/dasom/State_dynamics/results/movie_event_start_idx.npy')\n",
    "overlap_end = np.load('/home/dasom/State_dynamics/results/movie_event_boundary_idx.npy') # event boundary\n",
    "\n",
    "event_start_tot = np.load('/home/dasom/State_dynamics/results/Recall_event_onset.npy', allow_pickle=True) # recall start\n",
    "event_end_tot = np.load('/home/dasom/State_dynamics/results/Recall_event_offset.npy', allow_pickle=True) # recall end\n",
    "event_idx = np.load('/home/dasom/State_dynamics/results/Recall_event_idx.npy', allow_pickle=True) # recalled event index of each participant\n",
    "\n",
    "rest_tr_ep1 = np.load('/home/dasom/State_dynamics/results/rest_tr_ep1.npy')\n",
    "rest_tr_ep2 = np.load('/home/dasom/State_dynamics/results/rest_tr_ep2.npy')\n",
    "rest_tr_ep3 = np.load('/home/dasom/State_dynamics/results/rest_tr_ep3.npy')\n",
    "\n",
    "rest_total = rest_tr_ep1.shape[0] + rest_tr_ep2.shape[0] + rest_tr_ep3.shape[0]\n",
    "rest_tr = np.hstack([rest_tr_ep1, rest_tr_ep2+996, rest_tr_ep3+996+958])"
   ]
  },
  {
   "cell_type": "markdown",
   "id": "11fcd909-0791-4ae5-a126-841ac4aeea74",
   "metadata": {},
   "source": [
    "## Novelty and Memorability measurements"
   ]
  },
  {
   "cell_type": "markdown",
   "id": "fd9d5848",
   "metadata": {},
   "source": [
    "#### Memorability"
   ]
  },
  {
   "cell_type": "code",
   "execution_count": 25,
   "id": "4f158432",
   "metadata": {},
   "outputs": [],
   "source": [
    "Memorability_score_total = np.load('/home/dasom/State_dynamics/results/Memorability_score_total.npy')\n",
    "Memorability_score = np.load('/home/dasom/State_dynamics/results/Memorability_score.npy')\n",
    "Memorability_score_numbers = Memorability_score.copy()\n",
    "Memorability_score_numbers[Memorability_score_numbers > 0] = 1\n",
    "memorability = np.mean(Memorability_score, axis=0)\n",
    "\n",
    "recall_sim = np.zeros((24,24))\n",
    "for s1 in range(24):\n",
    "    for s2 in range(24):\n",
    "        recall_sim[s1,s2] = jaccard_score(Memorability_score_numbers[s1],Memorability_score_numbers[s2])"
   ]
  },
  {
   "cell_type": "code",
   "execution_count": 55,
   "id": "ccf5ef4a",
   "metadata": {},
   "outputs": [
    {
     "name": "stdout",
     "output_type": "stream",
     "text": [
      "Mean ratio of recalled events (total):  0.7606589147286822\n"
     ]
    }
   ],
   "source": [
    "print('Mean ratio of recalled events (total): ', np.mean(Memorability_score > 0))"
   ]
  },
  {
   "cell_type": "code",
   "execution_count": 54,
   "id": "5aae8830",
   "metadata": {},
   "outputs": [
    {
     "name": "stdout",
     "output_type": "stream",
     "text": [
      "Mean memorability score:  0.22771888346898392\n",
      "SD memorability score:  0.08406357643419936\n"
     ]
    }
   ],
   "source": [
    "print('Mean memorability score: ', np.mean(Memorability_score))\n",
    "print('SD memorability score: ', np.std(np.mean(Memorability_score, axis=0)))"
   ]
  },
  {
   "cell_type": "code",
   "execution_count": 49,
   "id": "1c38b808",
   "metadata": {},
   "outputs": [
    {
     "name": "stdout",
     "output_type": "stream",
     "text": [
      "Mean Jaccard score:  0.7153542804467719\n"
     ]
    }
   ],
   "source": [
    "print('Mean Jaccard score: ', np.mean(recall_sim[np.triu_indices(24,1)]))"
   ]
  },
  {
   "cell_type": "code",
   "execution_count": 56,
   "id": "dbedf9da",
   "metadata": {},
   "outputs": [
    {
     "data": {
      "text/plain": [
       "([], [])"
      ]
     },
     "execution_count": 56,
     "metadata": {},
     "output_type": "execute_result"
    },
    {
     "data": {
      "image/png": "[encoded data removed]",
      "text/plain": [
       "<Figure size 432x216 with 1 Axes>"
      ]
     },
     "metadata": {},
     "output_type": "display_data"
    }
   ],
   "source": [
    "## Supp Fig.1A, 1B\n",
    "plt.figure(figsize = [6,3])\n",
    "plt.imshow(Memorability_score, cmap = 'inferno', vmin = 0, vmax = 0.6) # Memorability_score_numbers\n",
    "plt.xticks([])\n",
    "plt.yticks([])\n",
    "# plt.savefig('/home/dasom/Dropbox/ubuntu-window/미팅자료/Neural_dynamics/Memory_novelty_cooccur_valence/Recall_performance.png', dpi=300, bbox_inches = \"tight\")"
   ]
  },
  {
   "cell_type": "markdown",
   "id": "648b9f22",
   "metadata": {},
   "source": [
    "#### Novelty"
   ]
  },
  {
   "cell_type": "code",
   "execution_count": 5,
   "id": "6152275d",
   "metadata": {},
   "outputs": [],
   "source": [
    "cooccur_sim = np.load('/home/dasom/State_dynamics/results/cooccur_similarity.npy')\n",
    "\n",
    "nove_cooccur_1 = np.where(cooccur_sim >= np.percentile(cooccur_sim,200/3))[0]\n",
    "nove_cooccur_2 = np.where((cooccur_sim >= np.percentile(cooccur_sim,100/3)) & (cooccur_sim < np.percentile(cooccur_sim,200/3)))[0]\n",
    "nove_cooccur_3 = np.where(cooccur_sim < np.percentile(cooccur_sim,100/3))[0]\n",
    "\n",
    "valence_sim = np.load('/home/dasom/State_dynamics/results/valence_similarity.npy')\n",
    "\n",
    "nove_valence_1 = np.where(valence_sim >= np.percentile(valence_sim,200/3))[0]\n",
    "nove_valence_2 = np.where((valence_sim >= np.percentile(valence_sim,100/3)) & (valence_sim < np.percentile(valence_sim,200/3)))[0]\n",
    "nove_valence_3 = np.where(valence_sim < np.percentile(valence_sim,100/3))[0]"
   ]
  },
  {
   "cell_type": "markdown",
   "id": "ee851a64",
   "metadata": {},
   "source": [
    "#### Relationship betwee time and novelties (Supp Fig. 1C)"
   ]
  },
  {
   "cell_type": "code",
   "execution_count": 258,
   "id": "6c3c87fc",
   "metadata": {},
   "outputs": [
    {
     "name": "stdout",
     "output_type": "stream",
     "text": [
      "PearsonRResult(statistic=0.04896992415317076, pvalue=0.7551605813134374)\n"
     ]
    },
    {
     "data": {
      "image/png": "[encoded data removed]",
      "text/plain": [
       "<Figure size 360x360 with 1 Axes>"
      ]
     },
     "metadata": {
      "needs_background": "light"
     },
     "output_type": "display_data"
    }
   ],
   "source": [
    "plt.figure(figsize = [5,5])\n",
    "x = np.arange(43)\n",
    "y = 1-cooccur_sim\n",
    "plt.scatter(x, y, s = 50, color = 'red', edgecolor = 'k')\n",
    "a, b = np.polyfit(x, y, deg=1)\n",
    "y_est = a * x + b\n",
    "plt.plot(x, y_est, '-', color = 'black', linewidth = 3)\n",
    "print(pearsonr(x, y))\n",
    "# plt.savefig('/home/dasom/Dropbox/ubuntu-window/미팅자료/Neural_dynamics/Memory_novelty_cooccur_valence/Valence_time.png', dpi=300, bbox_inches = \"tight\")"
   ]
  },
  {
   "cell_type": "markdown",
   "id": "bdf8209f",
   "metadata": {},
   "source": [
    "#### Relationship between novelties (Fig. 2D)"
   ]
  },
  {
   "cell_type": "code",
   "execution_count": 256,
   "id": "3e5b9b7a",
   "metadata": {},
   "outputs": [
    {
     "name": "stdout",
     "output_type": "stream",
     "text": [
      "PearsonRResult(statistic=0.17467634649819092, pvalue=0.26257888657253536)\n"
     ]
    },
    {
     "data": {
      "image/png": "[encoded data removed]",
      "text/plain": [
       "<Figure size 360x360 with 1 Axes>"
      ]
     },
     "metadata": {
      "needs_background": "light"
     },
     "output_type": "display_data"
    }
   ],
   "source": [
    "x = 1-cooccur_sim\n",
    "y = 1-valence_sim\n",
    "a, b = np.polyfit(x, y, deg=1)\n",
    "y_est = a * x + b\n",
    "y_err = x.std() * np.sqrt(1/len(x) + x**2 / np.sum(x**2))\n",
    "\n",
    "fig, ax = plt.subplots(figsize = [5,5])\n",
    "ax.plot(x, y_est, '-', color = 'black', linewidth = 3)\n",
    "# ax.fill_between(x, y_est - y_err, y_est + y_err, alpha=0.2, color = 'grey')\n",
    "ax.scatter(x, y, s = 50, color='red', edgecolor = 'black')\n",
    "\n",
    "plt.xlim([-0.1,1.3])\n",
    "plt.ylim([-0.2,2.2])\n",
    "plt.xticks([0,0.6,1.2])\n",
    "plt.yticks([0,1,2])\n",
    "print(pearsonr(x, y))\n",
    "# plt.savefig('/home/dasom/Dropbox/ubuntu-window/미팅자료/Neural_dynamics/Memory_novelty_cooccur_valence/Relationship_btw_cooccur_valence2.png', dpi=300, bbox_inches = \"tight\")"
   ]
  },
  {
   "cell_type": "markdown",
   "metadata": {},
   "source": [
    "#### Relationship between novelty and memorability (Fig. 2F)"
   ]
  },
  {
   "cell_type": "code",
   "execution_count": 259,
   "metadata": {},
   "outputs": [
    {
     "data": {
      "image/png": "[encoded data removed]",
      "text/plain": [
       "<Figure size 720x360 with 2 Axes>"
      ]
     },
     "metadata": {
      "needs_background": "light"
     },
     "output_type": "display_data"
    }
   ],
   "source": [
    "np.random.seed(2023)\n",
    "fig = plt.figure(figsize = [10,5])\n",
    "axs = fig.add_subplot(1,2,1)\n",
    "subj_memory = np.array([np.mean(Memorability_score[:,i], axis=1) for i in [nove_cooccur_1, nove_cooccur_2, nove_cooccur_3]])\n",
    "violin_parts = axs.violinplot(subj_memory.T, np.arange(3), showmeans=False, showmedians=False, showextrema=False, widths = 0.5)\n",
    "for vp in violin_parts['bodies']:\n",
    "    vp.set_facecolor('#FF0000')  # aa0000 FF00FF 00FFFF\n",
    "    vp.set_edgecolor('#000000')\n",
    "    vp.set_alpha(0.5)\n",
    "\n",
    "for c in range(3):\n",
    "    plt.scatter(np.random.normal(loc = c, scale = 0.02, size = 24), subj_memory[c], color = 'grey')\n",
    "    plt.hlines(np.mean(subj_memory[c]), c-0.1, c+0.1, zorder = 1, color = 'k')\n",
    "\n",
    "axs.set_xticks([0,1,2])\n",
    "axs.set_yticks([0,0.1,0.2,0.3,0.4,0.5])\n",
    "axs.set_yticklabels([0,0.1,0.2,0.3,0.4,0.5])\n",
    "axs.set_xlim([-0.5,2.5])\n",
    "axs.set_ylim([0, 0.5])\n",
    "\n",
    "axs = fig.add_subplot(1,2,2)\n",
    "subj_memory = np.array([np.mean(Memorability_score[:,i], axis=1) for i in [nove_valence_1, nove_valence_2, nove_valence_3]])\n",
    "violin_parts = axs.violinplot(subj_memory.T, np.arange(3), showmeans=False, showmedians=False, showextrema=False, widths = 0.5)\n",
    "for vp in violin_parts['bodies']:\n",
    "    vp.set_facecolor('#9C27B0')  # aa0000 FF00FF 00FFFF\n",
    "    vp.set_edgecolor('#000000')\n",
    "    vp.set_alpha(0.5)\n",
    "\n",
    "for c in range(3):\n",
    "    plt.scatter(np.random.normal(loc = c, scale = 0.02, size = 24), subj_memory[c], color = 'grey')\n",
    "    plt.hlines(np.mean(subj_memory[c]), c-0.1, c+0.1, zorder = 1, color = 'k')\n",
    "\n",
    "axs.set_xticks([0,1,2])\n",
    "axs.set_yticks([0,0.1,0.2,0.3,0.4,0.5])\n",
    "axs.set_yticklabels([0,0.1,0.2,0.3,0.4,0.5])\n",
    "axs.set_xlim([-0.5,2.5])\n",
    "axs.set_ylim([0, 0.5])\n",
    "fig.tight_layout()\n",
    "# fig.savefig('/home/dasom/Dropbox/ubuntu-window/미팅자료/Neural_dynamics/Memory_novelty_cooccur_valence/Relationship_btw_novelty_memory.png', dpi=300, bbox_inches = \"tight\")"
   ]
  },
  {
   "cell_type": "code",
   "execution_count": 57,
   "metadata": {},
   "outputs": [
    {
     "name": "stdout",
     "output_type": "stream",
     "text": [
      "Ttest_relResult(statistic=2.1795486707118896, pvalue=0.03978463654769748)\n",
      "Ttest_relResult(statistic=2.2644236766967767, pvalue=0.033284260908745304)\n"
     ]
    }
   ],
   "source": [
    "score_mean_cooccur = np.array([np.mean(Memorability_score[:,i], axis=1) for i in [nove_cooccur_1, nove_cooccur_3]])\n",
    "score_mean_valence = np.array([np.mean(Memorability_score[:,i], axis=1) for i in [nove_valence_1, nove_valence_3]])\n",
    "\n",
    "print(ttest_rel(score_mean_cooccur[0], score_mean_cooccur[1]))\n",
    "print(ttest_rel(score_mean_valence[0], score_mean_valence[1]))"
   ]
  },
  {
   "cell_type": "markdown",
   "id": "4df5ec23-0904-4b5f-884c-ac8f840161e0",
   "metadata": {},
   "source": [
    "## Brain data"
   ]
  },
  {
   "cell_type": "code",
   "execution_count": 8,
   "id": "ab16d14d-04ff-4613-80a4-b4ff806294b7",
   "metadata": {},
   "outputs": [],
   "source": [
    "with open('/media/dasom/caee0336-77a9-438c-af2f-7cf5b88293e7/dasom/SM_DATA/social_movie1/results/fMRI_data/movie_data_ex2_sc_sm.pickle', 'rb') as f:\n",
    "    movie_data = pickle.load(f)\n",
    "    \n",
    "with open('/media/dasom/caee0336-77a9-438c-af2f-7cf5b88293e7/dasom/SM_DATA/social_movie1/results/fMRI_data/recall_data_ex2_sc_sm.pickle', 'rb') as f:\n",
    "    recall_data_concat = pickle.load(f)\n",
    "\n",
    "brain_mask = nib.load(f'/home/dasom/SM_DATA/mri_data/mask_files/MNI152NLin2009cAsym_3mm_mask.nii.gz').get_fdata()\n",
    "mask = nib.load('/home/dasom/SM_DATA/mri_data/mask_files/BNA_3mm_atlas.nii.gz').get_fdata()"
   ]
  },
  {
   "cell_type": "code",
   "execution_count": 261,
   "id": "4a40195f",
   "metadata": {},
   "outputs": [],
   "source": [
    "# movie viewing\n",
    "window_length = 21\n",
    "\n",
    "roi_mask1 = np.hstack([np.where(mask[brain_mask > 0] == r)[0] for r in [215,216,217,218]]) # HIPP\n",
    "roi_mask2 = np.hstack([np.where(mask[brain_mask > 0] == r)[0] for r in [111,112,119,120]]) # PHC\n",
    "roi_mask3 = np.hstack([np.where(mask[brain_mask > 0] == r)[0] for r in [115,116]]) # EC\n",
    "roi_mask4 = np.hstack([np.where(mask[brain_mask > 0] == r)[0] for r in [117,118]]) # PRC\n",
    "roi_mask5 = np.hstack([np.where(mask[brain_mask > 0] == r)[0] for r in [75,76,79,80]]) # STG\n",
    "roi_mask6 = np.hstack([np.where(mask[brain_mask > 0] == r)[0] for r in [87,88,121,122]]) # STS\n",
    "roi_mask7 = np.hstack([np.where(mask[brain_mask > 0] == r)[0] for r in [143,144]]) # TPJ\n",
    "roi_mask8 = np.hstack([np.where(mask[brain_mask > 0] == r)[0] for r in [153,154,175,176]]) # PMC\n",
    "roi_mask9 = np.hstack([np.where(mask[brain_mask > 0] == r)[0] for r in [13,14]]) # DMPFC\n",
    "roi_mask10 = np.hstack([np.where(mask[brain_mask > 0] == r)[0] for r in [41,42]]) # VMPFC\n",
    "roi_mask11 = np.hstack([np.where(mask[brain_mask > 0] == r)[0] for r in [189,190,191,192,193,194]]) # VC\n",
    "roi_mask12 = np.hstack([np.where(mask[brain_mask > 0] == r)[0] for r in [71,72]]) # AC\n",
    "roi_mask13 = np.hstack([np.where(mask[brain_mask > 0] == r)[0] for r in [179,187,188]]) # ACC\n",
    "\n",
    "patterns = []\n",
    "# for rm in [roi_mask1,roi_mask2,roi_mask3,roi_mask4,roi_mask5,roi_mask6,roi_mask7,roi_mask8,roi_mask9,roi_mask10,roi_mask11,roi_mask12,roi_mask13]:\n",
    "for rm in [roi_mask1]:\n",
    "    pattern = []\n",
    "    for s in range(movie_data.shape[0]):\n",
    "        movie_data_sub = movie_data[s, rm]\n",
    "        # movie_data_sub = gaussian_filter1d(movie_data[s, rm], sigma = 3, axis = -1) # For visualization\n",
    "        ev_pattern = []\n",
    "        for ev in overlap_end[movie_event_idx[1:]]:\n",
    "            ev_pattern.append(movie_data_sub[:,ev-6:ev+15])\n",
    "        pattern.append(ev_pattern)\n",
    "    patterns.append(np.array(pattern))"
   ]
  },
  {
   "cell_type": "code",
   "execution_count": null,
   "id": "2c8bbb3b",
   "metadata": {},
   "outputs": [],
   "source": [
    "# narrative recall\n",
    "window_length = 21 # 18 for end\n",
    "roi_mask1 = np.hstack([np.where(mask[brain_mask > 0] == r)[0] for r in [215,216,217,218]]) # HIPP\n",
    "\n",
    "patterns_recall = []\n",
    "for rm in [roi_mask1]:\n",
    "    pattern = []\n",
    "    for s in range(len(recall_data_concat)):\n",
    "        recall_data_sub = recall_data_concat[s][rm]\n",
    "        ev_pattern = []\n",
    "        for ev in event_start_tot[s]:\n",
    "            ev_pattern.append(recall_data_sub[:,ev-6:ev+15])\n",
    "        pattern.append(np.array(ev_pattern))\n",
    "    patterns_recall.append(pattern)\n",
    "    # patterns.append(gaussian_filter1d(pattern, sigma = 3, axis = -1, mode = 'nearest')) # For visualization"
   ]
  },
  {
   "cell_type": "markdown",
   "id": "736b2dc6",
   "metadata": {},
   "source": [
    "#### Canonical space"
   ]
  },
  {
   "cell_type": "code",
   "execution_count": 20,
   "id": "09c916a4",
   "metadata": {},
   "outputs": [
    {
     "name": "stdout",
     "output_type": "stream",
     "text": [
      "[0.07025423 0.0291544  0.02096409 0.02027759 0.018777   0.01749794\n",
      " 0.01673815 0.01593772 0.0151947  0.01440846 0.01406822 0.01361847\n",
      " 0.01311901 0.01236906 0.0119873  0.0118558  0.0117423  0.01087593\n",
      " 0.01067101 0.01057868]\n"
     ]
    }
   ],
   "source": [
    "roi_mask1 = np.hstack([np.where(mask[brain_mask > 0] == r)[0] for r in [215,216,217,218]]) # hippocampus\n",
    "pca_canonical = PCA(n_components=20)\n",
    "data = np.hstack([np.hstack([movie_data[s,roi_mask1][:,rest_tr],recall_data_concat[s][roi_mask1]]) for s in range(24)]) # concatenate movie and recall neural data\n",
    "data_hipp_canonical = pca_canonical.fit(data.T)\n",
    "np.save('/media/dasom/caee0336-77a9-438c-af2f-7cf5b88293e7/dasom/Neural_subspace/results/hipp_canonical_component.npy', data_hipp_canonical.components_)\n",
    "\n",
    "print(data_hipp_canonical.explained_variance_ratio_)"
   ]
  },
  {
   "cell_type": "markdown",
   "metadata": {},
   "source": [
    "## Extracting subspaces"
   ]
  },
  {
   "cell_type": "markdown",
   "id": "4f58e99e",
   "metadata": {},
   "source": [
    "### Linear regression"
   ]
  },
  {
   "cell_type": "markdown",
   "id": "30856d9d",
   "metadata": {},
   "source": [
    "#### Novelty & Memory"
   ]
  },
  {
   "cell_type": "code",
   "execution_count": 153,
   "id": "b7515638",
   "metadata": {},
   "outputs": [
    {
     "name": "stdout",
     "output_type": "stream",
     "text": [
      "novelty beta matrix\n"
     ]
    }
   ],
   "source": [
    "which_cognition = 'novelty' # novelty / memory\n",
    "\n",
    "np.random.seed(2023)\n",
    "\n",
    "repetition = 1000\n",
    "beta_true = []\n",
    "beta_perm = []\n",
    "for data_pattern in patterns:\n",
    "    beta_tot_true = []\n",
    "    beta_tot_perm = []\n",
    "    for repeat in range(repetition + 1):\n",
    "        if repeat == 0:\n",
    "            if which_cognition == 'novelty':\n",
    "                conds = np.array([np.intersect1d(nove_cooccur_1, nove_valence_1), np.intersect1d(nove_cooccur_1, nove_valence_2), np.intersect1d(nove_cooccur_1, nove_valence_3),\n",
    "                                  np.intersect1d(nove_cooccur_2, nove_valence_1), np.intersect1d(nove_cooccur_2, nove_valence_2), np.intersect1d(nove_cooccur_2, nove_valence_3),\n",
    "                                  np.intersect1d(nove_cooccur_3, nove_valence_1), np.intersect1d(nove_cooccur_3, nove_valence_2), np.intersect1d(nove_cooccur_3, nove_valence_3)])\n",
    "            elif which_cognition == 'memory':\n",
    "                conds = np.array_split(np.argsort(-memorability), 9) # from low to high\n",
    "            \n",
    "            conds_regressor = []\n",
    "            for cd in conds:\n",
    "                cr = np.zeros(43)\n",
    "                cr[cd] = 1\n",
    "                conds_regressor.append(cr)\n",
    "\n",
    "            FIR_tot = []\n",
    "            for s in range(movie_data.shape[0]):\n",
    "                F = np.array([conds_regressor[cr] for cr in range(len(conds_regressor))])\n",
    "                beta = []\n",
    "                for t in range(window_length):\n",
    "                    beta.append(np.dot(np.dot(np.linalg.inv(np.dot(F, F.T)), F), data_pattern[s][:,:,t]))\n",
    "                FIR_tot.append(beta)\n",
    "            FIR_tot = np.array(FIR_tot)\n",
    "\n",
    "            for s in range(movie_data.shape[0]):\n",
    "                if which_cognition == 'novelty':\n",
    "                    F = np.array([[-1,-1,-1,0,0,0,1,1,1],\n",
    "                                  [-1,0,1,-1,0,1,-1,0,1],\n",
    "                                  [1,1,1,1,1,1,1,1,1]]) \n",
    "                elif which_cognition == 'memory':   \n",
    "                    F = np.array([[np.mean(memorability[ev]) - np.mean(memorability) for ev in conds],\n",
    "                                  [1,1,1,1,1,1,1,1,1]])             \n",
    "                beta = []\n",
    "                for t in range(window_length):\n",
    "                    beta.append(np.dot(np.dot(np.linalg.inv(np.dot(F, F.T)), F), FIR_tot[s][t]))\n",
    "                beta_tot_true.append(beta)    \n",
    "\n",
    "        else:\n",
    "            conds_regressor = []\n",
    "            for cd in conds:\n",
    "                cr = np.zeros(43)\n",
    "                cr[cd] = 1\n",
    "                conds_regressor.append(cr)\n",
    "\n",
    "            FIR_tot = []\n",
    "            for s in range(movie_data.shape[0]):\n",
    "                F = np.array([conds_regressor[cr] for cr in range(len(conds_regressor))])\n",
    "                beta = []\n",
    "                for t in range(window_length):\n",
    "                    beta.append(np.dot(np.dot(np.linalg.inv(np.dot(F, F.T)), F), data_pattern[s][:,:,t]))\n",
    "                FIR_tot.append(beta)\n",
    "            FIR_tot = np.array(FIR_tot)\n",
    "\n",
    "            betas = []\n",
    "            for s in range(movie_data.shape[0]):\n",
    "                if which_cognition == 'novelty':\n",
    "                    F = np.array([[-1,-1,-1,0,0,0,1,1,1],\n",
    "                                  [-1,0,1,-1,0,1,-1,0,1],\n",
    "                                  [1,1,1,1,1,1,1,1,1]]) \n",
    "                elif which_cognition == 'memory':\n",
    "                    F = np.array([[np.mean(memorability[ev]) - np.mean(memorability) for ev in conds],\n",
    "                                  [1,1,1,1,1,1,1,1,1]])                          \n",
    "                np.random.shuffle(F.T)\n",
    "                beta = []\n",
    "                for t in range(window_length):\n",
    "                    beta.append(np.dot(np.dot(np.linalg.inv(np.dot(F, F.T)), F), FIR_tot[s][t]))\n",
    "                betas.append(beta)\n",
    "            beta_tot_perm.append(betas)\n",
    "    beta_true.append(np.array(beta_tot_true))\n",
    "    beta_perm.append(np.array(beta_tot_perm))\n",
    "\n",
    "if which_cognition == 'novelty':\n",
    "    beta_true_novelty = beta_true\n",
    "    beta_perm_novelty = beta_perm\n",
    "    print('novelty beta matrix')\n",
    "    \n",
    "elif which_cognition == 'memory':\n",
    "    beta_true_memory = beta_true\n",
    "    beta_perm_memory = beta_perm\n",
    "    print('memory beta matrix')"
   ]
  },
  {
   "cell_type": "markdown",
   "metadata": {},
   "source": [
    "#### Retrieval"
   ]
  },
  {
   "cell_type": "code",
   "execution_count": 216,
   "id": "ba71d35a",
   "metadata": {},
   "outputs": [],
   "source": [
    "np.random.seed(2023)\n",
    "\n",
    "repetition = 100\n",
    "beta_true_recall = []\n",
    "beta_perm_recall = []\n",
    "for data_pattern in patterns_recall:\n",
    "    beta_tot_true = []\n",
    "    beta_tot_perm = []\n",
    "    for repeat in range(repetition + 1):\n",
    "        if repeat == 0:\n",
    "            for s in range(movie_data.shape[0]):\n",
    "\n",
    "                score_sub = Memorability_score_total[s][event_idx[s]]\n",
    "                recall_task6 = np.where(score_sub >= np.percentile(score_sub, 500/6))[0]\n",
    "                recall_task5 = np.where((score_sub >= np.percentile(score_sub, 400/6)) & (score_sub < np.percentile(score_sub, 500/6)))[0]\n",
    "                recall_task4 = np.where((score_sub >= np.percentile(score_sub, 300/6)) & (score_sub < np.percentile(score_sub, 400/6)))[0]\n",
    "                recall_task3 = np.where((score_sub >= np.percentile(score_sub, 200/6)) & (score_sub < np.percentile(score_sub, 300/6)))[0]\n",
    "                recall_task2 = np.where((score_sub >= np.percentile(score_sub, 100/6)) & (score_sub < np.percentile(score_sub, 200/6)))[0]\n",
    "                recall_task1 = np.where(score_sub < np.percentile(score_sub, 100/6))[0]\n",
    "\n",
    "                conds = np.array([recall_task6, recall_task5, recall_task4, recall_task3, recall_task2, recall_task1])\n",
    "                \n",
    "                conds_regressor = []\n",
    "                for cd in conds:\n",
    "                    cr = np.zeros(len(score_sub))\n",
    "                    cr[cd] = 1\n",
    "                    conds_regressor.append(cr)\n",
    "                    \n",
    "                F = np.array([conds_regressor[cr] for cr in range(len(conds_regressor))])\n",
    "                FIR_tot = []\n",
    "                for t in range(window_length):\n",
    "                    FIR_tot.append(np.dot(np.dot(np.linalg.inv(np.dot(F, F.T)), F), data_pattern[s][:,:,t]))\n",
    "                FIR_tot = np.array(FIR_tot)\n",
    "\n",
    "                F = np.array([[np.mean(score_sub[ev]) - np.mean(score_sub) for ev in conds],\n",
    "                              [1,1,1,1,1,1]])                \n",
    "                beta = []\n",
    "                for t in range(window_length):\n",
    "                    beta.append(np.dot(np.dot(np.linalg.inv(np.dot(F, F.T)), F), FIR_tot[t]))\n",
    "                beta_tot_true.append(beta)    \n",
    "\n",
    "        else:\n",
    "            betas = []\n",
    "            for s in range(movie_data.shape[0]):\n",
    "                \n",
    "                score_sub = Memorability_score_total[s][event_idx[s]]\n",
    "                recall_task6 = np.where(score_sub >= np.percentile(score_sub, 500/6))[0]\n",
    "                recall_task5 = np.where((score_sub >= np.percentile(score_sub, 400/6)) & (score_sub < np.percentile(score_sub, 500/6)))[0]\n",
    "                recall_task4 = np.where((score_sub >= np.percentile(score_sub, 300/6)) & (score_sub < np.percentile(score_sub, 400/6)))[0]\n",
    "                recall_task3 = np.where((score_sub >= np.percentile(score_sub, 200/6)) & (score_sub < np.percentile(score_sub, 300/6)))[0]\n",
    "                recall_task2 = np.where((score_sub >= np.percentile(score_sub, 100/6)) & (score_sub < np.percentile(score_sub, 200/6)))[0]\n",
    "                recall_task1 = np.where(score_sub < np.percentile(score_sub, 100/6))[0]\n",
    "\n",
    "                conds = np.array([recall_task6, recall_task5, recall_task4, recall_task3, recall_task2, recall_task1])\n",
    "                \n",
    "                conds_regressor = []\n",
    "                for cd in conds:\n",
    "                    cr = np.zeros(len(score_sub))\n",
    "                    cr[cd] = 1\n",
    "                    conds_regressor.append(cr)\n",
    "\n",
    "                F = np.array([conds_regressor[cr] for cr in range(len(conds_regressor))])\n",
    "                FIR_tot = []\n",
    "                for t in range(window_length):\n",
    "                    FIR_tot.append(np.dot(np.dot(np.linalg.inv(np.dot(F, F.T)), F), data_pattern[s][:,:,t]))\n",
    "                FIR_tot = np.array(FIR_tot)\n",
    "                \n",
    "                F = np.array([[np.mean(score_sub[ev]) - np.mean(score_sub) for ev in conds],\n",
    "                              [1,1,1,1,1,1]])           \n",
    "                np.random.shuffle(F.T)\n",
    "                beta = []\n",
    "                for t in range(window_length):\n",
    "                    beta.append(np.dot(np.dot(np.linalg.inv(np.dot(F, F.T)), F), FIR_tot[t]))\n",
    "                betas.append(beta)\n",
    "            beta_tot_perm.append(betas)\n",
    "    beta_true_recall.append(np.array(beta_tot_true))\n",
    "    beta_perm_recall.append(np.array(beta_tot_perm))"
   ]
  },
  {
   "cell_type": "markdown",
   "id": "97d7cc6a",
   "metadata": {},
   "source": [
    "### PCA"
   ]
  },
  {
   "cell_type": "markdown",
   "id": "1696e26e",
   "metadata": {},
   "source": [
    "#### projection"
   ]
  },
  {
   "cell_type": "code",
   "execution_count": 262,
   "id": "cdd6bd66",
   "metadata": {},
   "outputs": [],
   "source": [
    "# novelty\n",
    "F = []\n",
    "conds = np.array([np.intersect1d(nove_cooccur_1, nove_valence_1), np.intersect1d(nove_cooccur_1, nove_valence_2), np.intersect1d(nove_cooccur_1, nove_valence_3),\n",
    "                  np.intersect1d(nove_cooccur_2, nove_valence_1), np.intersect1d(nove_cooccur_2, nove_valence_2), np.intersect1d(nove_cooccur_2, nove_valence_3),\n",
    "                  np.intersect1d(nove_cooccur_3, nove_valence_1), np.intersect1d(nove_cooccur_3, nove_valence_2), np.intersect1d(nove_cooccur_3, nove_valence_3)])\n",
    "for ev in conds:\n",
    "    a = np.zeros(43)\n",
    "    a[ev] = 1 \n",
    "    F.append(a)\n",
    "F = np.array(F)\n",
    "\n",
    "FIR_tot_novelty_ev = []\n",
    "for data_pattern in patterns:\n",
    "    FIR_ev = []\n",
    "    for s in range(movie_data.shape[0]):\n",
    "        beta = []\n",
    "        for t in range(window_length):\n",
    "            beta.append(np.dot(np.dot(np.linalg.inv(np.dot(F, F.T)), F), data_pattern[s][:,:,t]))\n",
    "        FIR_ev.append(beta)\n",
    "    FIR_tot_novelty_ev.append(np.array(FIR_ev))\n",
    "\n",
    "# memorability\n",
    "F = []\n",
    "for ev in np.array_split(np.argsort(-memorability), 9):\n",
    "    a = np.zeros(43)\n",
    "    a[ev] = 1 \n",
    "    F.append(a)\n",
    "F = np.array(F)\n",
    "\n",
    "FIR_tot_memory_ev = []\n",
    "for data_pattern in patterns:\n",
    "    FIR_ev = []\n",
    "    for s in range(movie_data.shape[0]):\n",
    "        beta = []\n",
    "        for t in range(window_length):\n",
    "            beta.append(np.dot(np.dot(np.linalg.inv(np.dot(F, F.T)), F), data_pattern[s][:,:,t]))\n",
    "        FIR_ev.append(beta)\n",
    "    FIR_tot_memory_ev.append(np.array(FIR_ev))\n",
    "\n",
    "# retrieval\n",
    "FIR_tot_recall_ev = []\n",
    "for data_pattern_recall in patterns_recall:\n",
    "    FIR_ev = []\n",
    "    for s in range(24):\n",
    "        F = []\n",
    "        for ev in np.array_split(np.argsort(-Memorability_score_total[s][event_idx[s]]), 9):\n",
    "            a = np.zeros(len(event_idx[s]))\n",
    "            for e in ev:\n",
    "                a[e] = 1\n",
    "            F.append(a)\n",
    "        F = np.array(F)\n",
    "\n",
    "        beta = []\n",
    "        for t in range(window_length):\n",
    "            beta.append(np.dot(np.dot(np.linalg.inv(np.dot(F, F.T)), F), data_pattern_recall[s][:,:,t]))\n",
    "        FIR_ev.append(beta)\n",
    "    FIR_tot_recall_ev.append(np.array(FIR_ev))\n",
    "\n",
    "# np.save('/media/dasom/caee0336-77a9-438c-af2f-7cf5b88293e7/dasom/Neural_subspace/results/FIR_tot_novelty_ev.npy', FIR_tot_novelty_ev)\n",
    "# np.save('/media/dasom/caee0336-77a9-438c-af2f-7cf5b88293e7/dasom/Neural_subspace/results/FIR_tot_memory_ev.npy', FIR_tot_memory_ev)\n",
    "# np.save('/media/dasom/caee0336-77a9-438c-af2f-7cf5b88293e7/dasom/Neural_subspace/results/FIR_tot_recall_start_ev.npy', FIR_tot_recall_ev)"
   ]
  },
  {
   "cell_type": "code",
   "execution_count": 263,
   "id": "7b5f5573",
   "metadata": {},
   "outputs": [],
   "source": [
    "fMRI_data = FIR_tot_novelty_ev # projected neural trajectory // FIR_tot_novelty_ev / FIR_tot_memory_ev / FIR_tot_recall_ev\n",
    "pc_num = [window_length-1]*len(patterns)\n",
    "\n",
    "pc1_evs = []\n",
    "pc2_evs = []\n",
    "p_c1_trues = []\n",
    "p_c2_trues = []\n",
    "p_c1_perms = []\n",
    "p_c2_perms = []\n",
    "\n",
    "for r in range(len(patterns)):\n",
    "\n",
    "    beta_pcas = beta_true_novelty[r] # Beta martix // beta_true_novelty / beta_true_memory / beta_true_recall\n",
    "\n",
    "    pca_c1 = PCA(n_components=pc_num[r])\n",
    "    data = np.mean(beta_pcas, axis=0)[:,0].T\n",
    "    data_c1 = pca_c1.fit(data.T)\n",
    "    pcs_c1 = data_c1.components_\n",
    "    pc1_evs.append(np.cumsum(pca_c1.explained_variance_ratio_))\n",
    "\n",
    "    pca_c2 = PCA(n_components=pc_num[r])\n",
    "    data = np.mean(beta_pcas, axis=0)[:,1].T\n",
    "    data_c2 = pca_c2.fit(data.T)\n",
    "    pcs_c2 = data_c2.components_\n",
    "    pc2_evs.append(np.cumsum(pca_c2.explained_variance_ratio_))\n",
    "\n",
    "    p_c1_true = []\n",
    "    p_c2_true = []\n",
    "    for c in range(fMRI_data[0][0].shape[1]):\n",
    "        p_c1_true.append(np.dot(pcs_c1, np.mean(fMRI_data[r], axis=0)[:,c].T))\n",
    "        p_c2_true.append(np.dot(pcs_c2, np.mean(fMRI_data[r], axis=0)[:,c].T))\n",
    "\n",
    "    p_c1s = []\n",
    "    p_c2s = []\n",
    "    for repeat in range(repetition):\n",
    "        \n",
    "        beta_pcas = beta_perm_novelty[r][repeat] # Beta martix permuted // beta_perm_novelty / beta_perm_memory / beta_perm_recall\n",
    "\n",
    "        pca_c1 = PCA(n_components=pc_num[r])\n",
    "        data = np.mean(beta_pcas, axis=0)[:,0].T\n",
    "        data_c1 = pca_c1.fit(data.T)\n",
    "        pcs_c1 = data_c1.components_\n",
    "\n",
    "        pca_c2 = PCA(n_components=pc_num[r])\n",
    "        data = np.mean(beta_pcas, axis=0)[:,1].T\n",
    "        data_c2 = pca_c2.fit(data.T)\n",
    "        pcs_c2 = data_c2.components_\n",
    "\n",
    "        c1s = []\n",
    "        c2s = []\n",
    "        for c in range(fMRI_data[0][0].shape[1]):\n",
    "            c1s.append(np.dot(pcs_c1, np.mean(fMRI_data[r], axis=0)[:,c].T))\n",
    "            c2s.append(np.dot(pcs_c2, np.mean(fMRI_data[r], axis=0)[:,c].T))\n",
    "        p_c1s.append(c1s)\n",
    "        p_c2s.append(c2s)\n",
    "\n",
    "    p_c1_trues.append(np.array(p_c1_true))\n",
    "    p_c2_trues.append(np.array(p_c2_true))\n",
    "    p_c1_perms.append(np.array(p_c1s))\n",
    "    p_c2_perms.append(np.array(p_c2s))"
   ]
  },
  {
   "cell_type": "code",
   "execution_count": 264,
   "metadata": {},
   "outputs": [],
   "source": [
    "## fMRI_data = FIR_tot_novelty_ev && beta_pcas = beta_true_novelty\n",
    "novelty_co_space_novelty_true = p_c1_trues\n",
    "novelty_val_space_novelty_true = p_c2_trues\n",
    "novelty_co_space_novelty_perm = p_c1_perms\n",
    "novelty_val_space_novelty_perm = p_c2_perms\n",
    "\n",
    "## fMRI_data = FIR_tot_memory_ev && beta_pcas = beta_true_novelty\n",
    "# novelty_co_space_memory_true = p_c1_trues\n",
    "# novelty_val_space_memory_true = p_c2_trues\n",
    "# novelty_co_space_memory_perm = p_c1_perms\n",
    "# novelty_val_space_memory_perm = p_c2_perms\n",
    "\n",
    "## fMRI_data = FIR_tot_memory_ev && beta_pcas = beta_true_memory\n",
    "# memory_space_memory_true = p_c1_trues\n",
    "# memory_space_memory_perm = p_c1_perms\n",
    "\n",
    "## fMRI_data = FIR_tot_novelty_ev && beta_pcas = beta_true_memory\n",
    "# memory_space_novelty_true = p_c1_trues\n",
    "# memory_space_novelty_perm = p_c1_perms\n",
    "\n",
    "## fMRI_data = FIR_tot_recall_ev && beta_pcas = beta_true_recall\n",
    "# recall_start_space_recall_true = p_c1_trues\n",
    "# recall_start_space_recall_perm = p_c1_perms"
   ]
  },
  {
   "cell_type": "markdown",
   "id": "9bb4553b",
   "metadata": {},
   "source": [
    "#### Example neural state and axis (Fig. 4A)"
   ]
  },
  {
   "cell_type": "code",
   "execution_count": 265,
   "id": "cb18d9c0",
   "metadata": {},
   "outputs": [
    {
     "data": {
      "text/plain": [
       "[<matplotlib.lines.Line2D at 0x7f2e209dac10>]"
      ]
     },
     "execution_count": 265,
     "metadata": {},
     "output_type": "execute_result"
    },
    {
     "data": {
      "image/png": "[encoded data removed]",
      "text/plain": [
       "<Figure size 360x360 with 1 Axes>"
      ]
     },
     "metadata": {},
     "output_type": "display_data"
    }
   ],
   "source": [
    "eb = 10\n",
    "tp = +4\n",
    "fig = plt.figure(figsize = [5,5])\n",
    "\n",
    "## co-occurrence novelty\n",
    "which = novelty_co_space_novelty_true\n",
    "plt.scatter(which[0][[0,1,2],0,eb+tp], which[0][[0,1,2],2,eb+tp], marker = 'o', color = 'red', s = 300, edgecolor = 'k')\n",
    "plt.scatter(which[0][[3,4,5],0,eb+tp], which[0][[3,4,5],2,eb+tp], marker = 'o', color = 'grey', s = 300, edgecolor = 'k')\n",
    "plt.scatter(which[0][[6,7,8],0,eb+tp], which[0][[6,7,8],2,eb+tp], marker = 'o', color = 'blue', s = 300, edgecolor = 'k')\n",
    "\n",
    "## valence novelty\n",
    "# which = novelty_val_space_novelty_true\n",
    "# plt.scatter(which[0][[0,3,6],0,eb+tp], which[0][[0,3,6],2,eb+tp], marker = 'o', color = 'magenta', s = 300, edgecolor = 'k')\n",
    "# plt.scatter(which[0][[1,4,7],0,eb+tp], which[0][[1,4,7],2,eb+tp], marker = 'o', color = 'grey', s = 300, edgecolor = 'k')\n",
    "# plt.scatter(which[0][[2,5,8],0,eb+tp], which[0][[2,5,8],2,eb+tp], marker = 'o', color = 'cyan', s = 300, edgecolor = 'k')\n",
    "\n",
    "plt.xticks([])\n",
    "plt.yticks([])\n",
    "plt.plot([which[0][2,0,eb+tp], which[0][6,0,eb+tp]], [which[0][2,2,eb+tp], which[0][6,2,eb+tp]], color = 'k', zorder = 0, linewidth = 2, linestyle = '--')\n",
    "# plt.savefig('/home/dasom/Dropbox/ubuntu-window/미팅자료/Neural_dynamics/Memory_novelty_cooccur_valence/Valence_space_valence_example.png', dpi=300, bbox_inches = \"tight\")"
   ]
  },
  {
   "cell_type": "markdown",
   "id": "2669ee0a",
   "metadata": {},
   "source": [
    "### Save beta martix and PC space with neural trajectory"
   ]
  },
  {
   "cell_type": "code",
   "execution_count": null,
   "id": "f102af0e",
   "metadata": {},
   "outputs": [],
   "source": [
    "np.save('/media/dasom/caee0336-77a9-438c-af2f-7cf5b88293e7/dasom/Neural_subspace/results/beta_true_novelty.npy', beta_true_novelty)\n",
    "np.save('/media/dasom/caee0336-77a9-438c-af2f-7cf5b88293e7/dasom/Neural_subspace/results/beta_perm_novelty.npy', beta_perm_novelty)\n",
    "np.save('/media/dasom/caee0336-77a9-438c-af2f-7cf5b88293e7/dasom/Neural_subspace/results/beta_true_memory.npy', beta_true_memory)\n",
    "np.save('/media/dasom/caee0336-77a9-438c-af2f-7cf5b88293e7/dasom/Neural_subspace/results/beta_perm_memory.npy', beta_perm_memory)\n",
    "np.save('/media/dasom/caee0336-77a9-438c-af2f-7cf5b88293e7/dasom/Neural_subspace/results/beta_true_recall_start.npy', beta_true_recall)\n",
    "np.save('/media/dasom/caee0336-77a9-438c-af2f-7cf5b88293e7/dasom/Neural_subspace/results/beta_perm_recall_start.npy', beta_perm_recall)\n",
    "\n",
    "np.save('/media/dasom/caee0336-77a9-438c-af2f-7cf5b88293e7/dasom/Neural_subspace/results/novelty_co_space_novelty_true.npy', novelty_co_space_novelty_true)\n",
    "np.save('/media/dasom/caee0336-77a9-438c-af2f-7cf5b88293e7/dasom/Neural_subspace/results/novelty_co_space_novelty_perm.npy', novelty_co_space_novelty_perm)\n",
    "np.save('/media/dasom/caee0336-77a9-438c-af2f-7cf5b88293e7/dasom/Neural_subspace/results/novelty_val_space_novelty_true.npy', novelty_val_space_novelty_true)\n",
    "np.save('/media/dasom/caee0336-77a9-438c-af2f-7cf5b88293e7/dasom/Neural_subspace/results/novelty_val_space_novelty_perm.npy', novelty_val_space_novelty_perm)\n",
    "\n",
    "np.save('/media/dasom/caee0336-77a9-438c-af2f-7cf5b88293e7/dasom/Neural_subspace/results/novelty_co_space_memory_true.npy', novelty_co_space_memory_true)\n",
    "np.save('/media/dasom/caee0336-77a9-438c-af2f-7cf5b88293e7/dasom/Neural_subspace/results/novelty_co_space_memory_perm.npy', novelty_co_space_memory_perm)\n",
    "np.save('/media/dasom/caee0336-77a9-438c-af2f-7cf5b88293e7/dasom/Neural_subspace/results/novelty_val_space_memory_true.npy', novelty_val_space_memory_true)\n",
    "np.save('/media/dasom/caee0336-77a9-438c-af2f-7cf5b88293e7/dasom/Neural_subspace/results/novelty_val_space_memory_perm.npy', novelty_val_space_memory_perm)\n",
    "\n",
    "np.save('/media/dasom/caee0336-77a9-438c-af2f-7cf5b88293e7/dasom/Neural_subspace/results/memory_space_memory_true.npy', memory_space_memory_true)\n",
    "np.save('/media/dasom/caee0336-77a9-438c-af2f-7cf5b88293e7/dasom/Neural_subspace/results/memory_space_memory_perm.npy', memory_space_memory_perm)\n",
    "np.save('/media/dasom/caee0336-77a9-438c-af2f-7cf5b88293e7/dasom/Neural_subspace/results/memory_space_novelty_true.npy', memory_space_novelty_true)\n",
    "np.save('/media/dasom/caee0336-77a9-438c-af2f-7cf5b88293e7/dasom/Neural_subspace/results/memory_space_novelty_perm.npy', memory_space_novelty_perm)\n",
    "\n",
    "np.save('/media/dasom/caee0336-77a9-438c-af2f-7cf5b88293e7/dasom/Neural_subspace/results/retrieval_space_retrieval_true.npy', recall_start_space_recall_true)\n",
    "np.save('/media/dasom/caee0336-77a9-438c-af2f-7cf5b88293e7/dasom/Neural_subspace/results/retrieval_space_retrieval_true.npy', recall_start_space_recall_perm)"
   ]
  }
 ],
 "metadata": {
  "kernelspec": {
   "display_name": "Python 3 (ipykernel)",
   "language": "python",
   "name": "python3"
  },
  "language_info": {
   "codemirror_mode": {
    "name": "ipython",
    "version": 3
   },
   "file_extension": ".py",
   "mimetype": "text/x-python",
   "name": "python",
   "nbconvert_exporter": "python",
   "pygments_lexer": "ipython3",
   "version": "3.8.10"
  }
 },
 "nbformat": 4,
 "nbformat_minor": 5
}
